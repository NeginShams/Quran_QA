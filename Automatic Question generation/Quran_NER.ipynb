{
  "nbformat": 4,
  "nbformat_minor": 0,
  "metadata": {
    "colab": {
      "provenance": []
    },
    "kernelspec": {
      "name": "python3",
      "display_name": "Python 3"
    },
    "language_info": {
      "name": "python"
    }
  },
  "cells": [
    {
      "cell_type": "code",
      "source": [
        "from google.colab import drive\n",
        "drive.mount('/content/drive/')"
      ],
      "metadata": {
        "id": "_J6pEifsuWcl",
        "colab": {
          "base_uri": "https://localhost:8080/"
        },
        "outputId": "bd2baa9a-525f-49eb-c705-7b1a0df7a80e"
      },
      "execution_count": null,
      "outputs": [
        {
          "output_type": "stream",
          "name": "stdout",
          "text": [
            "Mounted at /content/drive/\n"
          ]
        }
      ]
    },
    {
      "cell_type": "code",
      "source": [
        "import os\n",
        "import re\n",
        "import sys\n",
        "from bs4 import BeautifulSoup\n",
        "import csv"
      ],
      "metadata": {
        "id": "ZJbKdOxJvyV0"
      },
      "execution_count": null,
      "outputs": []
    },
    {
      "cell_type": "markdown",
      "source": [
        "# Person"
      ],
      "metadata": {
        "id": "SNn9P1CuXcKr"
      }
    },
    {
      "cell_type": "code",
      "source": [
        "wikipedia_people_farsi = ['آدم', 'آزر', 'ابراهیم', 'ابلیس', ' شیطان', 'ابولهب', 'ابو لهب', 'احمد', 'ادریس', 'اسحاق',\n",
        "                       'بنی اسرائیل', 'اسماعیل', 'الیاس', 'یسع', 'ایوب', ' تبع ', 'جالوت', 'جبرئیل', 'داوود', 'داود',\n",
        "                       'ذوالقرنین', 'ذوالکفل', 'زکریا', 'زید', 'سلیمان', 'سامری', 'شعیب', 'صالح', 'فرعون',\n",
        "                       'طالوت', 'عزیر', 'عزیز مصر' 'عمران', 'آل عمران' 'عیسی', 'قارون', 'لقمان', 'لوط', 'محمد', 'مریم', 'موسی', 'میکائیل',\n",
        "                       'هارون', 'هامان', 'هود', 'یحیی', 'یوسف', 'یونس', 'یعقوب', 'زلیخا']\n",
        "\n",
        "extra_people_name = ['خواهر موسی', 'پسر نوح', 'فرزند نوح', 'اسباط', 'نوادگان', 'برادران یوسف',\n",
        "                     'همسر عزیز', 'همسر لوط', 'بلقیس', 'ثمود', 'حواریون', 'حواریان', 'سواع', ' عزی ',\n",
        "                     'لات', 'ماروت', 'مالک دوزخ', 'مالک جهنم', 'منات', 'مناه', 'نسر', 'نصرانی', 'هاروت',\n",
        "                     'یاجوج و ماجوج', 'يأجوج ومأجوج', 'یسع', 'ملکه سبا', 'اصحاب کهف', 'مادر موسی', 'هاروت و ماروت',\n",
        "                     ' جن ', 'جنیان', 'اجنه', 'فرشته مرگ', 'عزرائیل', ' پادشاه', 'قوم سبا', 'پادشاهان',\n",
        "                     'قوم لوط', 'قوم تبع', 'قوم ثمود', 'قوم عاد', 'فرزندان آدم', 'نگهبانان دوزخ',\n",
        "                     'مهاجرین', 'مهاجرین', 'انصار', 'اصحاب فیل', 'اصحاب الرسّ', 'قریش', ''\n",
        "                     ]\n",
        "\n",
        "\n",
        "people = wikipedia_people_farsi + extra_people_name\n",
        "\n",
        "\n",
        "# find verses containing the named entities\n",
        "# with open('/content/drive/MyDrive/makarem.xml', 'r', encoding=\"utf8\") as f:\n",
        "#     content = f.read()\n",
        "\n",
        "# soup= BeautifulSoup(content, 'xml')\n",
        "\n",
        "# dict_data_list = []\n",
        "\n",
        "# for entity in people:\n",
        "#   verses = soup.find_all(\"s\")\n",
        "#   for verse in verses:\n",
        "#     context = re.sub(\"[\\(\\[].*?[\\)\\]]\", \"\", verse.contents[0])\n",
        "#     if entity in context:\n",
        "#       data_dict = {}\n",
        "#       data_dict['context'] = context\n",
        "#       data_dict['verse_id'] = verse.get('id')\n",
        "#       data_dict['answer'] = entity\n",
        "#       data_dict['entity_type'] = 'people'\n",
        "#       dict_data_list.append(data_dict)\n",
        "\n",
        "\n",
        "# keys = dict_data_list[0].keys()\n",
        "# a_file = open(\"/content/drive/MyDrive/quran_named_entities/people.csv\", \"w\", encoding='utf-8-sig')\n",
        "# dict_writer = csv.DictWriter(a_file, keys)\n",
        "# dict_writer.writeheader()\n",
        "# dict_writer.writerows(dict_data_list)\n",
        "# a_file.close()"
      ],
      "metadata": {
        "id": "HsVdHsVw6IeE"
      },
      "execution_count": null,
      "outputs": []
    },
    {
      "cell_type": "markdown",
      "source": [
        "# locations"
      ],
      "metadata": {
        "id": "EBOsnxcW4aEs"
      }
    },
    {
      "cell_type": "code",
      "source": [
        "towns = [' روم ', ' مصر ', 'بابل', 'مکه', 'مکّه', ' بکه ', 'مدینه',\n",
        "         ' مدین ', 'احقاف', 'یثرب', 'عرفات']\n",
        "\n",
        "geographic_locations = ['کوه طور', 'کوه صفا و مروه', ' صفا ', 'مروه',\n",
        "                     'غار کهف', 'رود نیل', 'مجمع البحرین', 'محل تلاقي آن دو دريا',\n",
        "                      'صفا و مروه', 'سرزمین سبا', 'کوه جودی'\n",
        "                     ]\n",
        "\n",
        "mosques = ['مسجد الحرام', 'مسجد الاقصی', 'مسجد ضرار', 'مساجد','کلیسا',\n",
        "           'مسجدها']\n",
        "\n",
        "other_places = [' بهشت ', ' جهنم ', ' دوزخ ', 'باغهای بهشت برین', 'بهشتهای جاودان',\n",
        "                'سدرة المنتهی', 'سلسبيل', 'صومعه‌ها', 'معابد', 'درخت زقّوم']\n",
        "\n",
        "locations = towns + geographic_locations + mosques + other_places\n"
      ],
      "metadata": {
        "id": "vyc-pKpdYZDy"
      },
      "execution_count": null,
      "outputs": []
    },
    {
      "cell_type": "markdown",
      "source": [
        "# animals"
      ],
      "metadata": {
        "id": "V1tj8HfOdqnt"
      }
    },
    {
      "cell_type": "code",
      "source": [
        "animals = ['درازگوش', 'الاغ', 'دراز گوش', 'خران', 'گاو',\n",
        "           'پشه', ' مار ', 'ملخ', ' شتر ', 'شترها', 'شتر ها', 'نهنگ', 'ماهی',\n",
        "           'اسب', 'خوک', 'مگس', 'گرگ', 'پرنده', 'گوساله', ' بره ', 'قورباغه',\n",
        "           'وزغ', 'بلدرچین', 'عنکبوت', 'پروانه', 'میمون', 'بوزینه', ' سگ ', ' بز ',\n",
        "           'زنبور', 'مورچه', 'هدهد', ' فیل ', 'کلاغ', 'زاغ', 'جنبنده',\n",
        "           'زنبور'\n",
        "           ]\n"
      ],
      "metadata": {
        "id": "UzF7KUNYdm6X"
      },
      "execution_count": null,
      "outputs": []
    },
    {
      "cell_type": "markdown",
      "source": [
        "# Numbers"
      ],
      "metadata": {
        "id": "EmR6VGtsFgIv"
      }
    },
    {
      "cell_type": "code",
      "source": [
        "integers = [' یک ', ' دو ', 'سه', 'چهار', 'پنج', ' شش ',\n",
        "           'هفت', ' هشت ', ' نه ', ' ده ', 'یازده', 'دوازده', 'نوزده',\n",
        "           'بیست', ' سی ', 'چهل', 'پنجاه', 'شصت', 'هفتاد', 'هشتاد',\n",
        "           'نود و نه', ' صد ', 'دویست', 'سیصد', 'نهصد و پنجاه', 'هزار',\n",
        "           'دو هزار', 'سه هزار', 'پنج هزار', 'پنجاه هزار', 'صد هزار',\n",
        "           ]\n",
        "\n",
        "fractionals = ['يك دوم', 'نصف', 'يك سوم', 'يك چهارم', 'يك پنجم',\n",
        "               'يك ششم', 'دو سوم', 'يك دهم',\n",
        "               ]\n",
        "\n",
        "\n",
        "numbers = integers + fractionals\n",
        "\n"
      ],
      "metadata": {
        "id": "LrX-OwYuFipd"
      },
      "execution_count": null,
      "outputs": []
    },
    {
      "cell_type": "markdown",
      "source": [
        "# colors"
      ],
      "metadata": {
        "id": "Cvgkru9wCoOb"
      }
    },
    {
      "cell_type": "code",
      "source": [
        "colors = ['سبز', 'قرمز', 'سرخ', 'سفید',\n",
        "          'سپید', 'سیاه', 'زرد يكدست', 'رنگ خدایی',\n",
        "          ]"
      ],
      "metadata": {
        "id": "eApAehmOCqXu"
      },
      "execution_count": null,
      "outputs": []
    },
    {
      "cell_type": "markdown",
      "source": [
        "# Holy Books"
      ],
      "metadata": {
        "id": "A-02J2C7HfZb"
      }
    },
    {
      "cell_type": "code",
      "source": [
        "books = ['قرآن', 'تورات', 'انجیل', 'زبور']"
      ],
      "metadata": {
        "id": "1iPQMOnCLXGe"
      },
      "execution_count": null,
      "outputs": []
    },
    {
      "cell_type": "markdown",
      "source": [
        "# Religions"
      ],
      "metadata": {
        "id": "NkZNwbgbSu-5"
      }
    },
    {
      "cell_type": "code",
      "source": [
        "religions = ['اسلام', 'مسیحیت', 'یهود', 'یهودیت',\n",
        "             'نصرانیت', 'صابئین', 'مجوس']"
      ],
      "metadata": {
        "id": "lGBr4MJiUXdY"
      },
      "execution_count": null,
      "outputs": []
    },
    {
      "cell_type": "markdown",
      "source": [
        "# Food and Drinks"
      ],
      "metadata": {
        "id": "kUVFJNtuVT3m"
      }
    },
    {
      "cell_type": "code",
      "source": [
        "foods = ['انار', 'انجیر', 'خرما', 'زیتون',\n",
        "         'میوه', 'سیر', 'عدس', 'پیاز', 'رطب', 'انگور',\n",
        "         'عسل', 'گوشت', 'ماهی', 'کدو', 'نان', 'خيار', 'شیر',\n",
        "         'شراب', 'آب',\n",
        "         ]"
      ],
      "metadata": {
        "id": "LgSQlcevWXHt"
      },
      "execution_count": null,
      "outputs": []
    },
    {
      "cell_type": "markdown",
      "source": [
        "# Events"
      ],
      "metadata": {
        "id": "Qe1AZ775oBKy"
      }
    },
    {
      "cell_type": "code",
      "source": [
        "events = ['قیامت', 'روز قیامت', 'حادثه کوبنده', 'روز بزرگ',\n",
        "          'روز واقع شدنی', 'رستاخیز', 'غاشیه', 'آخرت',\n",
        "          'روز نزدیک', 'روز تغابن', 'روز ملاقات', 'روز اجتماع',\n",
        "          'روز حساب', 'روز حسرت', 'روز حق', 'روز خروج', 'روز جاودانگی',\n",
        "          'روز جزا', 'روز جدایی', 'روز عبوس و سخت', 'روز سخت', 'روز بزرگ',\n",
        "          'روز عقیم', 'روز فراگیر', 'روز مشهود', 'نفخ صور',\n",
        "          ]"
      ],
      "metadata": {
        "id": "HcEvHs1noIoX"
      },
      "execution_count": null,
      "outputs": []
    },
    {
      "cell_type": "markdown",
      "source": [
        "# Astronomical Bodies"
      ],
      "metadata": {
        "id": "puyZvAcQNkQK"
      }
    },
    {
      "cell_type": "code",
      "source": [
        "astronomical = ['زمین', 'آسمان', 'ستارگان', 'ستاره', 'ماه', 'خورشید'\n",
        "                ]"
      ],
      "metadata": {
        "id": "EQpmqrSsNwpG"
      },
      "execution_count": null,
      "outputs": []
    },
    {
      "cell_type": "markdown",
      "source": [
        "# others"
      ],
      "metadata": {
        "id": "4kIfsW8jV3wt"
      }
    },
    {
      "cell_type": "code",
      "source": [
        "others = ['بت‌ها', ' بت ', 'باران', 'عصا', 'کشتی', 'آب', 'چوب',\n",
        "          'سنگ', 'خانه', 'لباس']"
      ],
      "metadata": {
        "id": "RiyVn7u4V7nR"
      },
      "execution_count": null,
      "outputs": []
    },
    {
      "cell_type": "markdown",
      "source": [
        "### write to csv files"
      ],
      "metadata": {
        "id": "OXku1GSfZVaD"
      }
    },
    {
      "cell_type": "code",
      "source": [
        "# entities = []\n",
        "# entities.extend([people, animals, locations, numbers,\n",
        "#                  colors, books, religions, foods, events,\n",
        "#                  astronomical, othres])\n",
        "\n",
        "\n",
        "entity_dict = {'people':people, 'animals':animals, 'locations':locations,\n",
        "               'numbers':numbers, 'colors':colors, 'books':books,\n",
        "               'religions':religions, 'foods':foods, 'events':events,\n",
        "               'astronomical':astronomical, 'othres':others\n",
        "               }\n",
        "\n",
        "\n",
        "with open('/content/drive/MyDrive/makarem.xml', 'r', encoding=\"utf8\") as f:\n",
        "    content = f.read()\n",
        "soup= BeautifulSoup(content, 'xml')\n",
        "\n",
        "for key, value in entity_dict.items():\n",
        "  dict_data_list = []\n",
        "  for entity in value:\n",
        "    verses = soup.find_all(\"s\")\n",
        "    for verse in verses:\n",
        "      context = re.sub(\"[\\(\\[].*?[\\)\\]]\", \"\", verse.contents[0])\n",
        "      if entity in context:\n",
        "        data_dict = {}\n",
        "        data_dict['context'] = context\n",
        "        data_dict['verse_id'] = verse.get('id')\n",
        "        data_dict['answer'] = entity\n",
        "        data_dict['entity_type'] = key\n",
        "        dict_data_list.append(data_dict)\n",
        "\n",
        "\n",
        "  keys = dict_data_list[0].keys()\n",
        "  path = '/content/drive/MyDrive/quran_named_entities/' + key + '.csv'\n",
        "  a_file = open(path, \"w\", encoding='utf-8-sig')\n",
        "  dict_writer = csv.DictWriter(a_file, keys)\n",
        "  dict_writer.writeheader()\n",
        "  dict_writer.writerows(dict_data_list)\n",
        "  a_file.close()"
      ],
      "metadata": {
        "id": "e0X_nJqvZUsT"
      },
      "execution_count": null,
      "outputs": []
    },
    {
      "cell_type": "code",
      "source": [
        "print(len(animals))\n",
        "print(len(locations))\n",
        "print(len(people))"
      ],
      "metadata": {
        "colab": {
          "base_uri": "https://localhost:8080/"
        },
        "id": "G7pVAiUCmr4S",
        "outputId": "61ffe6d3-3f0b-4ce2-8844-87a442206303"
      },
      "execution_count": null,
      "outputs": [
        {
          "output_type": "stream",
          "name": "stdout",
          "text": [
            "37\n",
            "38\n",
            "99\n"
          ]
        }
      ]
    },
    {
      "cell_type": "code",
      "source": [
        "# for each in dict_data_list:\n",
        "#   print(each)\n",
        "#   print(\"%%%%%%%%%%%%%%%%%%%%%%%%%5\")"
      ],
      "metadata": {
        "id": "vdc1tHfEe1sx"
      },
      "execution_count": null,
      "outputs": []
    }
  ]
}