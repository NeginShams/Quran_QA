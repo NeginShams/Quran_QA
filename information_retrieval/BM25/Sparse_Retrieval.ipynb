{
  "nbformat": 4,
  "nbformat_minor": 0,
  "metadata": {
    "colab": {
      "provenance": []
    },
    "kernelspec": {
      "name": "python3",
      "display_name": "Python 3"
    },
    "language_info": {
      "name": "python"
    }
  },
  "cells": [
    {
      "cell_type": "code",
      "source": [
        "from google.colab import drive\n",
        "drive.mount('/content/drive/')"
      ],
      "metadata": {
        "colab": {
          "base_uri": "https://localhost:8080/"
        },
        "id": "58TJxe4CS-92",
        "outputId": "d5e1ddab-32d5-4bd9-f13c-689a25b935ca"
      },
      "execution_count": null,
      "outputs": [
        {
          "output_type": "stream",
          "name": "stdout",
          "text": [
            "Mounted at /content/drive/\n"
          ]
        }
      ]
    },
    {
      "cell_type": "code",
      "source": [
        "%%capture\n",
        "!pip install pyserini==0.22.0\n",
        "!pip install faiss-cpu\n",
        "\n",
        "import os\n",
        "os.environ[\"JAVA_HOME\"] = \"/usr/lib/jvm/java-11-openjdk-amd64\""
      ],
      "metadata": {
        "id": "Sh7AJleXYmkt"
      },
      "execution_count": null,
      "outputs": []
    },
    {
      "cell_type": "code",
      "source": [
        "! pip freeze | grep pyserini"
      ],
      "metadata": {
        "colab": {
          "base_uri": "https://localhost:8080/"
        },
        "id": "aoBqzvZmjWKq",
        "outputId": "f03f0e58-fbcf-4624-8150-54d162efdd03"
      },
      "execution_count": null,
      "outputs": [
        {
          "output_type": "stream",
          "name": "stdout",
          "text": [
            "pyserini==0.22.0\n"
          ]
        }
      ]
    },
    {
      "cell_type": "code",
      "source": [
        "def dump_jsonl(data, output_path, append=False):\n",
        "    \"\"\"\n",
        "    Write list of objects to a JSON lines file.\n",
        "    \"\"\"\n",
        "    mode = 'a+' if append else 'w'\n",
        "    with open(output_path, mode, encoding='utf-8') as f:\n",
        "        for line in data:\n",
        "            json_record = json.dumps(line, ensure_ascii=False)\n",
        "            f.write(json_record + '\\n')\n",
        "    print('Wrote {} records to {}'.format(len(data), output_path))"
      ],
      "metadata": {
        "id": "Mt52NmACUPfF"
      },
      "execution_count": null,
      "outputs": []
    },
    {
      "cell_type": "code",
      "source": [
        "import json\n",
        "import re\n",
        "from bs4 import BeautifulSoup\n",
        "\n",
        "with open('/content/drive/MyDrive/makarem.xml', 'r', encoding=\"utf8\") as f:\n",
        "  content = f.read()\n",
        "\n",
        "soup= BeautifulSoup(content, 'xml')\n",
        "\n",
        "documents = []\n",
        "\n",
        "verses = soup.find_all(\"s\")\n",
        "for verse in verses:\n",
        "  doc_info = {}\n",
        "  doc_info['id'] = verse.get('id')\n",
        "  doc_info['contents'] = re.sub(\"[\\(\\[].*?[\\)\\]]\", \"\", verse.contents[0])\n",
        "  documents.append(doc_info)\n",
        "\n",
        "output_path = '/content/drive/MyDrive/documents.jsonl'\n",
        "dump_jsonl(documents, output_path)"
      ],
      "metadata": {
        "colab": {
          "base_uri": "https://localhost:8080/"
        },
        "id": "jkA_rXLbP3TN",
        "outputId": "adfab5ef-c60d-449c-df23-aac9babe4df5"
      },
      "execution_count": null,
      "outputs": [
        {
          "output_type": "stream",
          "name": "stdout",
          "text": [
            "Wrote 6236 records to /content/drive/MyDrive/documents.jsonl\n"
          ]
        }
      ]
    },
    {
      "cell_type": "markdown",
      "source": [
        "index construction"
      ],
      "metadata": {
        "id": "YKfJZu1DJJF-"
      }
    },
    {
      "cell_type": "code",
      "source": [
        "! python -m pyserini.index.lucene \\\n",
        "  --collection JsonCollection \\\n",
        "  --input /content/drive/MyDrive/tests/resources/sample_collection_jsonl \\\n",
        "  --language fa \\\n",
        "  --index /content/drive/MyDrive/indexes/sample_collection_jsonl \\\n",
        "  --generator DefaultLuceneDocumentGenerator \\\n",
        "  --threads 1 \\\n",
        "  --storePositions --storeDocvectors --storeRaw"
      ],
      "metadata": {
        "colab": {
          "base_uri": "https://localhost:8080/"
        },
        "id": "vSnVgsN2PfmV",
        "outputId": "45648b95-10de-49f7-d8f1-48e39f1899c1"
      },
      "execution_count": null,
      "outputs": [
        {
          "output_type": "stream",
          "name": "stdout",
          "text": [
            "WARNING: sun.reflect.Reflection.getCallerClass is not supported. This will impact performance.\n",
            "2023-10-10 05:58:17,129 INFO  [main] index.IndexCollection (IndexCollection.java:380) - Setting log level to INFO\n",
            "2023-10-10 05:58:17,131 INFO  [main] index.IndexCollection (IndexCollection.java:383) - Starting indexer...\n",
            "2023-10-10 05:58:17,131 INFO  [main] index.IndexCollection (IndexCollection.java:384) - ============ Loading Parameters ============\n",
            "2023-10-10 05:58:17,131 INFO  [main] index.IndexCollection (IndexCollection.java:385) - DocumentCollection path: /content/drive/MyDrive/tests/resources/sample_collection_jsonl\n",
            "2023-10-10 05:58:17,132 INFO  [main] index.IndexCollection (IndexCollection.java:386) - CollectionClass: JsonCollection\n",
            "2023-10-10 05:58:17,132 INFO  [main] index.IndexCollection (IndexCollection.java:387) - Generator: DefaultLuceneDocumentGenerator\n",
            "2023-10-10 05:58:17,133 INFO  [main] index.IndexCollection (IndexCollection.java:388) - Threads: 1\n",
            "2023-10-10 05:58:17,133 INFO  [main] index.IndexCollection (IndexCollection.java:389) - Language: fa\n",
            "2023-10-10 05:58:17,134 INFO  [main] index.IndexCollection (IndexCollection.java:390) - Stemmer: porter\n",
            "2023-10-10 05:58:17,134 INFO  [main] index.IndexCollection (IndexCollection.java:391) - Keep stopwords? false\n",
            "2023-10-10 05:58:17,135 INFO  [main] index.IndexCollection (IndexCollection.java:392) - Stopwords: null\n",
            "2023-10-10 05:58:17,135 INFO  [main] index.IndexCollection (IndexCollection.java:393) - Store positions? true\n",
            "2023-10-10 05:58:17,136 INFO  [main] index.IndexCollection (IndexCollection.java:394) - Store docvectors? true\n",
            "2023-10-10 05:58:17,136 INFO  [main] index.IndexCollection (IndexCollection.java:395) - Store document \"contents\" field? false\n",
            "2023-10-10 05:58:17,137 INFO  [main] index.IndexCollection (IndexCollection.java:396) - Store document \"raw\" field? true\n",
            "2023-10-10 05:58:17,137 INFO  [main] index.IndexCollection (IndexCollection.java:397) - Additional fields to index: []\n",
            "2023-10-10 05:58:17,138 INFO  [main] index.IndexCollection (IndexCollection.java:398) - Optimize (merge segments)? false\n",
            "2023-10-10 05:58:17,138 INFO  [main] index.IndexCollection (IndexCollection.java:399) - Whitelist: null\n",
            "2023-10-10 05:58:17,139 INFO  [main] index.IndexCollection (IndexCollection.java:400) - Pretokenized?: false\n",
            "2023-10-10 05:58:17,139 INFO  [main] index.IndexCollection (IndexCollection.java:401) - Index path: /content/drive/MyDrive/indexes/sample_collection_jsonl\n",
            "2023-10-10 05:58:17,151 INFO  [main] index.IndexCollection (IndexCollection.java:481) - ============ Indexing Collection ============\n",
            "2023-10-10 05:58:17,179 INFO  [main] index.IndexCollection (IndexCollection.java:459) - Using language-specific analyzer\n",
            "2023-10-10 05:58:17,180 INFO  [main] index.IndexCollection (IndexCollection.java:460) - Language: fa\n",
            "2023-10-10 05:58:17,424 INFO  [main] index.IndexCollection (IndexCollection.java:510) - Thread pool with 1 threads initialized.\n",
            "2023-10-10 05:58:17,426 INFO  [main] index.IndexCollection (IndexCollection.java:512) - Initializing collection in /content/drive/MyDrive/tests/resources/sample_collection_jsonl\n",
            "2023-10-10 05:58:17,431 INFO  [main] index.IndexCollection (IndexCollection.java:521) - 1 file found\n",
            "2023-10-10 05:58:17,432 INFO  [main] index.IndexCollection (IndexCollection.java:522) - Starting to index...\n",
            "2023-10-10 05:58:19,346 DEBUG [pool-2-thread-1] index.IndexCollection$LocalIndexerThread (IndexCollection.java:345) - sample_collection_jsonl/documents.jsonl: 6236 docs added.\n",
            "2023-10-10 05:58:20,003 INFO  [main] index.IndexCollection (IndexCollection.java:578) - Indexing Complete! 6,236 documents indexed\n",
            "2023-10-10 05:58:20,003 INFO  [main] index.IndexCollection (IndexCollection.java:579) - ============ Final Counter Values ============\n",
            "2023-10-10 05:58:20,003 INFO  [main] index.IndexCollection (IndexCollection.java:580) - indexed:            6,236\n",
            "2023-10-10 05:58:20,003 INFO  [main] index.IndexCollection (IndexCollection.java:581) - unindexable:            0\n",
            "2023-10-10 05:58:20,003 INFO  [main] index.IndexCollection (IndexCollection.java:582) - empty:                  0\n",
            "2023-10-10 05:58:20,003 INFO  [main] index.IndexCollection (IndexCollection.java:583) - skipped:                0\n",
            "2023-10-10 05:58:20,004 INFO  [main] index.IndexCollection (IndexCollection.java:584) - errors:                 0\n",
            "2023-10-10 05:58:20,011 INFO  [main] index.IndexCollection (IndexCollection.java:587) - Total 6,236 documents indexed in 00:00:02\n"
          ]
        }
      ]
    },
    {
      "cell_type": "code",
      "source": [
        "from pyserini.search.lucene import LuceneSearcher\n",
        "\n",
        "searcher = LuceneSearcher('/content/drive/MyDrive/indexes/sample_collection_jsonl')\n",
        "searcher.set_language('fa')\n",
        "hits = searcher.search('ابولهب')\n",
        "\n",
        "for i in range(len(hits)):\n",
        "    print(f'{i+1:2} {hits[i].docid:4} {hits[i].score:.5f}')"
      ],
      "metadata": {
        "colab": {
          "base_uri": "https://localhost:8080/"
        },
        "id": "g3mxbNDlIUD4",
        "outputId": "bf41132d-595d-4a2c-b6ad-a94d095da99d"
      },
      "execution_count": null,
      "outputs": [
        {
          "output_type": "stream",
          "name": "stdout",
          "text": [
            " 1 s111.1 4.94470\n"
          ]
        }
      ]
    },
    {
      "cell_type": "code",
      "source": [
        "! python -m pyserini.search \\\n",
        "    --topics msmarco-passage-dev-subset \\\n",
        "    --index msmarco-v1-passage \\\n",
        "    --output run.msmarco-passage.txt \\\n",
        "    --output-format msmarco \\\n",
        "    --bm25\n"
      ],
      "metadata": {
        "colab": {
          "base_uri": "https://localhost:8080/"
        },
        "id": "sTcgnEI8hZev",
        "outputId": "9ba4e0a2-226e-440f-f239-0346b487782c"
      },
      "execution_count": null,
      "outputs": [
        {
          "output_type": "stream",
          "name": "stdout",
          "text": [
            "WARNING: directly calling pyserini.search is deprecated, please use pyserini.search.lucene instead\n",
            "Using pre-defined topic order for msmarco-passage-dev-subset\n",
            "Attempting to initialize pre-built index msmarco-v1-passage.\n",
            "Downloading index at https://rgw.cs.uwaterloo.ca/JIMMYLIN-bucket0/pyserini-indexes/lucene-index.msmarco-v1-passage.20220131.9ea315.tar.gz...\n",
            "lucene-index.msmarco-v1-passage.20220131.9ea315.tar.gz:  22% 450M/2.03G [00:07<00:20, 81.8MB/s]"
          ]
        }
      ]
    },
    {
      "cell_type": "code",
      "source": [
        "!python -m pyserini.index.lucene \\\n",
        "  --collection JsonCollection \\\n",
        "  --input tests/resources/sample_collection_jsonl \\\n",
        "  --index indexes/sample_collection_jsonl \\\n",
        "  --generator DefaultLuceneDocumentGenerator \\\n",
        "  --threads 1 \\\n",
        "  --storePositions --storeDocvectors --storeRaw"
      ],
      "metadata": {
        "colab": {
          "base_uri": "https://localhost:8080/"
        },
        "id": "ZPLoMmu7g6tg",
        "outputId": "3fd7fa79-ef4a-40f6-9add-7a56598eab4a"
      },
      "execution_count": null,
      "outputs": [
        {
          "output_type": "stream",
          "name": "stdout",
          "text": [
            "WARNING: sun.reflect.Reflection.getCallerClass is not supported. This will impact performance.\n",
            "2023-10-09 16:02:49,941 INFO  [main] index.IndexCollection (IndexCollection.java:645) - Setting log level to INFO\n",
            "2023-10-09 16:02:49,945 INFO  [main] index.IndexCollection (IndexCollection.java:648) - Starting indexer...\n",
            "2023-10-09 16:02:49,945 INFO  [main] index.IndexCollection (IndexCollection.java:649) - ============ Loading Parameters ============\n",
            "2023-10-09 16:02:49,946 INFO  [main] index.IndexCollection (IndexCollection.java:650) - DocumentCollection path: tests/resources/sample_collection_jsonl\n",
            "2023-10-09 16:02:49,948 INFO  [main] index.IndexCollection (IndexCollection.java:651) - CollectionClass: JsonCollection\n",
            "2023-10-09 16:02:49,949 INFO  [main] index.IndexCollection (IndexCollection.java:652) - Generator: DefaultLuceneDocumentGenerator\n",
            "2023-10-09 16:02:49,949 INFO  [main] index.IndexCollection (IndexCollection.java:653) - Threads: 1\n",
            "2023-10-09 16:02:49,950 INFO  [main] index.IndexCollection (IndexCollection.java:654) - Language: en\n",
            "2023-10-09 16:02:49,950 INFO  [main] index.IndexCollection (IndexCollection.java:655) - Stemmer: porter\n",
            "2023-10-09 16:02:49,951 INFO  [main] index.IndexCollection (IndexCollection.java:656) - Keep stopwords? false\n",
            "2023-10-09 16:02:49,951 INFO  [main] index.IndexCollection (IndexCollection.java:657) - Stopwords: null\n",
            "2023-10-09 16:02:49,952 INFO  [main] index.IndexCollection (IndexCollection.java:658) - Store positions? true\n",
            "2023-10-09 16:02:49,952 INFO  [main] index.IndexCollection (IndexCollection.java:659) - Store docvectors? true\n",
            "2023-10-09 16:02:49,952 INFO  [main] index.IndexCollection (IndexCollection.java:660) - Store document \"contents\" field? false\n",
            "2023-10-09 16:02:49,953 INFO  [main] index.IndexCollection (IndexCollection.java:661) - Store document \"raw\" field? true\n",
            "2023-10-09 16:02:49,953 INFO  [main] index.IndexCollection (IndexCollection.java:662) - Additional fields to index: []\n",
            "2023-10-09 16:02:49,954 INFO  [main] index.IndexCollection (IndexCollection.java:663) - Optimize (merge segments)? false\n",
            "2023-10-09 16:02:49,954 INFO  [main] index.IndexCollection (IndexCollection.java:664) - Whitelist: null\n",
            "2023-10-09 16:02:49,955 INFO  [main] index.IndexCollection (IndexCollection.java:665) - Pretokenized?: false\n",
            "2023-10-09 16:02:49,955 INFO  [main] index.IndexCollection (IndexCollection.java:685) - Directly building Lucene indexes...\n",
            "2023-10-09 16:02:49,955 INFO  [main] index.IndexCollection (IndexCollection.java:686) - Index path: indexes/sample_collection_jsonl\n",
            "Traceback (most recent call last):\n",
            "  File \"/usr/lib/python3.10/runpy.py\", line 196, in _run_module_as_main\n",
            "    return _run_code(code, main_globals, None,\n",
            "  File \"/usr/lib/python3.10/runpy.py\", line 86, in _run_code\n",
            "    exec(code, run_globals)\n",
            "  File \"/usr/local/lib/python3.10/dist-packages/pyserini/index/lucene/__main__.py\", line 36, in <module>\n",
            "    JIndexCollection.main(args)\n",
            "  File \"jnius/jnius_export_class.pxi\", line 876, in jnius.JavaMethod.__call__\n",
            "  File \"jnius/jnius_export_class.pxi\", line 1059, in jnius.JavaMethod.call_staticmethod\n",
            "  File \"jnius/jnius_utils.pxi\", line 79, in jnius.check_exception\n",
            "jnius.JavaException: JVM exception occurred: Document directory tests/resources/sample_collection_jsonl does not exist or is not readable, please check the path java.lang.RuntimeException\n"
          ]
        }
      ]
    },
    {
      "cell_type": "code",
      "source": [
        "!python -m pyserini.search.lucene \\\n",
        "  --threads 16 \\\n",
        "  --batch-size 512 \\\n",
        "  --index wikipedia-dpr-100w \\\n",
        "  --topics dpr-trivia-test \\\n",
        "  --output run.odqa.BM25-k1_0.9_b_0.4.dpr-trivia-test.hits-100.txt \\\n",
        "  --bm25 --k1 0.9 --b 0.4 \\\n",
        "  --hits 100"
      ],
      "metadata": {
        "colab": {
          "base_uri": "https://localhost:8080/"
        },
        "id": "ZVNr7VFeiJhI",
        "outputId": "4c9cae4f-9599-4bb7-dff3-c611411efc13"
      },
      "execution_count": null,
      "outputs": [
        {
          "output_type": "stream",
          "name": "stdout",
          "text": [
            "Attempting to initialize pre-built index wikipedia-dpr-100w.\n",
            "Unrecognized index name wikipedia-dpr-100w\n"
          ]
        }
      ]
    }
  ]
}