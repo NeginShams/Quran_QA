{
  "nbformat": 4,
  "nbformat_minor": 0,
  "metadata": {
    "colab": {
      "provenance": []
    },
    "kernelspec": {
      "name": "python3",
      "display_name": "Python 3"
    },
    "language_info": {
      "name": "python"
    }
  },
  "cells": [
    {
      "cell_type": "code",
      "source": [
        "import json"
      ],
      "metadata": {
        "id": "uM7DtSbKExCO"
      },
      "execution_count": null,
      "outputs": []
    },
    {
      "cell_type": "code",
      "execution_count": null,
      "metadata": {
        "colab": {
          "base_uri": "https://localhost:8080/"
        },
        "id": "BsNMU8ZNUvhK",
        "outputId": "bec5fb07-aa55-4baa-a9c8-74c5c565ec2a"
      },
      "outputs": [
        {
          "output_type": "stream",
          "name": "stdout",
          "text": [
            "Mounted at /content/drive\n"
          ]
        }
      ],
      "source": [
        "from google.colab import drive\n",
        "drive.mount('/content/drive')"
      ]
    },
    {
      "cell_type": "code",
      "source": [
        "!pip install deep-translator"
      ],
      "metadata": {
        "colab": {
          "base_uri": "https://localhost:8080/"
        },
        "id": "_jWATAgmDoM9",
        "outputId": "ffa30fad-4884-4938-f821-c3c74d3e57f4"
      },
      "execution_count": null,
      "outputs": [
        {
          "output_type": "stream",
          "name": "stdout",
          "text": [
            "Collecting deep-translator\n",
            "  Downloading deep_translator-1.11.4-py3-none-any.whl (42 kB)\n",
            "\u001b[?25l     \u001b[90m━━━━━━━━━━━━━━━━━━━━━━━━━━━━━━━━━━━━━━━━\u001b[0m \u001b[32m0.0/42.3 kB\u001b[0m \u001b[31m?\u001b[0m eta \u001b[36m-:--:--\u001b[0m\r\u001b[2K     \u001b[90m━━━━━━━━━━━━━━━━━━━━━━━━━━━━━━━━━━━━━━━━\u001b[0m \u001b[32m42.3/42.3 kB\u001b[0m \u001b[31m1.6 MB/s\u001b[0m eta \u001b[36m0:00:00\u001b[0m\n",
            "\u001b[?25hRequirement already satisfied: beautifulsoup4<5.0.0,>=4.9.1 in /usr/local/lib/python3.10/dist-packages (from deep-translator) (4.11.2)\n",
            "Requirement already satisfied: requests<3.0.0,>=2.23.0 in /usr/local/lib/python3.10/dist-packages (from deep-translator) (2.31.0)\n",
            "Requirement already satisfied: soupsieve>1.2 in /usr/local/lib/python3.10/dist-packages (from beautifulsoup4<5.0.0,>=4.9.1->deep-translator) (2.5)\n",
            "Requirement already satisfied: charset-normalizer<4,>=2 in /usr/local/lib/python3.10/dist-packages (from requests<3.0.0,>=2.23.0->deep-translator) (3.3.0)\n",
            "Requirement already satisfied: idna<4,>=2.5 in /usr/local/lib/python3.10/dist-packages (from requests<3.0.0,>=2.23.0->deep-translator) (3.4)\n",
            "Requirement already satisfied: urllib3<3,>=1.21.1 in /usr/local/lib/python3.10/dist-packages (from requests<3.0.0,>=2.23.0->deep-translator) (2.0.7)\n",
            "Requirement already satisfied: certifi>=2017.4.17 in /usr/local/lib/python3.10/dist-packages (from requests<3.0.0,>=2.23.0->deep-translator) (2023.7.22)\n",
            "Installing collected packages: deep-translator\n",
            "Successfully installed deep-translator-1.11.4\n"
          ]
        }
      ]
    },
    {
      "cell_type": "code",
      "source": [
        "def dump_jsonl(data, output_path, append=False):\n",
        "    \"\"\"\n",
        "    Write list of objects to a JSON lines file.\n",
        "    \"\"\"\n",
        "    mode = 'a+' if append else 'w'\n",
        "    with open(output_path, mode, encoding='utf-8') as f:\n",
        "        for line in data:\n",
        "            json_record = json.dumps(line, ensure_ascii=False)\n",
        "            f.write(json_record + '\\n')\n",
        "    print('Wrote {} records to {}'.format(len(data), output_path))\n"
      ],
      "metadata": {
        "id": "E_6GUMpyE2JA"
      },
      "execution_count": null,
      "outputs": []
    },
    {
      "cell_type": "markdown",
      "source": [
        "reading dataset"
      ],
      "metadata": {
        "id": "wX5jOqk1ID_1"
      }
    },
    {
      "cell_type": "markdown",
      "source": [
        "# using back-translation technique for data augmentation"
      ],
      "metadata": {
        "id": "aOmwl03DMbqY"
      }
    },
    {
      "cell_type": "code",
      "source": [
        "from deep_translator import GoogleTranslator\n",
        "\n",
        "farsi_to_english_translator = GoogleTranslator(source='fa',target='en')\n",
        "english_to_farsi_translator = GoogleTranslator(source='en',target='fa')\n",
        "\n",
        "augmented_data = []\n",
        "data = []\n",
        "\n",
        "with open('/content/drive/MyDrive/temp_v3.jsonl', 'r') as json_file:\n",
        "    json_list = list(json_file)\n",
        "\n",
        "for json_str in json_list:\n",
        "    result = json.loads(json_str)\n",
        "    data.append(result)\n",
        "\n",
        "    english_question = farsi_to_english_translator.translate(result['question'])\n",
        "    reformed_question = english_to_farsi_translator.translate(english_question)\n",
        "\n",
        "    new_data = {}\n",
        "    new_data['question'] = reformed_question\n",
        "    new_data['context'] = result['context']\n",
        "    new_data['pq_id'] = result['pq_id']\n",
        "    new_data['answers'] = result['answers']\n",
        "\n",
        "    augmented_data.append(new_data)\n",
        "\n",
        "final_data = data + augmented_data\n"
      ],
      "metadata": {
        "id": "b6l3TYvLD6BP"
      },
      "execution_count": null,
      "outputs": []
    },
    {
      "cell_type": "code",
      "source": [
        "output_path = '/content/drive/MyDrive/backtranslated.jsonl'\n",
        "dump_jsonl(augmented_data, output_path)"
      ],
      "metadata": {
        "colab": {
          "base_uri": "https://localhost:8080/"
        },
        "id": "b91jiDSOn_1t",
        "outputId": "98fde9ba-bdca-4317-a3fc-ae01ddf45c47"
      },
      "execution_count": null,
      "outputs": [
        {
          "output_type": "stream",
          "name": "stdout",
          "text": [
            "Wrote 2088 records to /content/drive/MyDrive/backtranslated.jsonl\n"
          ]
        }
      ]
    },
    {
      "cell_type": "code",
      "source": [
        "output_path = '/content/drive/MyDrive/AugmentedDataset.jsonl'\n",
        "dump_jsonl(final_data, output_path)"
      ],
      "metadata": {
        "id": "tTpAxInSMZfA",
        "colab": {
          "base_uri": "https://localhost:8080/"
        },
        "outputId": "3f5f599b-c3a0-4c7c-ee12-6a5ab527a893"
      },
      "execution_count": null,
      "outputs": [
        {
          "output_type": "stream",
          "name": "stdout",
          "text": [
            "Wrote 4176 records to /content/drive/MyDrive/AugmentedDataset.jsonl\n"
          ]
        }
      ]
    },
    {
      "cell_type": "code",
      "source": [
        "for each in augmented_data:\n",
        "  print(each['question'])"
      ],
      "metadata": {
        "id": "sEzlynFlUfzY"
      },
      "execution_count": null,
      "outputs": []
    },
    {
      "cell_type": "code",
      "source": [
        "with open('/content/drive/MyDrive/aug_train.json', 'w') as f:\n",
        "   json.dump(final_data[:3340], f)\n",
        "\n",
        "with open('/content/drive/MyDrive/aug_dev.json', 'w') as f:\n",
        "   json.dump(final_data[3340:], f)"
      ],
      "metadata": {
        "id": "y7qRY26dcAyY"
      },
      "execution_count": null,
      "outputs": []
    }
  ]
}