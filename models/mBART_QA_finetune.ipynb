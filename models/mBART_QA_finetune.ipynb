{
  "nbformat": 4,
  "nbformat_minor": 0,
  "metadata": {
    "colab": {
      "provenance": [],
      "gpuType": "T4"
    },
    "kernelspec": {
      "name": "python3",
      "display_name": "Python 3"
    },
    "language_info": {
      "name": "python"
    },
    "widgets": {
      "application/vnd.jupyter.widget-state+json": {
        "f040eef65faf4072a51c95ce769afc2c": {
          "model_module": "@jupyter-widgets/controls",
          "model_name": "HBoxModel",
          "model_module_version": "1.5.0",
          "state": {
            "_dom_classes": [],
            "_model_module": "@jupyter-widgets/controls",
            "_model_module_version": "1.5.0",
            "_model_name": "HBoxModel",
            "_view_count": null,
            "_view_module": "@jupyter-widgets/controls",
            "_view_module_version": "1.5.0",
            "_view_name": "HBoxView",
            "box_style": "",
            "children": [
              "IPY_MODEL_a3273230019c4cda81e3051070ee406b",
              "IPY_MODEL_323eb838649a426ab2c6e7482d762aeb",
              "IPY_MODEL_ec07228308d649b4917f42091188d599"
            ],
            "layout": "IPY_MODEL_7db04e9e1e9848bcb54fe195e78e074d"
          }
        },
        "a3273230019c4cda81e3051070ee406b": {
          "model_module": "@jupyter-widgets/controls",
          "model_name": "HTMLModel",
          "model_module_version": "1.5.0",
          "state": {
            "_dom_classes": [],
            "_model_module": "@jupyter-widgets/controls",
            "_model_module_version": "1.5.0",
            "_model_name": "HTMLModel",
            "_view_count": null,
            "_view_module": "@jupyter-widgets/controls",
            "_view_module_version": "1.5.0",
            "_view_name": "HTMLView",
            "description": "",
            "description_tooltip": null,
            "layout": "IPY_MODEL_6cfb14c1e3cf4694a13c0c4527f920c3",
            "placeholder": "​",
            "style": "IPY_MODEL_b50d2003c3034eecb9f64f8ab69882fb",
            "value": "Map: 100%"
          }
        },
        "323eb838649a426ab2c6e7482d762aeb": {
          "model_module": "@jupyter-widgets/controls",
          "model_name": "FloatProgressModel",
          "model_module_version": "1.5.0",
          "state": {
            "_dom_classes": [],
            "_model_module": "@jupyter-widgets/controls",
            "_model_module_version": "1.5.0",
            "_model_name": "FloatProgressModel",
            "_view_count": null,
            "_view_module": "@jupyter-widgets/controls",
            "_view_module_version": "1.5.0",
            "_view_name": "ProgressView",
            "bar_style": "success",
            "description": "",
            "description_tooltip": null,
            "layout": "IPY_MODEL_e4c50cfd39ed410b93aee39521f06a66",
            "max": 17636,
            "min": 0,
            "orientation": "horizontal",
            "style": "IPY_MODEL_ce0acd6ec8fb475dba2feea182dd5f28",
            "value": 17636
          }
        },
        "ec07228308d649b4917f42091188d599": {
          "model_module": "@jupyter-widgets/controls",
          "model_name": "HTMLModel",
          "model_module_version": "1.5.0",
          "state": {
            "_dom_classes": [],
            "_model_module": "@jupyter-widgets/controls",
            "_model_module_version": "1.5.0",
            "_model_name": "HTMLModel",
            "_view_count": null,
            "_view_module": "@jupyter-widgets/controls",
            "_view_module_version": "1.5.0",
            "_view_name": "HTMLView",
            "description": "",
            "description_tooltip": null,
            "layout": "IPY_MODEL_588f985437a5402ba005b990bb420476",
            "placeholder": "​",
            "style": "IPY_MODEL_814773bf3db840e7ae71bf11a19ca9a9",
            "value": " 17636/17636 [00:04&lt;00:00, 2017.08 examples/s]"
          }
        },
        "7db04e9e1e9848bcb54fe195e78e074d": {
          "model_module": "@jupyter-widgets/base",
          "model_name": "LayoutModel",
          "model_module_version": "1.2.0",
          "state": {
            "_model_module": "@jupyter-widgets/base",
            "_model_module_version": "1.2.0",
            "_model_name": "LayoutModel",
            "_view_count": null,
            "_view_module": "@jupyter-widgets/base",
            "_view_module_version": "1.2.0",
            "_view_name": "LayoutView",
            "align_content": null,
            "align_items": null,
            "align_self": null,
            "border": null,
            "bottom": null,
            "display": null,
            "flex": null,
            "flex_flow": null,
            "grid_area": null,
            "grid_auto_columns": null,
            "grid_auto_flow": null,
            "grid_auto_rows": null,
            "grid_column": null,
            "grid_gap": null,
            "grid_row": null,
            "grid_template_areas": null,
            "grid_template_columns": null,
            "grid_template_rows": null,
            "height": null,
            "justify_content": null,
            "justify_items": null,
            "left": null,
            "margin": null,
            "max_height": null,
            "max_width": null,
            "min_height": null,
            "min_width": null,
            "object_fit": null,
            "object_position": null,
            "order": null,
            "overflow": null,
            "overflow_x": null,
            "overflow_y": null,
            "padding": null,
            "right": null,
            "top": null,
            "visibility": null,
            "width": null
          }
        },
        "6cfb14c1e3cf4694a13c0c4527f920c3": {
          "model_module": "@jupyter-widgets/base",
          "model_name": "LayoutModel",
          "model_module_version": "1.2.0",
          "state": {
            "_model_module": "@jupyter-widgets/base",
            "_model_module_version": "1.2.0",
            "_model_name": "LayoutModel",
            "_view_count": null,
            "_view_module": "@jupyter-widgets/base",
            "_view_module_version": "1.2.0",
            "_view_name": "LayoutView",
            "align_content": null,
            "align_items": null,
            "align_self": null,
            "border": null,
            "bottom": null,
            "display": null,
            "flex": null,
            "flex_flow": null,
            "grid_area": null,
            "grid_auto_columns": null,
            "grid_auto_flow": null,
            "grid_auto_rows": null,
            "grid_column": null,
            "grid_gap": null,
            "grid_row": null,
            "grid_template_areas": null,
            "grid_template_columns": null,
            "grid_template_rows": null,
            "height": null,
            "justify_content": null,
            "justify_items": null,
            "left": null,
            "margin": null,
            "max_height": null,
            "max_width": null,
            "min_height": null,
            "min_width": null,
            "object_fit": null,
            "object_position": null,
            "order": null,
            "overflow": null,
            "overflow_x": null,
            "overflow_y": null,
            "padding": null,
            "right": null,
            "top": null,
            "visibility": null,
            "width": null
          }
        },
        "b50d2003c3034eecb9f64f8ab69882fb": {
          "model_module": "@jupyter-widgets/controls",
          "model_name": "DescriptionStyleModel",
          "model_module_version": "1.5.0",
          "state": {
            "_model_module": "@jupyter-widgets/controls",
            "_model_module_version": "1.5.0",
            "_model_name": "DescriptionStyleModel",
            "_view_count": null,
            "_view_module": "@jupyter-widgets/base",
            "_view_module_version": "1.2.0",
            "_view_name": "StyleView",
            "description_width": ""
          }
        },
        "e4c50cfd39ed410b93aee39521f06a66": {
          "model_module": "@jupyter-widgets/base",
          "model_name": "LayoutModel",
          "model_module_version": "1.2.0",
          "state": {
            "_model_module": "@jupyter-widgets/base",
            "_model_module_version": "1.2.0",
            "_model_name": "LayoutModel",
            "_view_count": null,
            "_view_module": "@jupyter-widgets/base",
            "_view_module_version": "1.2.0",
            "_view_name": "LayoutView",
            "align_content": null,
            "align_items": null,
            "align_self": null,
            "border": null,
            "bottom": null,
            "display": null,
            "flex": null,
            "flex_flow": null,
            "grid_area": null,
            "grid_auto_columns": null,
            "grid_auto_flow": null,
            "grid_auto_rows": null,
            "grid_column": null,
            "grid_gap": null,
            "grid_row": null,
            "grid_template_areas": null,
            "grid_template_columns": null,
            "grid_template_rows": null,
            "height": null,
            "justify_content": null,
            "justify_items": null,
            "left": null,
            "margin": null,
            "max_height": null,
            "max_width": null,
            "min_height": null,
            "min_width": null,
            "object_fit": null,
            "object_position": null,
            "order": null,
            "overflow": null,
            "overflow_x": null,
            "overflow_y": null,
            "padding": null,
            "right": null,
            "top": null,
            "visibility": null,
            "width": null
          }
        },
        "ce0acd6ec8fb475dba2feea182dd5f28": {
          "model_module": "@jupyter-widgets/controls",
          "model_name": "ProgressStyleModel",
          "model_module_version": "1.5.0",
          "state": {
            "_model_module": "@jupyter-widgets/controls",
            "_model_module_version": "1.5.0",
            "_model_name": "ProgressStyleModel",
            "_view_count": null,
            "_view_module": "@jupyter-widgets/base",
            "_view_module_version": "1.2.0",
            "_view_name": "StyleView",
            "bar_color": null,
            "description_width": ""
          }
        },
        "588f985437a5402ba005b990bb420476": {
          "model_module": "@jupyter-widgets/base",
          "model_name": "LayoutModel",
          "model_module_version": "1.2.0",
          "state": {
            "_model_module": "@jupyter-widgets/base",
            "_model_module_version": "1.2.0",
            "_model_name": "LayoutModel",
            "_view_count": null,
            "_view_module": "@jupyter-widgets/base",
            "_view_module_version": "1.2.0",
            "_view_name": "LayoutView",
            "align_content": null,
            "align_items": null,
            "align_self": null,
            "border": null,
            "bottom": null,
            "display": null,
            "flex": null,
            "flex_flow": null,
            "grid_area": null,
            "grid_auto_columns": null,
            "grid_auto_flow": null,
            "grid_auto_rows": null,
            "grid_column": null,
            "grid_gap": null,
            "grid_row": null,
            "grid_template_areas": null,
            "grid_template_columns": null,
            "grid_template_rows": null,
            "height": null,
            "justify_content": null,
            "justify_items": null,
            "left": null,
            "margin": null,
            "max_height": null,
            "max_width": null,
            "min_height": null,
            "min_width": null,
            "object_fit": null,
            "object_position": null,
            "order": null,
            "overflow": null,
            "overflow_x": null,
            "overflow_y": null,
            "padding": null,
            "right": null,
            "top": null,
            "visibility": null,
            "width": null
          }
        },
        "814773bf3db840e7ae71bf11a19ca9a9": {
          "model_module": "@jupyter-widgets/controls",
          "model_name": "DescriptionStyleModel",
          "model_module_version": "1.5.0",
          "state": {
            "_model_module": "@jupyter-widgets/controls",
            "_model_module_version": "1.5.0",
            "_model_name": "DescriptionStyleModel",
            "_view_count": null,
            "_view_module": "@jupyter-widgets/base",
            "_view_module_version": "1.2.0",
            "_view_name": "StyleView",
            "description_width": ""
          }
        },
        "6d22559a1f4948d4929aae66e881244b": {
          "model_module": "@jupyter-widgets/controls",
          "model_name": "HBoxModel",
          "model_module_version": "1.5.0",
          "state": {
            "_dom_classes": [],
            "_model_module": "@jupyter-widgets/controls",
            "_model_module_version": "1.5.0",
            "_model_name": "HBoxModel",
            "_view_count": null,
            "_view_module": "@jupyter-widgets/controls",
            "_view_module_version": "1.5.0",
            "_view_name": "HBoxView",
            "box_style": "",
            "children": [
              "IPY_MODEL_faff1bed568146a8b813495b25367a02",
              "IPY_MODEL_b92b787130bc488398882cdc6254bbdb",
              "IPY_MODEL_57d679d104a149679e35edc8d40d9f3c"
            ],
            "layout": "IPY_MODEL_7f5857ccef784e509273f4bc2ea25437"
          }
        },
        "faff1bed568146a8b813495b25367a02": {
          "model_module": "@jupyter-widgets/controls",
          "model_name": "HTMLModel",
          "model_module_version": "1.5.0",
          "state": {
            "_dom_classes": [],
            "_model_module": "@jupyter-widgets/controls",
            "_model_module_version": "1.5.0",
            "_model_name": "HTMLModel",
            "_view_count": null,
            "_view_module": "@jupyter-widgets/controls",
            "_view_module_version": "1.5.0",
            "_view_name": "HTMLView",
            "description": "",
            "description_tooltip": null,
            "layout": "IPY_MODEL_653e12b52fd840a2aa51a731f09fd698",
            "placeholder": "​",
            "style": "IPY_MODEL_65141b4cf1394ac295ce0e06b97b2ee8",
            "value": "Map: 100%"
          }
        },
        "b92b787130bc488398882cdc6254bbdb": {
          "model_module": "@jupyter-widgets/controls",
          "model_name": "FloatProgressModel",
          "model_module_version": "1.5.0",
          "state": {
            "_dom_classes": [],
            "_model_module": "@jupyter-widgets/controls",
            "_model_module_version": "1.5.0",
            "_model_name": "FloatProgressModel",
            "_view_count": null,
            "_view_module": "@jupyter-widgets/controls",
            "_view_module_version": "1.5.0",
            "_view_name": "ProgressView",
            "bar_style": "success",
            "description": "",
            "description_tooltip": null,
            "layout": "IPY_MODEL_aab6eb8c54334c2ba13ccc241c32d775",
            "max": 1960,
            "min": 0,
            "orientation": "horizontal",
            "style": "IPY_MODEL_041ee8df4b8a402283461463570bcd0b",
            "value": 1960
          }
        },
        "57d679d104a149679e35edc8d40d9f3c": {
          "model_module": "@jupyter-widgets/controls",
          "model_name": "HTMLModel",
          "model_module_version": "1.5.0",
          "state": {
            "_dom_classes": [],
            "_model_module": "@jupyter-widgets/controls",
            "_model_module_version": "1.5.0",
            "_model_name": "HTMLModel",
            "_view_count": null,
            "_view_module": "@jupyter-widgets/controls",
            "_view_module_version": "1.5.0",
            "_view_name": "HTMLView",
            "description": "",
            "description_tooltip": null,
            "layout": "IPY_MODEL_72a4a037e9a24c75ac7686c9333dc3ad",
            "placeholder": "​",
            "style": "IPY_MODEL_84b55172607e4c478bf0185edb1c55cc",
            "value": " 1960/1960 [00:00&lt;00:00, 3161.08 examples/s]"
          }
        },
        "7f5857ccef784e509273f4bc2ea25437": {
          "model_module": "@jupyter-widgets/base",
          "model_name": "LayoutModel",
          "model_module_version": "1.2.0",
          "state": {
            "_model_module": "@jupyter-widgets/base",
            "_model_module_version": "1.2.0",
            "_model_name": "LayoutModel",
            "_view_count": null,
            "_view_module": "@jupyter-widgets/base",
            "_view_module_version": "1.2.0",
            "_view_name": "LayoutView",
            "align_content": null,
            "align_items": null,
            "align_self": null,
            "border": null,
            "bottom": null,
            "display": null,
            "flex": null,
            "flex_flow": null,
            "grid_area": null,
            "grid_auto_columns": null,
            "grid_auto_flow": null,
            "grid_auto_rows": null,
            "grid_column": null,
            "grid_gap": null,
            "grid_row": null,
            "grid_template_areas": null,
            "grid_template_columns": null,
            "grid_template_rows": null,
            "height": null,
            "justify_content": null,
            "justify_items": null,
            "left": null,
            "margin": null,
            "max_height": null,
            "max_width": null,
            "min_height": null,
            "min_width": null,
            "object_fit": null,
            "object_position": null,
            "order": null,
            "overflow": null,
            "overflow_x": null,
            "overflow_y": null,
            "padding": null,
            "right": null,
            "top": null,
            "visibility": null,
            "width": null
          }
        },
        "653e12b52fd840a2aa51a731f09fd698": {
          "model_module": "@jupyter-widgets/base",
          "model_name": "LayoutModel",
          "model_module_version": "1.2.0",
          "state": {
            "_model_module": "@jupyter-widgets/base",
            "_model_module_version": "1.2.0",
            "_model_name": "LayoutModel",
            "_view_count": null,
            "_view_module": "@jupyter-widgets/base",
            "_view_module_version": "1.2.0",
            "_view_name": "LayoutView",
            "align_content": null,
            "align_items": null,
            "align_self": null,
            "border": null,
            "bottom": null,
            "display": null,
            "flex": null,
            "flex_flow": null,
            "grid_area": null,
            "grid_auto_columns": null,
            "grid_auto_flow": null,
            "grid_auto_rows": null,
            "grid_column": null,
            "grid_gap": null,
            "grid_row": null,
            "grid_template_areas": null,
            "grid_template_columns": null,
            "grid_template_rows": null,
            "height": null,
            "justify_content": null,
            "justify_items": null,
            "left": null,
            "margin": null,
            "max_height": null,
            "max_width": null,
            "min_height": null,
            "min_width": null,
            "object_fit": null,
            "object_position": null,
            "order": null,
            "overflow": null,
            "overflow_x": null,
            "overflow_y": null,
            "padding": null,
            "right": null,
            "top": null,
            "visibility": null,
            "width": null
          }
        },
        "65141b4cf1394ac295ce0e06b97b2ee8": {
          "model_module": "@jupyter-widgets/controls",
          "model_name": "DescriptionStyleModel",
          "model_module_version": "1.5.0",
          "state": {
            "_model_module": "@jupyter-widgets/controls",
            "_model_module_version": "1.5.0",
            "_model_name": "DescriptionStyleModel",
            "_view_count": null,
            "_view_module": "@jupyter-widgets/base",
            "_view_module_version": "1.2.0",
            "_view_name": "StyleView",
            "description_width": ""
          }
        },
        "aab6eb8c54334c2ba13ccc241c32d775": {
          "model_module": "@jupyter-widgets/base",
          "model_name": "LayoutModel",
          "model_module_version": "1.2.0",
          "state": {
            "_model_module": "@jupyter-widgets/base",
            "_model_module_version": "1.2.0",
            "_model_name": "LayoutModel",
            "_view_count": null,
            "_view_module": "@jupyter-widgets/base",
            "_view_module_version": "1.2.0",
            "_view_name": "LayoutView",
            "align_content": null,
            "align_items": null,
            "align_self": null,
            "border": null,
            "bottom": null,
            "display": null,
            "flex": null,
            "flex_flow": null,
            "grid_area": null,
            "grid_auto_columns": null,
            "grid_auto_flow": null,
            "grid_auto_rows": null,
            "grid_column": null,
            "grid_gap": null,
            "grid_row": null,
            "grid_template_areas": null,
            "grid_template_columns": null,
            "grid_template_rows": null,
            "height": null,
            "justify_content": null,
            "justify_items": null,
            "left": null,
            "margin": null,
            "max_height": null,
            "max_width": null,
            "min_height": null,
            "min_width": null,
            "object_fit": null,
            "object_position": null,
            "order": null,
            "overflow": null,
            "overflow_x": null,
            "overflow_y": null,
            "padding": null,
            "right": null,
            "top": null,
            "visibility": null,
            "width": null
          }
        },
        "041ee8df4b8a402283461463570bcd0b": {
          "model_module": "@jupyter-widgets/controls",
          "model_name": "ProgressStyleModel",
          "model_module_version": "1.5.0",
          "state": {
            "_model_module": "@jupyter-widgets/controls",
            "_model_module_version": "1.5.0",
            "_model_name": "ProgressStyleModel",
            "_view_count": null,
            "_view_module": "@jupyter-widgets/base",
            "_view_module_version": "1.2.0",
            "_view_name": "StyleView",
            "bar_color": null,
            "description_width": ""
          }
        },
        "72a4a037e9a24c75ac7686c9333dc3ad": {
          "model_module": "@jupyter-widgets/base",
          "model_name": "LayoutModel",
          "model_module_version": "1.2.0",
          "state": {
            "_model_module": "@jupyter-widgets/base",
            "_model_module_version": "1.2.0",
            "_model_name": "LayoutModel",
            "_view_count": null,
            "_view_module": "@jupyter-widgets/base",
            "_view_module_version": "1.2.0",
            "_view_name": "LayoutView",
            "align_content": null,
            "align_items": null,
            "align_self": null,
            "border": null,
            "bottom": null,
            "display": null,
            "flex": null,
            "flex_flow": null,
            "grid_area": null,
            "grid_auto_columns": null,
            "grid_auto_flow": null,
            "grid_auto_rows": null,
            "grid_column": null,
            "grid_gap": null,
            "grid_row": null,
            "grid_template_areas": null,
            "grid_template_columns": null,
            "grid_template_rows": null,
            "height": null,
            "justify_content": null,
            "justify_items": null,
            "left": null,
            "margin": null,
            "max_height": null,
            "max_width": null,
            "min_height": null,
            "min_width": null,
            "object_fit": null,
            "object_position": null,
            "order": null,
            "overflow": null,
            "overflow_x": null,
            "overflow_y": null,
            "padding": null,
            "right": null,
            "top": null,
            "visibility": null,
            "width": null
          }
        },
        "84b55172607e4c478bf0185edb1c55cc": {
          "model_module": "@jupyter-widgets/controls",
          "model_name": "DescriptionStyleModel",
          "model_module_version": "1.5.0",
          "state": {
            "_model_module": "@jupyter-widgets/controls",
            "_model_module_version": "1.5.0",
            "_model_name": "DescriptionStyleModel",
            "_view_count": null,
            "_view_module": "@jupyter-widgets/base",
            "_view_module_version": "1.2.0",
            "_view_name": "StyleView",
            "description_width": ""
          }
        },
        "2de6a23a42b642689077cfaaea192f70": {
          "model_module": "@jupyter-widgets/controls",
          "model_name": "HBoxModel",
          "model_module_version": "1.5.0",
          "state": {
            "_dom_classes": [],
            "_model_module": "@jupyter-widgets/controls",
            "_model_module_version": "1.5.0",
            "_model_name": "HBoxModel",
            "_view_count": null,
            "_view_module": "@jupyter-widgets/controls",
            "_view_module_version": "1.5.0",
            "_view_name": "HBoxView",
            "box_style": "",
            "children": [
              "IPY_MODEL_105455fe2d4c4d6f8d871f066c397b58",
              "IPY_MODEL_9e35d61bd5c344b99c22d53eea95cd02",
              "IPY_MODEL_d27a42b5fd2f4035b623460bcc5e2472"
            ],
            "layout": "IPY_MODEL_a1cb8706d37f4430a7cceac2456e13cd"
          }
        },
        "105455fe2d4c4d6f8d871f066c397b58": {
          "model_module": "@jupyter-widgets/controls",
          "model_name": "HTMLModel",
          "model_module_version": "1.5.0",
          "state": {
            "_dom_classes": [],
            "_model_module": "@jupyter-widgets/controls",
            "_model_module_version": "1.5.0",
            "_model_name": "HTMLModel",
            "_view_count": null,
            "_view_module": "@jupyter-widgets/controls",
            "_view_module_version": "1.5.0",
            "_view_name": "HTMLView",
            "description": "",
            "description_tooltip": null,
            "layout": "IPY_MODEL_4655f722509d4ae492d76886b70438b9",
            "placeholder": "​",
            "style": "IPY_MODEL_a4f23be53ef043aa982e287b52ec4412",
            "value": "Map: 100%"
          }
        },
        "9e35d61bd5c344b99c22d53eea95cd02": {
          "model_module": "@jupyter-widgets/controls",
          "model_name": "FloatProgressModel",
          "model_module_version": "1.5.0",
          "state": {
            "_dom_classes": [],
            "_model_module": "@jupyter-widgets/controls",
            "_model_module_version": "1.5.0",
            "_model_name": "FloatProgressModel",
            "_view_count": null,
            "_view_module": "@jupyter-widgets/controls",
            "_view_module_version": "1.5.0",
            "_view_name": "ProgressView",
            "bar_style": "success",
            "description": "",
            "description_tooltip": null,
            "layout": "IPY_MODEL_ee8d55549ca64210aefa998a3667ffde",
            "max": 17636,
            "min": 0,
            "orientation": "horizontal",
            "style": "IPY_MODEL_4c8e5e68528a467fb74900fa259b4ef7",
            "value": 17636
          }
        },
        "d27a42b5fd2f4035b623460bcc5e2472": {
          "model_module": "@jupyter-widgets/controls",
          "model_name": "HTMLModel",
          "model_module_version": "1.5.0",
          "state": {
            "_dom_classes": [],
            "_model_module": "@jupyter-widgets/controls",
            "_model_module_version": "1.5.0",
            "_model_name": "HTMLModel",
            "_view_count": null,
            "_view_module": "@jupyter-widgets/controls",
            "_view_module_version": "1.5.0",
            "_view_name": "HTMLView",
            "description": "",
            "description_tooltip": null,
            "layout": "IPY_MODEL_ae245b50588149f0b7fc0df1176908c5",
            "placeholder": "​",
            "style": "IPY_MODEL_e798ec92d8e2468c812c20026a0ce3cf",
            "value": " 17636/17636 [00:16&lt;00:00, 1248.71 examples/s]"
          }
        },
        "a1cb8706d37f4430a7cceac2456e13cd": {
          "model_module": "@jupyter-widgets/base",
          "model_name": "LayoutModel",
          "model_module_version": "1.2.0",
          "state": {
            "_model_module": "@jupyter-widgets/base",
            "_model_module_version": "1.2.0",
            "_model_name": "LayoutModel",
            "_view_count": null,
            "_view_module": "@jupyter-widgets/base",
            "_view_module_version": "1.2.0",
            "_view_name": "LayoutView",
            "align_content": null,
            "align_items": null,
            "align_self": null,
            "border": null,
            "bottom": null,
            "display": null,
            "flex": null,
            "flex_flow": null,
            "grid_area": null,
            "grid_auto_columns": null,
            "grid_auto_flow": null,
            "grid_auto_rows": null,
            "grid_column": null,
            "grid_gap": null,
            "grid_row": null,
            "grid_template_areas": null,
            "grid_template_columns": null,
            "grid_template_rows": null,
            "height": null,
            "justify_content": null,
            "justify_items": null,
            "left": null,
            "margin": null,
            "max_height": null,
            "max_width": null,
            "min_height": null,
            "min_width": null,
            "object_fit": null,
            "object_position": null,
            "order": null,
            "overflow": null,
            "overflow_x": null,
            "overflow_y": null,
            "padding": null,
            "right": null,
            "top": null,
            "visibility": null,
            "width": null
          }
        },
        "4655f722509d4ae492d76886b70438b9": {
          "model_module": "@jupyter-widgets/base",
          "model_name": "LayoutModel",
          "model_module_version": "1.2.0",
          "state": {
            "_model_module": "@jupyter-widgets/base",
            "_model_module_version": "1.2.0",
            "_model_name": "LayoutModel",
            "_view_count": null,
            "_view_module": "@jupyter-widgets/base",
            "_view_module_version": "1.2.0",
            "_view_name": "LayoutView",
            "align_content": null,
            "align_items": null,
            "align_self": null,
            "border": null,
            "bottom": null,
            "display": null,
            "flex": null,
            "flex_flow": null,
            "grid_area": null,
            "grid_auto_columns": null,
            "grid_auto_flow": null,
            "grid_auto_rows": null,
            "grid_column": null,
            "grid_gap": null,
            "grid_row": null,
            "grid_template_areas": null,
            "grid_template_columns": null,
            "grid_template_rows": null,
            "height": null,
            "justify_content": null,
            "justify_items": null,
            "left": null,
            "margin": null,
            "max_height": null,
            "max_width": null,
            "min_height": null,
            "min_width": null,
            "object_fit": null,
            "object_position": null,
            "order": null,
            "overflow": null,
            "overflow_x": null,
            "overflow_y": null,
            "padding": null,
            "right": null,
            "top": null,
            "visibility": null,
            "width": null
          }
        },
        "a4f23be53ef043aa982e287b52ec4412": {
          "model_module": "@jupyter-widgets/controls",
          "model_name": "DescriptionStyleModel",
          "model_module_version": "1.5.0",
          "state": {
            "_model_module": "@jupyter-widgets/controls",
            "_model_module_version": "1.5.0",
            "_model_name": "DescriptionStyleModel",
            "_view_count": null,
            "_view_module": "@jupyter-widgets/base",
            "_view_module_version": "1.2.0",
            "_view_name": "StyleView",
            "description_width": ""
          }
        },
        "ee8d55549ca64210aefa998a3667ffde": {
          "model_module": "@jupyter-widgets/base",
          "model_name": "LayoutModel",
          "model_module_version": "1.2.0",
          "state": {
            "_model_module": "@jupyter-widgets/base",
            "_model_module_version": "1.2.0",
            "_model_name": "LayoutModel",
            "_view_count": null,
            "_view_module": "@jupyter-widgets/base",
            "_view_module_version": "1.2.0",
            "_view_name": "LayoutView",
            "align_content": null,
            "align_items": null,
            "align_self": null,
            "border": null,
            "bottom": null,
            "display": null,
            "flex": null,
            "flex_flow": null,
            "grid_area": null,
            "grid_auto_columns": null,
            "grid_auto_flow": null,
            "grid_auto_rows": null,
            "grid_column": null,
            "grid_gap": null,
            "grid_row": null,
            "grid_template_areas": null,
            "grid_template_columns": null,
            "grid_template_rows": null,
            "height": null,
            "justify_content": null,
            "justify_items": null,
            "left": null,
            "margin": null,
            "max_height": null,
            "max_width": null,
            "min_height": null,
            "min_width": null,
            "object_fit": null,
            "object_position": null,
            "order": null,
            "overflow": null,
            "overflow_x": null,
            "overflow_y": null,
            "padding": null,
            "right": null,
            "top": null,
            "visibility": null,
            "width": null
          }
        },
        "4c8e5e68528a467fb74900fa259b4ef7": {
          "model_module": "@jupyter-widgets/controls",
          "model_name": "ProgressStyleModel",
          "model_module_version": "1.5.0",
          "state": {
            "_model_module": "@jupyter-widgets/controls",
            "_model_module_version": "1.5.0",
            "_model_name": "ProgressStyleModel",
            "_view_count": null,
            "_view_module": "@jupyter-widgets/base",
            "_view_module_version": "1.2.0",
            "_view_name": "StyleView",
            "bar_color": null,
            "description_width": ""
          }
        },
        "ae245b50588149f0b7fc0df1176908c5": {
          "model_module": "@jupyter-widgets/base",
          "model_name": "LayoutModel",
          "model_module_version": "1.2.0",
          "state": {
            "_model_module": "@jupyter-widgets/base",
            "_model_module_version": "1.2.0",
            "_model_name": "LayoutModel",
            "_view_count": null,
            "_view_module": "@jupyter-widgets/base",
            "_view_module_version": "1.2.0",
            "_view_name": "LayoutView",
            "align_content": null,
            "align_items": null,
            "align_self": null,
            "border": null,
            "bottom": null,
            "display": null,
            "flex": null,
            "flex_flow": null,
            "grid_area": null,
            "grid_auto_columns": null,
            "grid_auto_flow": null,
            "grid_auto_rows": null,
            "grid_column": null,
            "grid_gap": null,
            "grid_row": null,
            "grid_template_areas": null,
            "grid_template_columns": null,
            "grid_template_rows": null,
            "height": null,
            "justify_content": null,
            "justify_items": null,
            "left": null,
            "margin": null,
            "max_height": null,
            "max_width": null,
            "min_height": null,
            "min_width": null,
            "object_fit": null,
            "object_position": null,
            "order": null,
            "overflow": null,
            "overflow_x": null,
            "overflow_y": null,
            "padding": null,
            "right": null,
            "top": null,
            "visibility": null,
            "width": null
          }
        },
        "e798ec92d8e2468c812c20026a0ce3cf": {
          "model_module": "@jupyter-widgets/controls",
          "model_name": "DescriptionStyleModel",
          "model_module_version": "1.5.0",
          "state": {
            "_model_module": "@jupyter-widgets/controls",
            "_model_module_version": "1.5.0",
            "_model_name": "DescriptionStyleModel",
            "_view_count": null,
            "_view_module": "@jupyter-widgets/base",
            "_view_module_version": "1.2.0",
            "_view_name": "StyleView",
            "description_width": ""
          }
        },
        "8eb33859cdbf42608c8b09ddaf26df1c": {
          "model_module": "@jupyter-widgets/controls",
          "model_name": "HBoxModel",
          "model_module_version": "1.5.0",
          "state": {
            "_dom_classes": [],
            "_model_module": "@jupyter-widgets/controls",
            "_model_module_version": "1.5.0",
            "_model_name": "HBoxModel",
            "_view_count": null,
            "_view_module": "@jupyter-widgets/controls",
            "_view_module_version": "1.5.0",
            "_view_name": "HBoxView",
            "box_style": "",
            "children": [
              "IPY_MODEL_33788269e132464ab000bc3c64c7c254",
              "IPY_MODEL_195c520d294b4a29ae951a2e77759f69",
              "IPY_MODEL_cad1ab343a65456fbdfba48fe722482e"
            ],
            "layout": "IPY_MODEL_c276a1f37db7412ea4151debd91106db"
          }
        },
        "33788269e132464ab000bc3c64c7c254": {
          "model_module": "@jupyter-widgets/controls",
          "model_name": "HTMLModel",
          "model_module_version": "1.5.0",
          "state": {
            "_dom_classes": [],
            "_model_module": "@jupyter-widgets/controls",
            "_model_module_version": "1.5.0",
            "_model_name": "HTMLModel",
            "_view_count": null,
            "_view_module": "@jupyter-widgets/controls",
            "_view_module_version": "1.5.0",
            "_view_name": "HTMLView",
            "description": "",
            "description_tooltip": null,
            "layout": "IPY_MODEL_ced96d1c332e4374be0bc9ed939eeda9",
            "placeholder": "​",
            "style": "IPY_MODEL_bcda86d7dd17462795c0d528d4d8b3c0",
            "value": "Map: 100%"
          }
        },
        "195c520d294b4a29ae951a2e77759f69": {
          "model_module": "@jupyter-widgets/controls",
          "model_name": "FloatProgressModel",
          "model_module_version": "1.5.0",
          "state": {
            "_dom_classes": [],
            "_model_module": "@jupyter-widgets/controls",
            "_model_module_version": "1.5.0",
            "_model_name": "FloatProgressModel",
            "_view_count": null,
            "_view_module": "@jupyter-widgets/controls",
            "_view_module_version": "1.5.0",
            "_view_name": "ProgressView",
            "bar_style": "success",
            "description": "",
            "description_tooltip": null,
            "layout": "IPY_MODEL_7bc4b7d85bc2472fb5495830946bd1dd",
            "max": 1960,
            "min": 0,
            "orientation": "horizontal",
            "style": "IPY_MODEL_139b010557e7461a8325ba6ecf29d8c9",
            "value": 1960
          }
        },
        "cad1ab343a65456fbdfba48fe722482e": {
          "model_module": "@jupyter-widgets/controls",
          "model_name": "HTMLModel",
          "model_module_version": "1.5.0",
          "state": {
            "_dom_classes": [],
            "_model_module": "@jupyter-widgets/controls",
            "_model_module_version": "1.5.0",
            "_model_name": "HTMLModel",
            "_view_count": null,
            "_view_module": "@jupyter-widgets/controls",
            "_view_module_version": "1.5.0",
            "_view_name": "HTMLView",
            "description": "",
            "description_tooltip": null,
            "layout": "IPY_MODEL_62817e40a215437b817edf85079e33e4",
            "placeholder": "​",
            "style": "IPY_MODEL_65dc0142100d471c9b5e2e7650508d72",
            "value": " 1960/1960 [00:01&lt;00:00, 1235.60 examples/s]"
          }
        },
        "c276a1f37db7412ea4151debd91106db": {
          "model_module": "@jupyter-widgets/base",
          "model_name": "LayoutModel",
          "model_module_version": "1.2.0",
          "state": {
            "_model_module": "@jupyter-widgets/base",
            "_model_module_version": "1.2.0",
            "_model_name": "LayoutModel",
            "_view_count": null,
            "_view_module": "@jupyter-widgets/base",
            "_view_module_version": "1.2.0",
            "_view_name": "LayoutView",
            "align_content": null,
            "align_items": null,
            "align_self": null,
            "border": null,
            "bottom": null,
            "display": null,
            "flex": null,
            "flex_flow": null,
            "grid_area": null,
            "grid_auto_columns": null,
            "grid_auto_flow": null,
            "grid_auto_rows": null,
            "grid_column": null,
            "grid_gap": null,
            "grid_row": null,
            "grid_template_areas": null,
            "grid_template_columns": null,
            "grid_template_rows": null,
            "height": null,
            "justify_content": null,
            "justify_items": null,
            "left": null,
            "margin": null,
            "max_height": null,
            "max_width": null,
            "min_height": null,
            "min_width": null,
            "object_fit": null,
            "object_position": null,
            "order": null,
            "overflow": null,
            "overflow_x": null,
            "overflow_y": null,
            "padding": null,
            "right": null,
            "top": null,
            "visibility": null,
            "width": null
          }
        },
        "ced96d1c332e4374be0bc9ed939eeda9": {
          "model_module": "@jupyter-widgets/base",
          "model_name": "LayoutModel",
          "model_module_version": "1.2.0",
          "state": {
            "_model_module": "@jupyter-widgets/base",
            "_model_module_version": "1.2.0",
            "_model_name": "LayoutModel",
            "_view_count": null,
            "_view_module": "@jupyter-widgets/base",
            "_view_module_version": "1.2.0",
            "_view_name": "LayoutView",
            "align_content": null,
            "align_items": null,
            "align_self": null,
            "border": null,
            "bottom": null,
            "display": null,
            "flex": null,
            "flex_flow": null,
            "grid_area": null,
            "grid_auto_columns": null,
            "grid_auto_flow": null,
            "grid_auto_rows": null,
            "grid_column": null,
            "grid_gap": null,
            "grid_row": null,
            "grid_template_areas": null,
            "grid_template_columns": null,
            "grid_template_rows": null,
            "height": null,
            "justify_content": null,
            "justify_items": null,
            "left": null,
            "margin": null,
            "max_height": null,
            "max_width": null,
            "min_height": null,
            "min_width": null,
            "object_fit": null,
            "object_position": null,
            "order": null,
            "overflow": null,
            "overflow_x": null,
            "overflow_y": null,
            "padding": null,
            "right": null,
            "top": null,
            "visibility": null,
            "width": null
          }
        },
        "bcda86d7dd17462795c0d528d4d8b3c0": {
          "model_module": "@jupyter-widgets/controls",
          "model_name": "DescriptionStyleModel",
          "model_module_version": "1.5.0",
          "state": {
            "_model_module": "@jupyter-widgets/controls",
            "_model_module_version": "1.5.0",
            "_model_name": "DescriptionStyleModel",
            "_view_count": null,
            "_view_module": "@jupyter-widgets/base",
            "_view_module_version": "1.2.0",
            "_view_name": "StyleView",
            "description_width": ""
          }
        },
        "7bc4b7d85bc2472fb5495830946bd1dd": {
          "model_module": "@jupyter-widgets/base",
          "model_name": "LayoutModel",
          "model_module_version": "1.2.0",
          "state": {
            "_model_module": "@jupyter-widgets/base",
            "_model_module_version": "1.2.0",
            "_model_name": "LayoutModel",
            "_view_count": null,
            "_view_module": "@jupyter-widgets/base",
            "_view_module_version": "1.2.0",
            "_view_name": "LayoutView",
            "align_content": null,
            "align_items": null,
            "align_self": null,
            "border": null,
            "bottom": null,
            "display": null,
            "flex": null,
            "flex_flow": null,
            "grid_area": null,
            "grid_auto_columns": null,
            "grid_auto_flow": null,
            "grid_auto_rows": null,
            "grid_column": null,
            "grid_gap": null,
            "grid_row": null,
            "grid_template_areas": null,
            "grid_template_columns": null,
            "grid_template_rows": null,
            "height": null,
            "justify_content": null,
            "justify_items": null,
            "left": null,
            "margin": null,
            "max_height": null,
            "max_width": null,
            "min_height": null,
            "min_width": null,
            "object_fit": null,
            "object_position": null,
            "order": null,
            "overflow": null,
            "overflow_x": null,
            "overflow_y": null,
            "padding": null,
            "right": null,
            "top": null,
            "visibility": null,
            "width": null
          }
        },
        "139b010557e7461a8325ba6ecf29d8c9": {
          "model_module": "@jupyter-widgets/controls",
          "model_name": "ProgressStyleModel",
          "model_module_version": "1.5.0",
          "state": {
            "_model_module": "@jupyter-widgets/controls",
            "_model_module_version": "1.5.0",
            "_model_name": "ProgressStyleModel",
            "_view_count": null,
            "_view_module": "@jupyter-widgets/base",
            "_view_module_version": "1.2.0",
            "_view_name": "StyleView",
            "bar_color": null,
            "description_width": ""
          }
        },
        "62817e40a215437b817edf85079e33e4": {
          "model_module": "@jupyter-widgets/base",
          "model_name": "LayoutModel",
          "model_module_version": "1.2.0",
          "state": {
            "_model_module": "@jupyter-widgets/base",
            "_model_module_version": "1.2.0",
            "_model_name": "LayoutModel",
            "_view_count": null,
            "_view_module": "@jupyter-widgets/base",
            "_view_module_version": "1.2.0",
            "_view_name": "LayoutView",
            "align_content": null,
            "align_items": null,
            "align_self": null,
            "border": null,
            "bottom": null,
            "display": null,
            "flex": null,
            "flex_flow": null,
            "grid_area": null,
            "grid_auto_columns": null,
            "grid_auto_flow": null,
            "grid_auto_rows": null,
            "grid_column": null,
            "grid_gap": null,
            "grid_row": null,
            "grid_template_areas": null,
            "grid_template_columns": null,
            "grid_template_rows": null,
            "height": null,
            "justify_content": null,
            "justify_items": null,
            "left": null,
            "margin": null,
            "max_height": null,
            "max_width": null,
            "min_height": null,
            "min_width": null,
            "object_fit": null,
            "object_position": null,
            "order": null,
            "overflow": null,
            "overflow_x": null,
            "overflow_y": null,
            "padding": null,
            "right": null,
            "top": null,
            "visibility": null,
            "width": null
          }
        },
        "65dc0142100d471c9b5e2e7650508d72": {
          "model_module": "@jupyter-widgets/controls",
          "model_name": "DescriptionStyleModel",
          "model_module_version": "1.5.0",
          "state": {
            "_model_module": "@jupyter-widgets/controls",
            "_model_module_version": "1.5.0",
            "_model_name": "DescriptionStyleModel",
            "_view_count": null,
            "_view_module": "@jupyter-widgets/base",
            "_view_module_version": "1.2.0",
            "_view_name": "StyleView",
            "description_width": ""
          }
        }
      }
    },
    "accelerator": "GPU"
  },
  "cells": [
    {
      "cell_type": "code",
      "execution_count": null,
      "metadata": {
        "colab": {
          "base_uri": "https://localhost:8080/"
        },
        "id": "J1jSgaNPTkFY",
        "outputId": "2679240e-5f11-4225-cd34-dbee1c68098c"
      },
      "outputs": [
        {
          "output_type": "stream",
          "name": "stdout",
          "text": [
            "Mounted at /content/drive\n"
          ]
        }
      ],
      "source": [
        "from google.colab import drive\n",
        "drive.mount('/content/drive')"
      ]
    },
    {
      "cell_type": "code",
      "source": [
        "! pip install -q transformers datasets sentencepiece\n",
        "\n",
        "!pip uninstall -y -q transformers accelerate\n",
        "!pip install -q transformers accelerate\n",
        "\n",
        "!pip install -q rouge-score\n",
        "\n",
        "!pip install -q torchmetrics\n",
        "\n",
        "!pip install -q git+https://github.com/huggingface/accelerate\n",
        "\n",
        "!git clone -q https://github.com/huggingface/transformers.git\n",
        "!cd transformers\n",
        "!pip install  -q -e.\n"
      ],
      "metadata": {
        "colab": {
          "base_uri": "https://localhost:8080/"
        },
        "id": "hSo9Ul82TxsC",
        "outputId": "c6391b30-8c8f-44c1-bf88-f131badae37f"
      },
      "execution_count": null,
      "outputs": [
        {
          "output_type": "stream",
          "name": "stdout",
          "text": [
            "\u001b[2K     \u001b[90m━━━━━━━━━━━━━━━━━━━━━━━━━━━━━━━━━━━━━━━━\u001b[0m \u001b[32m507.1/507.1 kB\u001b[0m \u001b[31m12.6 MB/s\u001b[0m eta \u001b[36m0:00:00\u001b[0m\n",
            "\u001b[2K     \u001b[90m━━━━━━━━━━━━━━━━━━━━━━━━━━━━━━━━━━━━━━━━\u001b[0m \u001b[32m115.3/115.3 kB\u001b[0m \u001b[31m16.8 MB/s\u001b[0m eta \u001b[36m0:00:00\u001b[0m\n",
            "\u001b[2K     \u001b[90m━━━━━━━━━━━━━━━━━━━━━━━━━━━━━━━━━━━━━━━━\u001b[0m \u001b[32m134.8/134.8 kB\u001b[0m \u001b[31m20.4 MB/s\u001b[0m eta \u001b[36m0:00:00\u001b[0m\n",
            "\u001b[2K     \u001b[90m━━━━━━━━━━━━━━━━━━━━━━━━━━━━━━━━━━━━━━━━\u001b[0m \u001b[32m134.8/134.8 kB\u001b[0m \u001b[31m20.3 MB/s\u001b[0m eta \u001b[36m0:00:00\u001b[0m\n",
            "\u001b[?25h\u001b[33mWARNING: Skipping accelerate as it is not installed.\u001b[0m\u001b[33m\n",
            "\u001b[2K     \u001b[90m━━━━━━━━━━━━━━━━━━━━━━━━━━━━━━━━━━━━━━━━\u001b[0m \u001b[32m8.4/8.4 MB\u001b[0m \u001b[31m27.5 MB/s\u001b[0m eta \u001b[36m0:00:00\u001b[0m\n",
            "\u001b[2K     \u001b[90m━━━━━━━━━━━━━━━━━━━━━━━━━━━━━━━━━━━━━━━━\u001b[0m \u001b[32m270.9/270.9 kB\u001b[0m \u001b[31m31.8 MB/s\u001b[0m eta \u001b[36m0:00:00\u001b[0m\n",
            "\u001b[?25h  Preparing metadata (setup.py) ... \u001b[?25l\u001b[?25hdone\n",
            "  Building wheel for rouge-score (setup.py) ... \u001b[?25l\u001b[?25hdone\n",
            "\u001b[2K     \u001b[90m━━━━━━━━━━━━━━━━━━━━━━━━━━━━━━━━━━━━━━━━\u001b[0m \u001b[32m840.2/840.2 kB\u001b[0m \u001b[31m11.4 MB/s\u001b[0m eta \u001b[36m0:00:00\u001b[0m\n",
            "\u001b[?25h  Installing build dependencies ... \u001b[?25l\u001b[?25hdone\n",
            "  Getting requirements to build wheel ... \u001b[?25l\u001b[?25hdone\n",
            "  Preparing metadata (pyproject.toml) ... \u001b[?25l\u001b[?25hdone\n",
            "  Building wheel for accelerate (pyproject.toml) ... \u001b[?25l\u001b[?25hdone\n",
            "\u001b[31mERROR: file:///content does not appear to be a Python project: neither 'setup.py' nor 'pyproject.toml' found.\u001b[0m\u001b[31m\n",
            "\u001b[0m"
          ]
        }
      ]
    },
    {
      "cell_type": "code",
      "source": [
        "\n",
        "from transformers import MBart50TokenizerFast\n",
        "from transformers import MBartForConditionalGeneration\n",
        "\n",
        "# model_name_or_path = 'facebook/mbart-large-50'\n",
        "# model_name_or_path = '/content/drive/MyDrive/mBART_QA/checkpoint-13234'\n",
        "model_name_or_path = '/content/drive/MyDrive/mBART_QA/checkpoint-4409'\n",
        "\n",
        "tokenizer = MBart50TokenizerFast.from_pretrained(model_name_or_path)\n",
        "model = MBartForConditionalGeneration.from_pretrained(model_name_or_path)"
      ],
      "metadata": {
        "id": "AIHb_pNKT3HR"
      },
      "execution_count": null,
      "outputs": []
    },
    {
      "cell_type": "markdown",
      "source": [
        "comment the following lines if you want to fine-tune on different datasets"
      ],
      "metadata": {
        "id": "EQXb9KkaiIqJ"
      }
    },
    {
      "cell_type": "code",
      "source": [
        "# from datasets import concatenate_datasets, load_dataset\n",
        "\n",
        "# train_data = load_dataset(\"Gholamreza/pquad\", split=\"train\")\n",
        "# valid_data = load_dataset(\"Gholamreza/pquad\", split=\"validation\")\n",
        "# test_data = load_dataset(\"Gholamreza/pquad\", split=\"test\")\n",
        "\n",
        "# concat_dataset = concatenate_datasets([train_data, valid_data, test_data])\n",
        "# dataset=concat_dataset"
      ],
      "metadata": {
        "id": "gpgpeZmJUFJ6"
      },
      "execution_count": null,
      "outputs": []
    },
    {
      "cell_type": "code",
      "source": [
        "from datasets import Dataset\n",
        "import random\n",
        "import json\n",
        "\n",
        "# data_files = ['total_augmented.json', 'train.json', 'dev.json']\n",
        "\n",
        "data_files = ['train_v5.json', 'back_translated_v5.json', 'extra_translations_v5.json', 'dev_v5.json']\n",
        "\n",
        "total_data_list = []\n",
        "\n",
        "for file in data_files:\n",
        "  path = '/content/drive/MyDrive/' + file\n",
        "  with open(path, 'r', encoding = 'utf-8-sig') as f:\n",
        "    content = json.load(f)\n",
        "    total_data_list = total_data_list + content\n",
        "\n",
        "random.shuffle(total_data_list)\n",
        "\n",
        "dataset = Dataset.from_list(total_data_list)"
      ],
      "metadata": {
        "id": "WNwv0yR8iVTj"
      },
      "execution_count": null,
      "outputs": []
    },
    {
      "cell_type": "code",
      "source": [
        "dataset"
      ],
      "metadata": {
        "id": "1h9JxcquUYRp",
        "colab": {
          "base_uri": "https://localhost:8080/"
        },
        "outputId": "c4b45e79-6a6b-4a6d-bff1-06344026cdda"
      },
      "execution_count": null,
      "outputs": [
        {
          "output_type": "execute_result",
          "data": {
            "text/plain": [
              "Dataset({\n",
              "    features: ['context', 'pq_id', 'question', 'translation_file', 'answers'],\n",
              "    num_rows: 19596\n",
              "})"
            ]
          },
          "metadata": {},
          "execution_count": 6
        }
      ]
    },
    {
      "cell_type": "code",
      "source": [
        "# del concat_dataset, train_data, valid_data\n",
        "\n",
        "small_dataset = dataset\n",
        "\n",
        "# small_dataset= dataset.filter(lambda example: len(example['answers']['text'])>0)\n",
        "# small_dataset= small_dataset.filter(lambda example: 'چرا' not in example['context'])\n",
        "split_data = small_dataset.train_test_split(test_size=0.1, seed= 42, shuffle=True)\n",
        "\n",
        "dataset = split_data\n",
        "\n",
        "del split_data"
      ],
      "metadata": {
        "id": "sK7q-yP-UdJw"
      },
      "execution_count": null,
      "outputs": []
    },
    {
      "cell_type": "code",
      "source": [
        "dataset"
      ],
      "metadata": {
        "id": "6qT4FYzuUg9z",
        "colab": {
          "base_uri": "https://localhost:8080/"
        },
        "outputId": "07740732-c063-4559-dd50-651039267378"
      },
      "execution_count": null,
      "outputs": [
        {
          "output_type": "execute_result",
          "data": {
            "text/plain": [
              "DatasetDict({\n",
              "    train: Dataset({\n",
              "        features: ['context', 'pq_id', 'question', 'translation_file', 'answers'],\n",
              "        num_rows: 17636\n",
              "    })\n",
              "    test: Dataset({\n",
              "        features: ['context', 'pq_id', 'question', 'translation_file', 'answers'],\n",
              "        num_rows: 1960\n",
              "    })\n",
              "})"
            ]
          },
          "metadata": {},
          "execution_count": 8
        }
      ]
    },
    {
      "cell_type": "code",
      "source": [
        "# def format_dataset(example):\n",
        "#   return {'input': 'question: ' + example['question'] + ' context: ' + example['context'], 'target': example['answers'][0]['text']}\n",
        "\n",
        "def format_dataset(example):\n",
        "  context = example['context']\n",
        "  question = example['question']\n",
        "  # answer = example['answers']['text'][0]\n",
        "  answer = example['answers'][0]['text']\n",
        "  question_plus = f\"question: {str(question)}\"\n",
        "  question_plus += f\" context: {str(context)} </s>\"\n",
        "\n",
        "  answer_plus = answer\n",
        "  answer_plus = f\"{answer_plus} </s>\"\n",
        "\n",
        "  # return {'input': 'question: ' + example['question'] + ' context: ' + example['context'], 'target': example['answers'][0]['text']}\n",
        "  return {'input': question_plus, 'target': answer_plus}\n",
        "\n",
        "dataset = dataset.map(format_dataset, remove_columns=dataset['train'].column_names)"
      ],
      "metadata": {
        "id": "-kwaqdUeUk8u",
        "colab": {
          "base_uri": "https://localhost:8080/",
          "height": 81,
          "referenced_widgets": [
            "f040eef65faf4072a51c95ce769afc2c",
            "a3273230019c4cda81e3051070ee406b",
            "323eb838649a426ab2c6e7482d762aeb",
            "ec07228308d649b4917f42091188d599",
            "7db04e9e1e9848bcb54fe195e78e074d",
            "6cfb14c1e3cf4694a13c0c4527f920c3",
            "b50d2003c3034eecb9f64f8ab69882fb",
            "e4c50cfd39ed410b93aee39521f06a66",
            "ce0acd6ec8fb475dba2feea182dd5f28",
            "588f985437a5402ba005b990bb420476",
            "814773bf3db840e7ae71bf11a19ca9a9",
            "6d22559a1f4948d4929aae66e881244b",
            "faff1bed568146a8b813495b25367a02",
            "b92b787130bc488398882cdc6254bbdb",
            "57d679d104a149679e35edc8d40d9f3c",
            "7f5857ccef784e509273f4bc2ea25437",
            "653e12b52fd840a2aa51a731f09fd698",
            "65141b4cf1394ac295ce0e06b97b2ee8",
            "aab6eb8c54334c2ba13ccc241c32d775",
            "041ee8df4b8a402283461463570bcd0b",
            "72a4a037e9a24c75ac7686c9333dc3ad",
            "84b55172607e4c478bf0185edb1c55cc"
          ]
        },
        "outputId": "aee48584-cd44-43a7-b1ce-dfa7d96debf3"
      },
      "execution_count": null,
      "outputs": [
        {
          "output_type": "display_data",
          "data": {
            "text/plain": [
              "Map:   0%|          | 0/17636 [00:00<?, ? examples/s]"
            ],
            "application/vnd.jupyter.widget-view+json": {
              "version_major": 2,
              "version_minor": 0,
              "model_id": "f040eef65faf4072a51c95ce769afc2c"
            }
          },
          "metadata": {}
        },
        {
          "output_type": "display_data",
          "data": {
            "text/plain": [
              "Map:   0%|          | 0/1960 [00:00<?, ? examples/s]"
            ],
            "application/vnd.jupyter.widget-view+json": {
              "version_major": 2,
              "version_minor": 0,
              "model_id": "6d22559a1f4948d4929aae66e881244b"
            }
          },
          "metadata": {}
        }
      ]
    },
    {
      "cell_type": "code",
      "source": [
        "test_data = dataset['test']\n",
        "\n",
        "test_data[0]\n",
        "\n",
        "# train_ds=  dataset['train'].map(encode)\n",
        "# valid_ds=  dataset['test'].map(encode)\n"
      ],
      "metadata": {
        "id": "jCVX6mZEU9_V",
        "colab": {
          "base_uri": "https://localhost:8080/"
        },
        "outputId": "df0d2a26-4a81-453d-befa-764cb27d19a5"
      },
      "execution_count": null,
      "outputs": [
        {
          "output_type": "execute_result",
          "data": {
            "text/plain": [
              "{'input': 'question: خداوند آفریننده چه چیزهایی است؟ context: پروردگارا به من بهره\\u200cای از فرمانروایی بخشیدی و به من بهره\\u200cای از تعبیر خواب آموختی، ای پدید آورنده آسمانها و زمین، تو در دنیا و آخرت سرور منی، مرا مسلمان بمیران و به نیکان باز رسان\\u200c </s>',\n",
              " 'target': 'آسمانها و زمین </s>'}"
            ]
          },
          "metadata": {},
          "execution_count": 10
        }
      ]
    },
    {
      "cell_type": "code",
      "source": [
        "def convert_to_features(example_batch):\n",
        "    input_encodings = tokenizer.batch_encode_plus(example_batch['input'], truncation=True, padding='max_length', max_length=564)\n",
        "    target_encodings = tokenizer.batch_encode_plus(example_batch['target'], truncation=True, padding='max_length', max_length=64)\n",
        "\n",
        "    encodings = {\n",
        "        'input_ids': input_encodings['input_ids'],\n",
        "        'attention_mask': input_encodings['attention_mask'],\n",
        "        'labels': target_encodings['input_ids'],\n",
        "        'decoder_attention_mask': target_encodings['attention_mask']\n",
        "    }\n",
        "\n",
        "    return encodings"
      ],
      "metadata": {
        "id": "29shJQ7yVBH4"
      },
      "execution_count": null,
      "outputs": []
    },
    {
      "cell_type": "code",
      "source": [
        "dataset = dataset.map(convert_to_features, batched=True, remove_columns=dataset['train'].column_names)\n",
        "\n",
        "columns = ['input_ids', 'attention_mask', 'labels', 'decoder_attention_mask']\n",
        "\n",
        "# train_ds.set_format(type='torch', columns=columns)\n",
        "# valid_ds.set_format(type='torch', columns=columns)\n",
        "\n",
        "dataset.set_format(type='torch', columns=columns)"
      ],
      "metadata": {
        "id": "4cObOrnOVEcp",
        "colab": {
          "base_uri": "https://localhost:8080/",
          "height": 81,
          "referenced_widgets": [
            "2de6a23a42b642689077cfaaea192f70",
            "105455fe2d4c4d6f8d871f066c397b58",
            "9e35d61bd5c344b99c22d53eea95cd02",
            "d27a42b5fd2f4035b623460bcc5e2472",
            "a1cb8706d37f4430a7cceac2456e13cd",
            "4655f722509d4ae492d76886b70438b9",
            "a4f23be53ef043aa982e287b52ec4412",
            "ee8d55549ca64210aefa998a3667ffde",
            "4c8e5e68528a467fb74900fa259b4ef7",
            "ae245b50588149f0b7fc0df1176908c5",
            "e798ec92d8e2468c812c20026a0ce3cf",
            "8eb33859cdbf42608c8b09ddaf26df1c",
            "33788269e132464ab000bc3c64c7c254",
            "195c520d294b4a29ae951a2e77759f69",
            "cad1ab343a65456fbdfba48fe722482e",
            "c276a1f37db7412ea4151debd91106db",
            "ced96d1c332e4374be0bc9ed939eeda9",
            "bcda86d7dd17462795c0d528d4d8b3c0",
            "7bc4b7d85bc2472fb5495830946bd1dd",
            "139b010557e7461a8325ba6ecf29d8c9",
            "62817e40a215437b817edf85079e33e4",
            "65dc0142100d471c9b5e2e7650508d72"
          ]
        },
        "outputId": "352b2eb8-1b5e-4f94-a2af-331e896d7119"
      },
      "execution_count": null,
      "outputs": [
        {
          "output_type": "display_data",
          "data": {
            "text/plain": [
              "Map:   0%|          | 0/17636 [00:00<?, ? examples/s]"
            ],
            "application/vnd.jupyter.widget-view+json": {
              "version_major": 2,
              "version_minor": 0,
              "model_id": "2de6a23a42b642689077cfaaea192f70"
            }
          },
          "metadata": {}
        },
        {
          "output_type": "display_data",
          "data": {
            "text/plain": [
              "Map:   0%|          | 0/1960 [00:00<?, ? examples/s]"
            ],
            "application/vnd.jupyter.widget-view+json": {
              "version_major": 2,
              "version_minor": 0,
              "model_id": "8eb33859cdbf42608c8b09ddaf26df1c"
            }
          },
          "metadata": {}
        }
      ]
    },
    {
      "cell_type": "code",
      "source": [
        "from transformers import AutoModelForSeq2SeqLM, DataCollatorForSeq2Seq,Seq2SeqTrainingArguments, Seq2SeqTrainer\n",
        "# data_collator = default_data_collator\n",
        "data_collator = DataCollatorForSeq2Seq(tokenizer)"
      ],
      "metadata": {
        "id": "ocz4SQeJcqkb"
      },
      "execution_count": null,
      "outputs": []
    },
    {
      "cell_type": "code",
      "source": [
        "from transformers import Seq2SeqTrainer\n",
        "from transformers import Seq2SeqTrainingArguments\n",
        "\n",
        "# set training arguments - Feel free to adapt it\n",
        "training_args = Seq2SeqTrainingArguments(\n",
        "    output_dir=\"/content/drive/MyDrive/mBART_QA\",\n",
        "    per_device_train_batch_size=4,\n",
        "    num_train_epochs=1,\n",
        "    per_device_eval_batch_size=4,\n",
        "    predict_with_generate=True,\n",
        "    evaluation_strategy=\"epoch\",\n",
        "    do_train=True,\n",
        "    do_eval=True,\n",
        "    save_strategy=\"epoch\"\n",
        "    # save_strategy=\"no\",\n",
        "    #eval_steps=1000,\n",
        "    # push_to_hub=False\n",
        "    #fp16=True,\n",
        ")\n"
      ],
      "metadata": {
        "id": "EcrpnHb6VIXq"
      },
      "execution_count": null,
      "outputs": []
    },
    {
      "cell_type": "code",
      "source": [
        "trainer = Seq2SeqTrainer(\n",
        "    model=model,\n",
        "    args=training_args,\n",
        "    train_dataset=dataset['train'],\n",
        "    eval_dataset=dataset['test'],\n",
        "    # data_collator=T2TDataCollator(),\n",
        "    data_collator=data_collator,\n",
        "    tokenizer=tokenizer,\n",
        "    # compute_metrics=compute_metrics\n",
        ")"
      ],
      "metadata": {
        "id": "TGogTwfZXTjW"
      },
      "execution_count": null,
      "outputs": []
    },
    {
      "cell_type": "code",
      "source": [
        "import torch, gc\n",
        "gc.collect()\n",
        "torch.cuda.empty_cache()"
      ],
      "metadata": {
        "id": "La0aMOj2aLV5"
      },
      "execution_count": null,
      "outputs": []
    },
    {
      "cell_type": "code",
      "source": [
        "trainer.train()"
      ],
      "metadata": {
        "id": "AoLIY3XOaPc5",
        "colab": {
          "base_uri": "https://localhost:8080/",
          "height": 271
        },
        "outputId": "cfd046a2-9bfa-4344-d776-c1de3142d3ba"
      },
      "execution_count": null,
      "outputs": [
        {
          "data": {
            "text/html": [
              "\n",
              "    <div>\n",
              "      \n",
              "      <progress value='846' max='4409' style='width:300px; height:20px; vertical-align: middle;'></progress>\n",
              "      [ 846/4409 16:17 < 1:08:48, 0.86 it/s, Epoch 0.19/1]\n",
              "    </div>\n",
              "    <table border=\"1\" class=\"dataframe\">\n",
              "  <thead>\n",
              " <tr style=\"text-align: left;\">\n",
              "      <th>Epoch</th>\n",
              "      <th>Training Loss</th>\n",
              "      <th>Validation Loss</th>\n",
              "    </tr>\n",
              "  </thead>\n",
              "  <tbody>\n",
              "  </tbody>\n",
              "</table><p>"
            ],
            "text/plain": [
              "<IPython.core.display.HTML object>"
            ]
          },
          "metadata": {},
          "output_type": "display_data"
        },
        {
          "output_type": "display_data",
          "data": {
            "text/plain": [
              "<IPython.core.display.HTML object>"
            ],
            "text/html": [
              "\n",
              "    <div>\n",
              "      \n",
              "      <progress value='4409' max='4409' style='width:300px; height:20px; vertical-align: middle;'></progress>\n",
              "      [4409/4409 1:29:21, Epoch 1/1]\n",
              "    </div>\n",
              "    <table border=\"1\" class=\"dataframe\">\n",
              "  <thead>\n",
              " <tr style=\"text-align: left;\">\n",
              "      <th>Epoch</th>\n",
              "      <th>Training Loss</th>\n",
              "      <th>Validation Loss</th>\n",
              "    </tr>\n",
              "  </thead>\n",
              "  <tbody>\n",
              "    <tr>\n",
              "      <td>1</td>\n",
              "      <td>0.005200</td>\n",
              "      <td>0.030895</td>\n",
              "    </tr>\n",
              "  </tbody>\n",
              "</table><p>"
            ]
          },
          "metadata": {}
        },
        {
          "output_type": "stream",
          "name": "stderr",
          "text": [
            "Checkpoint destination directory /content/drive/MyDrive/mBART_QA/checkpoint-4409 already exists and is non-empty.Saving will proceed but saved results may be invalid.\n",
            "Some non-default generation parameters are set in the model config. These should go into a GenerationConfig file (https://huggingface.co/docs/transformers/generation_strategies#save-a-custom-decoding-strategy-with-your-model) instead. This warning will be raised to an exception in v4.41.\n",
            "Non-default generation parameters: {'max_length': 200, 'early_stopping': True, 'num_beams': 5, 'forced_eos_token_id': 2}\n"
          ]
        },
        {
          "output_type": "execute_result",
          "data": {
            "text/plain": [
              "TrainOutput(global_step=4409, training_loss=0.00816981798939003, metrics={'train_runtime': 5364.5055, 'train_samples_per_second': 3.288, 'train_steps_per_second': 0.822, 'total_flos': 2.1050584307859456e+16, 'train_loss': 0.00816981798939003, 'epoch': 1.0})"
            ]
          },
          "metadata": {},
          "execution_count": 17
        }
      ]
    },
    {
      "cell_type": "code",
      "source": [
        "device = torch.device(\"cuda\" if torch.cuda.is_available() else \"cpu\")\n",
        "\n",
        "# prompt = \"question: خداوند در طرف راست کدام کوه با بنی اسرائیل وعده گذارد؟ context: اي بني اسرائيل ما شما را از (چنگال) دشمنتان نجات داديم، و در طرف راست كوه طور با شما وعده گذارديم، و من و سلوي بر شما نازل كرديم.د\"\n",
        "\n",
        "context = \"ي بني اسرائيل ما شما را از (چنگال) دشمنتان نجات داديم، و در طرف راست كوه طور با شما وعده گذارديم، و من و سلوي بر شما نازل كرديم.د\"\n",
        "\n",
        "question = \"خداوند در طرف راست کدام کوه با بنی اسرائیل وعده گذارد؟\"\n",
        "\n",
        "# context = \"\"\"We went on a trip to Europe. We had our breakfast at 7 am in the morning at \\\n",
        "# the nearby coffee shop. Wore a dark blue over coat for our first visit to Louvre Museum \\\n",
        "# to experience history and art.\"\"\"\n",
        "\n",
        "# question = \"At what time did we had breakfast?\"\n",
        "\n",
        "prompt = f\"question: {question} context: {context} </s>\"\n",
        "\n",
        "input_ids = tokenizer(prompt, return_tensors=\"pt\").input_ids.to(device)\n",
        "\n",
        "generated_ids = model.generate(input_ids,\n",
        "                                    num_beams=7,\n",
        "                                    num_return_sequences=7,\n",
        "                                    top_k=50,\n",
        "#                                     top_p=.2,\n",
        "                                    temperature=0.95,\n",
        "\n",
        "                                    max_length=200)\n",
        "for generated in generated_ids:\n",
        "    generated_text = tokenizer.decode(generated,skip_special_tokens=True)\n",
        "print(generated_text)\n",
        "\n"
      ],
      "metadata": {
        "id": "0QBLw-hoaTUz",
        "colab": {
          "base_uri": "https://localhost:8080/"
        },
        "outputId": "be41c791-8779-4bf8-d63d-d80758dc4302"
      },
      "execution_count": null,
      "outputs": [
        {
          "output_type": "stream",
          "name": "stderr",
          "text": [
            "/usr/local/lib/python3.10/dist-packages/transformers/generation/configuration_utils.py:392: UserWarning: `do_sample` is set to `False`. However, `temperature` is set to `0.95` -- this flag is only used in sample-based generation modes. You should set `do_sample=True` or unset `temperature`.\n",
            "  warnings.warn(\n"
          ]
        },
        {
          "output_type": "stream",
          "name": "stdout",
          "text": [
            "گونه\n"
          ]
        }
      ]
    },
    {
      "cell_type": "code",
      "source": [
        "context = \"\"\"ي بني اسرائيل ما شما را از (چنگال) دشمنتان نجات داديم،  \\\n",
        "و در طرف راست كوه طور با شما وعده گذارديم، و من و سلوي بر شما نازل كرديم.د\"\"\"\n",
        "\n",
        "question = \"خداوند در طرف راست کدام کوه با بنی اسرائیل وعده گذارد؟\"\n",
        "print(context)\n",
        "print(question)\n",
        "\n",
        "\n",
        "# context = \"\"\"We went on a trip to Europe. We had our breakfast at 7 am in the morning at \\\n",
        "# the nearby coffee shop. Wore a dark blue over coat for our first visit to Louvre Museum \\\n",
        "# to experience history and art.\"\"\"\n",
        "\n",
        "# question = \"At what time did we had breakfast?\"\n",
        "# print(context)\n",
        "# print(question)"
      ],
      "metadata": {
        "id": "4qgLF0_vJNjB",
        "colab": {
          "base_uri": "https://localhost:8080/"
        },
        "outputId": "e54075b3-0e8e-47e4-bb1c-6e0be1c5ff44"
      },
      "execution_count": null,
      "outputs": [
        {
          "output_type": "stream",
          "name": "stdout",
          "text": [
            "ي بني اسرائيل ما شما را از (چنگال) دشمنتان نجات داديم،  و در طرف راست كوه طور با شما وعده گذارديم، و من و سلوي بر شما نازل كرديم.د\n",
            "خداوند در طرف راست کدام کوه با بنی اسرائیل وعده گذارد؟\n"
          ]
        }
      ]
    },
    {
      "cell_type": "code",
      "source": [
        "device = torch.device(\"cuda\" if torch.cuda.is_available() else \"cpu\")\n",
        "\n",
        "input_text =  f\"answer: {question} context: {context} </s>\"\n",
        "input_ids = tokenizer(input_text,\n",
        "                         return_tensors='pt', pad_to_max_length=True, truncation=True, max_length=64).input_ids.to(device)\n",
        "# input_ids = encoded_query[\"input_ids\"]\n",
        "# attention_mask = input_ids[\"attention_mask\"]\n",
        "attention_mask = tokenizer(input_text,\n",
        "                         return_tensors='pt', pad_to_max_length=True, truncation=True, max_length=64).attention_mask.to(device)\n",
        "\n",
        "generated_answer = model.generate(input_ids, attention_mask = attention_mask,\n",
        "                                 max_length=64, top_p=0.95, top_k=50)\n",
        "for each in generated_answer:\n",
        "  decoded_answer = tokenizer.decode(each, skip_special_tokens=True)\n",
        "print(\"Answer: \", decoded_answer)"
      ],
      "metadata": {
        "id": "oNsOcqBwaYfB",
        "colab": {
          "base_uri": "https://localhost:8080/"
        },
        "outputId": "ab760fbc-d735-46f6-f02f-6dea5884f7c6"
      },
      "execution_count": null,
      "outputs": [
        {
          "output_type": "stream",
          "name": "stdout",
          "text": [
            "Answer:  طور\n"
          ]
        },
        {
          "output_type": "stream",
          "name": "stderr",
          "text": [
            "/usr/local/lib/python3.10/dist-packages/transformers/tokenization_utils_base.py:2619: FutureWarning: The `pad_to_max_length` argument is deprecated and will be removed in a future version, use `padding=True` or `padding='longest'` to pad to the longest sequence in the batch, or use `padding='max_length'` to pad to a max length. In this case, you can give a specific length with `max_length` (e.g. `max_length=45`) or leave max_length to None to pad to the maximal input size of the model (e.g. 512 for Bert).\n",
            "  warnings.warn(\n",
            "/usr/local/lib/python3.10/dist-packages/transformers/generation/configuration_utils.py:397: UserWarning: `do_sample` is set to `False`. However, `top_p` is set to `0.95` -- this flag is only used in sample-based generation modes. You should set `do_sample=True` or unset `top_p`.\n",
            "  warnings.warn(\n"
          ]
        }
      ]
    },
    {
      "cell_type": "markdown",
      "source": [
        "# evaluation"
      ],
      "metadata": {
        "id": "Axypn427UgnC"
      }
    },
    {
      "cell_type": "code",
      "source": [
        "import json\n",
        "import torch\n",
        "\n",
        "device = torch.device(\"cuda\" if torch.cuda.is_available() else \"cpu\")\n",
        "\n",
        "with open('/content/drive/MyDrive/dev.json', 'r') as f:\n",
        "  dev_data_list = json.load(f)\n",
        "\n",
        "predicted_output = []\n",
        "ground_truth = []\n",
        "\n",
        "for qa in dev_data_list[:20]:\n",
        "  ground_truth.append(qa['answers'][0]['text'])\n",
        "\n",
        "  input_text =  f\"answer: {qa['question']} context: {qa['context']} </s>\"\n",
        "  input_ids = tokenizer(input_text,\n",
        "                          return_tensors='pt', pad_to_max_length=True, truncation=True, max_length=64).input_ids.to(device)\n",
        "\n",
        "  attention_mask = tokenizer(input_text,\n",
        "                          return_tensors='pt', pad_to_max_length=True, truncation=True, max_length=64).attention_mask.to(device)\n",
        "\n",
        "  generated_answer = model.generate(input_ids, attention_mask = attention_mask,\n",
        "                                  max_length=64, top_p=0.95, top_k=50)\n",
        "  for each in generated_answer:\n",
        "    decoded_answer = tokenizer.decode(each, skip_special_tokens=True)\n",
        "\n",
        "  predicted_output.append(decoded_answer)\n"
      ],
      "metadata": {
        "id": "etykxyBSUiqu"
      },
      "execution_count": null,
      "outputs": []
    },
    {
      "cell_type": "code",
      "source": [
        "from sklearn.metrics import f1_score, precision_score, recall_score\n",
        "\n",
        "f1 = f1_score(ground_truth, predicted_output, average='micro')\n",
        "\n",
        "f1"
      ],
      "metadata": {
        "colab": {
          "base_uri": "https://localhost:8080/"
        },
        "id": "eAuJBWH9VrPo",
        "outputId": "d7409205-0747-4f36-e052-84091f6bb502"
      },
      "execution_count": null,
      "outputs": [
        {
          "output_type": "execute_result",
          "data": {
            "text/plain": [
              "0.3"
            ]
          },
          "metadata": {},
          "execution_count": 22
        }
      ]
    },
    {
      "cell_type": "code",
      "source": [
        "def compute_exact_match_score(pred, gt):\n",
        "    num_correct = 0\n",
        "\n",
        "    for p, g in zip(pred, gt):\n",
        "        if p == g:\n",
        "            num_correct += 1\n",
        "\n",
        "    exact_match_score = num_correct / len(pred)\n",
        "    return exact_match_score\n",
        "\n",
        "exact_match_score = compute_exact_match_score(predicted_output, ground_truth)\n",
        "print(\"Exact match score: {:.2f}\".format(exact_match_score))\n"
      ],
      "metadata": {
        "id": "J-kixMee2DXc",
        "colab": {
          "base_uri": "https://localhost:8080/"
        },
        "outputId": "5546c1e9-136f-4ae4-9bfa-0976670c0a33"
      },
      "execution_count": null,
      "outputs": [
        {
          "output_type": "stream",
          "name": "stdout",
          "text": [
            "Exact match score: 0.30\n"
          ]
        }
      ]
    },
    {
      "cell_type": "code",
      "source": [
        "ground_truth"
      ],
      "metadata": {
        "colab": {
          "base_uri": "https://localhost:8080/"
        },
        "id": "fP-Xn5n4YT2E",
        "outputId": "656498d7-c8b8-45b9-e58a-11e6f62adf24"
      },
      "execution_count": null,
      "outputs": [
        {
          "output_type": "execute_result",
          "data": {
            "text/plain": [
              "['روح',\n",
              " 'موسی',\n",
              " 'اسرافکاران',\n",
              " 'تندبادی است که عذاب دردناکی در آن است',\n",
              " 'شراب طهوری آمیخته با زنجبیل',\n",
              " 'نوزده نفر',\n",
              " 'راه\\u200cرفتن',\n",
              " 'فضل خود',\n",
              " 'تقوای الهی',\n",
              " 'غیر خدا',\n",
              " 'رسالتهای الهی',\n",
              " 'ظالمان',\n",
              " 'القاب زشت و ناپسند',\n",
              " 'وحی',\n",
              " 'صد تازیانه',\n",
              " 'شدّت و رنجی که به او رسیده',\n",
              " 'یک',\n",
              " 'کسانی که به خدا دروغ می\\u200cبندند',\n",
              " 'زراعتی',\n",
              " 'آنچه انجام می\\u200cدادند']"
            ]
          },
          "metadata": {},
          "execution_count": 24
        }
      ]
    },
    {
      "cell_type": "code",
      "source": [
        "predicted_output"
      ],
      "metadata": {
        "colab": {
          "base_uri": "https://localhost:8080/"
        },
        "id": "V735Geo1YXcO",
        "outputId": "d8246f83-2906-425e-f933-96bc6ae246e9"
      },
      "execution_count": null,
      "outputs": [
        {
          "output_type": "execute_result",
          "data": {
            "text/plain": [
              "['روح',\n",
              " 'موسی',\n",
              " 'انسان',\n",
              " 'احقاف',\n",
              " 'حریر',\n",
              " 'نوزده',\n",
              " 'فرزندش',\n",
              " 'فضل خود',\n",
              " 'تقوای',\n",
              " 'پیامبر',\n",
              " 'ایمانی',\n",
              " 'تمام کسانی را که این قرآن بر من وحی شده، تا شما و تمام کسانی را که این قرآن بر من وحی شده، تا شما و تمام کسانی را که این',\n",
              " 'ایمان',\n",
              " 'وحی',\n",
              " 'یک',\n",
              " 'شدّت و رنج',\n",
              " 'یک',\n",
              " 'خدا',\n",
              " 'زراعتی',\n",
              " 'فرشتگان']"
            ]
          },
          "metadata": {},
          "execution_count": 25
        }
      ]
    },
    {
      "cell_type": "code",
      "source": [
        "for a in dev_data_list[:20]:\n",
        "  print(a['question'])"
      ],
      "metadata": {
        "colab": {
          "base_uri": "https://localhost:8080/"
        },
        "id": "OWpXf1eFY3vh",
        "outputId": "ca3276ce-27a9-408f-8408-021c7b01fb3b"
      },
      "execution_count": null,
      "outputs": [
        {
          "output_type": "stream",
          "name": "stdout",
          "text": [
            "فرشتگان ذکر شده در قرآن چه کسانی هستند؟\n",
            "کدام پیامبر از سوی فرعونیان تکذیب شد؟\n",
            "اعمال چه کسانی برایشان زینت داده شده است؟\n",
            "قوم عاد به چه بلایی گرفتار شدند؟\n",
            "جامهای بهشتی لبریز از چه چیزی است؟\n",
            "چند نفر از فرشتگان نگهبان دوزخ هستند؟\n",
            "لقمان از پسرش خواست در چه چیزی اعتدال را رعایت کند؟\n",
            "خداوند مومنان تنگدست را از چه چیز بی‌نیاز می‌سازد؟\n",
            "مومنان باید چه چیزی را در امور خود پیشه کنند؟\n",
            "اگر قرآن از سوی چه کسی بود، اختلاف فراوانی در آن می‌یافتند؟\n",
            "پیامبران پیشین چه چیز را بین مردم تبلیع می‌کردند؟\n",
            "چه کسانی رستگار نخواهند شد؟\n",
            "در قرآن سفارش شده است که مردم با چه چیزی یکدیگر را یاد نکنند؟\n",
            "پیامبر تنها به چه وسیله‌ای مردم را انذار می‌کند؟\n",
            "هر یک از زن و مرد زناکار را باید چند تازیانه بزنند؟\n",
            "اگر بعد از چه چیز به انسان نعمت چشانده شود غرق غفلت می‌شود؟\n",
            "خدایی که بنده‌اش را در چند شب، از مسجد الحرام به مسجد الاقصی برد؟\n",
            "چه کسانی رستگار نخواهند شد؟\n",
            "خداوند با آب از زمین چه چیز را خارج می‌سازد که رنگهای مختلف دارد؟\n",
            "‌خداوند در آخرت انسانها را از چه با خبر می‌کند؟\n"
          ]
        }
      ]
    }
  ]
}