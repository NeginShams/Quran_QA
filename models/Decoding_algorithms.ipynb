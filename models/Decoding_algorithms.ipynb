{
  "cells": [
    {
      "cell_type": "code",
      "execution_count": null,
      "metadata": {
        "colab": {
          "base_uri": "https://localhost:8080/"
        },
        "id": "lXjKUb2yQvmz",
        "outputId": "3dd1268c-0a7b-4f60-aec4-ef69e82e212f"
      },
      "outputs": [
        {
          "output_type": "stream",
          "name": "stdout",
          "text": [
            "Mounted at /content/drive\n"
          ]
        }
      ],
      "source": [
        "from google.colab import drive\n",
        "drive.mount('/content/drive')"
      ]
    },
    {
      "cell_type": "code",
      "execution_count": null,
      "metadata": {
        "colab": {
          "base_uri": "https://localhost:8080/"
        },
        "id": "pPKJVhCgQ_Cl",
        "outputId": "fe01e126-d60e-47b4-e459-983a78b42e83"
      },
      "outputs": [
        {
          "output_type": "stream",
          "name": "stdout",
          "text": [
            "\u001b[2K     \u001b[90m━━━━━━━━━━━━━━━━━━━━━━━━━━━━━━━━━━━━━━━━\u001b[0m \u001b[32m542.0/542.0 kB\u001b[0m \u001b[31m8.0 MB/s\u001b[0m eta \u001b[36m0:00:00\u001b[0m\n",
            "\u001b[2K     \u001b[90m━━━━━━━━━━━━━━━━━━━━━━━━━━━━━━━━━━━━━━━━\u001b[0m \u001b[32m116.3/116.3 kB\u001b[0m \u001b[31m12.1 MB/s\u001b[0m eta \u001b[36m0:00:00\u001b[0m\n",
            "\u001b[2K     \u001b[90m━━━━━━━━━━━━━━━━━━━━━━━━━━━━━━━━━━━━━━━━\u001b[0m \u001b[32m194.1/194.1 kB\u001b[0m \u001b[31m15.1 MB/s\u001b[0m eta \u001b[36m0:00:00\u001b[0m\n",
            "\u001b[2K     \u001b[90m━━━━━━━━━━━━━━━━━━━━━━━━━━━━━━━━━━━━━━━━\u001b[0m \u001b[32m134.8/134.8 kB\u001b[0m \u001b[31m10.5 MB/s\u001b[0m eta \u001b[36m0:00:00\u001b[0m\n",
            "\u001b[2K     \u001b[90m━━━━━━━━━━━━━━━━━━━━━━━━━━━━━━━━━━━━━━━━\u001b[0m \u001b[32m388.9/388.9 kB\u001b[0m \u001b[31m16.5 MB/s\u001b[0m eta \u001b[36m0:00:00\u001b[0m\n",
            "\u001b[?25h\u001b[33mWARNING: Skipping accelerate as it is not installed.\u001b[0m\u001b[33m\n",
            "\u001b[2K     \u001b[90m━━━━━━━━━━━━━━━━━━━━━━━━━━━━━━━━━━━━━━━━\u001b[0m \u001b[32m9.0/9.0 MB\u001b[0m \u001b[31m21.9 MB/s\u001b[0m eta \u001b[36m0:00:00\u001b[0m\n",
            "\u001b[2K     \u001b[90m━━━━━━━━━━━━━━━━━━━━━━━━━━━━━━━━━━━━━━━━\u001b[0m \u001b[32m297.6/297.6 kB\u001b[0m \u001b[31m33.8 MB/s\u001b[0m eta \u001b[36m0:00:00\u001b[0m\n",
            "\u001b[2K     \u001b[90m━━━━━━━━━━━━━━━━━━━━━━━━━━━━━━━━━━━━━━━━\u001b[0m \u001b[32m3.6/3.6 MB\u001b[0m \u001b[31m57.0 MB/s\u001b[0m eta \u001b[36m0:00:00\u001b[0m\n",
            "\u001b[?25h  Preparing metadata (setup.py) ... \u001b[?25l\u001b[?25hdone\n",
            "  Building wheel for rouge-score (setup.py) ... \u001b[?25l\u001b[?25hdone\n",
            "\u001b[2K     \u001b[90m━━━━━━━━━━━━━━━━━━━━━━━━━━━━━━━━━━━━━━━━\u001b[0m \u001b[32m84.1/84.1 kB\u001b[0m \u001b[31m3.3 MB/s\u001b[0m eta \u001b[36m0:00:00\u001b[0m\n",
            "\u001b[2K     \u001b[90m━━━━━━━━━━━━━━━━━━━━━━━━━━━━━━━━━━━━━━━━\u001b[0m \u001b[32m841.5/841.5 kB\u001b[0m \u001b[31m10.3 MB/s\u001b[0m eta \u001b[36m0:00:00\u001b[0m\n",
            "\u001b[?25h  Installing build dependencies ... \u001b[?25l\u001b[?25hdone\n",
            "  Getting requirements to build wheel ... \u001b[?25l\u001b[?25hdone\n",
            "  Preparing metadata (pyproject.toml) ... \u001b[?25l\u001b[?25hdone\n",
            "  Building wheel for accelerate (pyproject.toml) ... \u001b[?25l\u001b[?25hdone\n",
            "\u001b[31mERROR: file:///content does not appear to be a Python project: neither 'setup.py' nor 'pyproject.toml' found.\u001b[0m\u001b[31m\n",
            "\u001b[0m"
          ]
        }
      ],
      "source": [
        "!pip install -q transformers datasets sentencepiece\n",
        "!pip uninstall -y -q transformers accelerate\n",
        "!pip install -q transformers accelerate\n",
        "!pip install -q rouge-score\n",
        "!pip install -q evaluate\n",
        "!pip install -q torchmetrics\n",
        "!pip install -q git+https://github.com/huggingface/accelerate\n",
        "\n",
        "!git clone -q https://github.com/huggingface/transformers.git\n",
        "!cd transformers\n",
        "!pip install  -q -e."
      ]
    },
    {
      "cell_type": "code",
      "execution_count": null,
      "metadata": {
        "id": "E1diqz9PSTSl"
      },
      "outputs": [],
      "source": [
        "import json\n",
        "import torch\n",
        "from transformers import MBart50TokenizerFast\n",
        "from transformers import MBartForConditionalGeneration\n",
        "# from parsivar import Normalizer\n",
        "import evaluate"
      ]
    },
    {
      "cell_type": "code",
      "execution_count": null,
      "metadata": {
        "id": "3AvH_QMpREsI"
      },
      "outputs": [],
      "source": [
        "model_name_or_path = '/content/drive/MyDrive/mBART_QA/checkpoint-1909'\n",
        "\n",
        "device = torch.device(\"cuda\" if torch.cuda.is_available() else \"cpu\")\n",
        "tokenizer = MBart50TokenizerFast.from_pretrained(model_name_or_path)\n",
        "model = MBartForConditionalGeneration.from_pretrained(model_name_or_path, use_safetensors=True).to(device)"
      ]
    },
    {
      "cell_type": "code",
      "execution_count": null,
      "metadata": {
        "colab": {
          "base_uri": "https://localhost:8080/",
          "height": 81,
          "referenced_widgets": [
            "aedc0dbc273946f596c918af82695ab7",
            "19a7fdb78b224b56b03846145f990b1b",
            "9efd538beb8b4b16ad09c3fc38701b90",
            "ff17d242b6fd4f6083bec9271ff4d092",
            "37d6191768874aaf943382886e76d056",
            "1cacfafce041424f9b47f201468ed604",
            "e0246389446347e88e0c59e5f2123fe9",
            "1cf15a6c45d749b6ac67d8ac4bab969c",
            "afd512fd04a449718b73f4da3c7066c5",
            "f25f06fe9b554372991b6da8f31ebcaa",
            "6fdf1ade51c74fee8666b818074b528d",
            "f536b5022b674a5794094d41299d7e63",
            "75d924d862574e1e81bf7106ac12b555",
            "f3697935249c4c1aa568a668aa61a8a1",
            "96afe3993b024a3bbcdbfc88f387f3a3",
            "d882d68529b44055af7819733963ad7b",
            "29f51380b5e94e3eafc07f4f44945ba5",
            "e530407a2b1a498181916149ff357ed2",
            "c26d504f89c04dbdba6e711a7cd7b0ef",
            "c9399aa1d9be4165abdf103f29570609",
            "489b04d4fa0142218083e8b095b1711a",
            "9e63ba4b524c4886a97f2d49cdf41c35"
          ]
        },
        "id": "XNHXf5JKScOi",
        "outputId": "c504d505-cde8-4f6c-efec-7e1984731baa"
      },
      "outputs": [
        {
          "output_type": "display_data",
          "data": {
            "text/plain": [
              "Downloading builder script:   0%|          | 0.00/4.53k [00:00<?, ?B/s]"
            ],
            "application/vnd.jupyter.widget-view+json": {
              "version_major": 2,
              "version_minor": 0,
              "model_id": "aedc0dbc273946f596c918af82695ab7"
            }
          },
          "metadata": {}
        },
        {
          "output_type": "display_data",
          "data": {
            "text/plain": [
              "Downloading extra modules:   0%|          | 0.00/3.32k [00:00<?, ?B/s]"
            ],
            "application/vnd.jupyter.widget-view+json": {
              "version_major": 2,
              "version_minor": 0,
              "model_id": "f536b5022b674a5794094d41299d7e63"
            }
          },
          "metadata": {}
        }
      ],
      "source": [
        "metric = evaluate.load(\"squad\")\n",
        "# my_normalizer = Normalizer()"
      ]
    },
    {
      "cell_type": "markdown",
      "metadata": {
        "id": "WdjGwuziRT44"
      },
      "source": [
        "# greedy algorithm"
      ]
    },
    {
      "cell_type": "code",
      "execution_count": null,
      "metadata": {
        "colab": {
          "base_uri": "https://localhost:8080/"
        },
        "id": "Wo0yIfvtRJry",
        "outputId": "5cbed8e5-163e-4fad-97dc-8c1a6b18b89c"
      },
      "outputs": [
        {
          "data": {
            "text/plain": [
              "{'exact_match': 57.13350785340314, 'f1': 60.95007571169977}"
            ]
          },
          "execution_count": 15,
          "metadata": {},
          "output_type": "execute_result"
        }
      ],
      "source": [
        "with open('/content/drive/MyDrive/dev_v9.json', 'r', encoding='utf-8-sig') as f:\n",
        "  dev_data_list = json.load(f)\n",
        "\n",
        "predicted_output = []\n",
        "ground_truth = []\n",
        "\n",
        "predicted_answers = []\n",
        "theoretical_answers = []\n",
        "\n",
        "for qa in dev_data_list:\n",
        "\n",
        "  # ground_truth.append(my_normalizer.normalize(qa['answers'][0]['text']))\n",
        "  ground_truth.append(qa['answers'][0]['text'])\n",
        "\n",
        "  question = qa['question']\n",
        "  context = qa['context']\n",
        "\n",
        "\n",
        "  input_text =  f\"answer: {qa['question']} context: {qa['context']} </s>\"\n",
        "  input_ids = tokenizer(input_text,\n",
        "                        return_tensors='pt', pad_to_max_length=True, truncation=True, max_length=64).input_ids.to(device)\n",
        "\n",
        "  attention_mask = tokenizer(input_text,\n",
        "                        return_tensors='pt', pad_to_max_length=True, truncation=True, max_length=64).attention_mask.to(device)\n",
        "\n",
        "  generated_answer = model.generate(input_ids, attention_mask = attention_mask, max_length=64,\n",
        "                                     output_scores = True, return_dict_in_generate = True)\n",
        "\n",
        "\n",
        "  generated_answers = tokenizer.batch_decode(generated_answer[\"sequences\"], skip_special_tokens=True)\n",
        "  answer_scores = generated_answer[\"sequences_scores\"]\n",
        "\n",
        "  answers_dict = {}\n",
        "  for ans, score in zip(generated_answers, answer_scores):\n",
        "    if ans and ans != '[CLS]' and ans != '[SEP]' and ans in context and len(ans) <= 30 and len(ans)>0:\n",
        "        answers_dict[ans] = score\n",
        "    # print(f\"Answer: {ans}, Score: {score}\")\n",
        "\n",
        "  try:\n",
        "    final_answer = max(answers_dict, key=answers_dict.get)\n",
        "  except:\n",
        "    final_answer = ''\n",
        "  # predicted_answers.append({\"id\": qa['pq_id'], \"prediction_text\": final_answer})\n",
        "  # predicted_answers.append({\"id\": qa['pq_id'], \"prediction_text\": my_normalizer.normalize(final_answer).strip()})\n",
        "  predicted_answers.append({\"id\": qa['pq_id'], \"prediction_text\": final_answer.strip()})\n",
        "  # predicted_output.append(my_normalizer.normalize(final_answer).strip())\n",
        "  predicted_output.append(final_answer.strip())\n",
        "\n",
        "\n",
        "\n",
        "  new_ex = {}\n",
        "  new_ex['id'] = qa[\"pq_id\"]\n",
        "  new_ex['answers'] = {}\n",
        "  new_ex['answers']['answer_start'] = [qa['answers'][0]['start_char']]\n",
        "  new_ex['answers']['text'] = [qa['answers'][0]['text']]\n",
        "  # new_ex['answers']['text'] = [my_normalizer.normalize(qa['answers'][0]['text'])]\n",
        "  theoretical_answers.append(new_ex)\n",
        "\n",
        "metric.compute(predictions=predicted_answers, references=theoretical_answers)"
      ]
    },
    {
      "cell_type": "markdown",
      "metadata": {
        "id": "P50bOGu7V1ou"
      },
      "source": [
        "# Beam Search"
      ]
    },
    {
      "cell_type": "code",
      "execution_count": null,
      "metadata": {
        "colab": {
          "base_uri": "https://localhost:8080/"
        },
        "id": "QLvf4u_bV1E7",
        "outputId": "d4105c85-86a3-468a-de4e-84d5ea48cb23"
      },
      "outputs": [
        {
          "name": "stderr",
          "output_type": "stream",
          "text": [
            "/usr/local/lib/python3.10/dist-packages/transformers/tokenization_utils_base.py:2674: FutureWarning: The `pad_to_max_length` argument is deprecated and will be removed in a future version, use `padding=True` or `padding='longest'` to pad to the longest sequence in the batch, or use `padding='max_length'` to pad to a max length. In this case, you can give a specific length with `max_length` (e.g. `max_length=45`) or leave max_length to None to pad to the maximal input size of the model (e.g. 512 for Bert).\n",
            "  warnings.warn(\n"
          ]
        },
        {
          "data": {
            "text/plain": [
              "{'exact_match': 58.50785340314136, 'f1': 61.491213602314126}"
            ]
          },
          "execution_count": 20,
          "metadata": {},
          "output_type": "execute_result"
        }
      ],
      "source": [
        "with open('/content/drive/MyDrive/dev_v9.json', 'r', encoding='utf-8-sig') as f:\n",
        "  dev_data_list = json.load(f)\n",
        "\n",
        "predicted_output = []\n",
        "ground_truth = []\n",
        "\n",
        "predicted_answers = []\n",
        "theoretical_answers = []\n",
        "\n",
        "for qa in dev_data_list:\n",
        "\n",
        "  # ground_truth.append(my_normalizer.normalize(qa['answers'][0]['text']))\n",
        "  ground_truth.append(qa['answers'][0]['text'])\n",
        "\n",
        "  question = qa['question']\n",
        "  context = qa['context']\n",
        "\n",
        "\n",
        "  input_text =  f\"answer: {qa['question']} context: {qa['context']} </s>\"\n",
        "  input_ids = tokenizer(input_text,\n",
        "                        return_tensors='pt', pad_to_max_length=True, truncation=True, max_length=64).input_ids.to(device)\n",
        "\n",
        "  attention_mask = tokenizer(input_text,\n",
        "                        return_tensors='pt', pad_to_max_length=True, truncation=True, max_length=64).attention_mask.to(device)\n",
        "\n",
        "  generated_answer = model.generate(input_ids, attention_mask = attention_mask, max_length=64, num_beams=10,\n",
        "                                    output_scores = True, return_dict_in_generate = True)\n",
        "\n",
        "\n",
        "  generated_answers = tokenizer.batch_decode(generated_answer[\"sequences\"], skip_special_tokens=True)\n",
        "  answer_scores = generated_answer[\"sequences_scores\"]\n",
        "\n",
        "  answers_dict = {}\n",
        "  for ans, score in zip(generated_answers, answer_scores):\n",
        "    if ans and ans != '[CLS]' and ans != '[SEP]' and ans in context and len(ans) <= 30 and len(ans)>0:\n",
        "        answers_dict[ans] = score\n",
        "    # print(f\"Answer: {ans}, Score: {score}\")\n",
        "\n",
        "  try:\n",
        "    final_answer = max(answers_dict, key=answers_dict.get)\n",
        "  except:\n",
        "    final_answer = ''\n",
        "  # predicted_answers.append({\"id\": qa['pq_id'], \"prediction_text\": final_answer})\n",
        "  # predicted_answers.append({\"id\": qa['pq_id'], \"prediction_text\": my_normalizer.normalize(final_answer).strip()})\n",
        "  predicted_answers.append({\"id\": qa['pq_id'], \"prediction_text\": final_answer.strip()})\n",
        "  # predicted_output.append(my_normalizer.normalize(final_answer).strip())\n",
        "  predicted_output.append(final_answer.strip())\n",
        "\n",
        "\n",
        "\n",
        "  new_ex = {}\n",
        "  new_ex['id'] = qa[\"pq_id\"]\n",
        "  new_ex['answers'] = {}\n",
        "  new_ex['answers']['answer_start'] = [qa['answers'][0]['start_char']]\n",
        "  new_ex['answers']['text'] = [qa['answers'][0]['text']]\n",
        "  # new_ex['answers']['text'] = [my_normalizer.normalize(qa['answers'][0]['text'])]\n",
        "  theoretical_answers.append(new_ex)\n",
        "\n",
        "metric.compute(predictions=predicted_answers, references=theoretical_answers)"
      ]
    },
    {
      "cell_type": "markdown",
      "metadata": {
        "id": "NsF_tl1gY1ny"
      },
      "source": [
        "# sampling"
      ]
    },
    {
      "cell_type": "code",
      "execution_count": null,
      "metadata": {
        "colab": {
          "base_uri": "https://localhost:8080/"
        },
        "id": "PktMdfMwbbDv",
        "outputId": "f665ebf7-ef06-4242-9b7c-de540923705e"
      },
      "outputs": [
        {
          "output_type": "stream",
          "name": "stderr",
          "text": [
            "/usr/local/lib/python3.10/dist-packages/transformers/tokenization_utils_base.py:2674: FutureWarning: The `pad_to_max_length` argument is deprecated and will be removed in a future version, use `padding=True` or `padding='longest'` to pad to the longest sequence in the batch, or use `padding='max_length'` to pad to a max length. In this case, you can give a specific length with `max_length` (e.g. `max_length=45`) or leave max_length to None to pad to the maximal input size of the model (e.g. 512 for Bert).\n",
            "  warnings.warn(\n"
          ]
        },
        {
          "output_type": "execute_result",
          "data": {
            "text/plain": [
              "{'exact_match': 59.94764397905759, 'f1': 62.048255455167485}"
            ]
          },
          "metadata": {},
          "execution_count": 9
        }
      ],
      "source": [
        "with open('/content/drive/MyDrive/dev_v9.json', 'r', encoding='utf-8-sig') as f:\n",
        "  dev_data_list = json.load(f)\n",
        "\n",
        "predicted_output = []\n",
        "ground_truth = []\n",
        "\n",
        "predicted_answers = []\n",
        "theoretical_answers = []\n",
        "\n",
        "for qa in dev_data_list:\n",
        "\n",
        "  # ground_truth.append(my_normalizer.normalize(qa['answers'][0]['text']))\n",
        "  ground_truth.append(qa['answers'][0]['text'])\n",
        "\n",
        "  question = qa['question']\n",
        "  context = qa['context']\n",
        "\n",
        "\n",
        "  input_text =  f\"answer: {qa['question']} context: {qa['context']} </s>\"\n",
        "  input_ids = tokenizer(input_text,\n",
        "                        return_tensors='pt', pad_to_max_length=True, truncation=True, max_length=64).input_ids.to(device)\n",
        "\n",
        "  attention_mask = tokenizer(input_text,\n",
        "                        return_tensors='pt', pad_to_max_length=True, truncation=True, max_length=64).attention_mask.to(device)\n",
        "\n",
        "  generated_answer = model.generate(input_ids, attention_mask = attention_mask, max_length=64,\n",
        "                                    output_scores = True, return_dict_in_generate = True,\n",
        "                                    do_sample=True, top_p=1, temperature=0.95)\n",
        "\n",
        "\n",
        "  generated_answers = tokenizer.batch_decode(generated_answer[\"sequences\"], skip_special_tokens=True)\n",
        "  answer_scores = generated_answer[\"sequences_scores\"]\n",
        "\n",
        "  answers_dict = {}\n",
        "  for ans, score in zip(generated_answers, answer_scores):\n",
        "    if ans and ans != '[CLS]' and ans != '[SEP]' and ans in context and len(ans) <= 30 and len(ans)>0:\n",
        "        answers_dict[ans] = score\n",
        "    # print(f\"Answer: {ans}, Score: {score}\")\n",
        "\n",
        "  try:\n",
        "    final_answer = max(answers_dict, key=answers_dict.get)\n",
        "  except:\n",
        "    final_answer = ''\n",
        "  # predicted_answers.append({\"id\": qa['pq_id'], \"prediction_text\": final_answer})\n",
        "  # predicted_answers.append({\"id\": qa['pq_id'], \"prediction_text\": my_normalizer.normalize(final_answer).strip()})\n",
        "  predicted_answers.append({\"id\": qa['pq_id'], \"prediction_text\": final_answer.strip()})\n",
        "  # predicted_output.append(my_normalizer.normalize(final_answer).strip())\n",
        "  predicted_output.append(final_answer.strip())\n",
        "\n",
        "\n",
        "\n",
        "  new_ex = {}\n",
        "  new_ex['id'] = qa[\"pq_id\"]\n",
        "  new_ex['answers'] = {}\n",
        "  new_ex['answers']['answer_start'] = [qa['answers'][0]['start_char']]\n",
        "  new_ex['answers']['text'] = [qa['answers'][0]['text']]\n",
        "  # new_ex['answers']['text'] = [my_normalizer.normalize(qa['answers'][0]['text'])]\n",
        "  theoretical_answers.append(new_ex)\n",
        "\n",
        "metric.compute(predictions=predicted_answers, references=theoretical_answers)"
      ]
    }
  ],
  "metadata": {
    "accelerator": "GPU",
    "colab": {
      "gpuType": "T4",
      "provenance": []
    },
    "kernelspec": {
      "display_name": "Python 3",
      "name": "python3"
    },
    "language_info": {
      "name": "python"
    },
    "widgets": {
      "application/vnd.jupyter.widget-state+json": {
        "aedc0dbc273946f596c918af82695ab7": {
          "model_module": "@jupyter-widgets/controls",
          "model_name": "HBoxModel",
          "model_module_version": "1.5.0",
          "state": {
            "_dom_classes": [],
            "_model_module": "@jupyter-widgets/controls",
            "_model_module_version": "1.5.0",
            "_model_name": "HBoxModel",
            "_view_count": null,
            "_view_module": "@jupyter-widgets/controls",
            "_view_module_version": "1.5.0",
            "_view_name": "HBoxView",
            "box_style": "",
            "children": [
              "IPY_MODEL_19a7fdb78b224b56b03846145f990b1b",
              "IPY_MODEL_9efd538beb8b4b16ad09c3fc38701b90",
              "IPY_MODEL_ff17d242b6fd4f6083bec9271ff4d092"
            ],
            "layout": "IPY_MODEL_37d6191768874aaf943382886e76d056"
          }
        },
        "19a7fdb78b224b56b03846145f990b1b": {
          "model_module": "@jupyter-widgets/controls",
          "model_name": "HTMLModel",
          "model_module_version": "1.5.0",
          "state": {
            "_dom_classes": [],
            "_model_module": "@jupyter-widgets/controls",
            "_model_module_version": "1.5.0",
            "_model_name": "HTMLModel",
            "_view_count": null,
            "_view_module": "@jupyter-widgets/controls",
            "_view_module_version": "1.5.0",
            "_view_name": "HTMLView",
            "description": "",
            "description_tooltip": null,
            "layout": "IPY_MODEL_1cacfafce041424f9b47f201468ed604",
            "placeholder": "​",
            "style": "IPY_MODEL_e0246389446347e88e0c59e5f2123fe9",
            "value": "Downloading builder script: 100%"
          }
        },
        "9efd538beb8b4b16ad09c3fc38701b90": {
          "model_module": "@jupyter-widgets/controls",
          "model_name": "FloatProgressModel",
          "model_module_version": "1.5.0",
          "state": {
            "_dom_classes": [],
            "_model_module": "@jupyter-widgets/controls",
            "_model_module_version": "1.5.0",
            "_model_name": "FloatProgressModel",
            "_view_count": null,
            "_view_module": "@jupyter-widgets/controls",
            "_view_module_version": "1.5.0",
            "_view_name": "ProgressView",
            "bar_style": "success",
            "description": "",
            "description_tooltip": null,
            "layout": "IPY_MODEL_1cf15a6c45d749b6ac67d8ac4bab969c",
            "max": 4525,
            "min": 0,
            "orientation": "horizontal",
            "style": "IPY_MODEL_afd512fd04a449718b73f4da3c7066c5",
            "value": 4525
          }
        },
        "ff17d242b6fd4f6083bec9271ff4d092": {
          "model_module": "@jupyter-widgets/controls",
          "model_name": "HTMLModel",
          "model_module_version": "1.5.0",
          "state": {
            "_dom_classes": [],
            "_model_module": "@jupyter-widgets/controls",
            "_model_module_version": "1.5.0",
            "_model_name": "HTMLModel",
            "_view_count": null,
            "_view_module": "@jupyter-widgets/controls",
            "_view_module_version": "1.5.0",
            "_view_name": "HTMLView",
            "description": "",
            "description_tooltip": null,
            "layout": "IPY_MODEL_f25f06fe9b554372991b6da8f31ebcaa",
            "placeholder": "​",
            "style": "IPY_MODEL_6fdf1ade51c74fee8666b818074b528d",
            "value": " 4.53k/4.53k [00:00&lt;00:00, 287kB/s]"
          }
        },
        "37d6191768874aaf943382886e76d056": {
          "model_module": "@jupyter-widgets/base",
          "model_name": "LayoutModel",
          "model_module_version": "1.2.0",
          "state": {
            "_model_module": "@jupyter-widgets/base",
            "_model_module_version": "1.2.0",
            "_model_name": "LayoutModel",
            "_view_count": null,
            "_view_module": "@jupyter-widgets/base",
            "_view_module_version": "1.2.0",
            "_view_name": "LayoutView",
            "align_content": null,
            "align_items": null,
            "align_self": null,
            "border": null,
            "bottom": null,
            "display": null,
            "flex": null,
            "flex_flow": null,
            "grid_area": null,
            "grid_auto_columns": null,
            "grid_auto_flow": null,
            "grid_auto_rows": null,
            "grid_column": null,
            "grid_gap": null,
            "grid_row": null,
            "grid_template_areas": null,
            "grid_template_columns": null,
            "grid_template_rows": null,
            "height": null,
            "justify_content": null,
            "justify_items": null,
            "left": null,
            "margin": null,
            "max_height": null,
            "max_width": null,
            "min_height": null,
            "min_width": null,
            "object_fit": null,
            "object_position": null,
            "order": null,
            "overflow": null,
            "overflow_x": null,
            "overflow_y": null,
            "padding": null,
            "right": null,
            "top": null,
            "visibility": null,
            "width": null
          }
        },
        "1cacfafce041424f9b47f201468ed604": {
          "model_module": "@jupyter-widgets/base",
          "model_name": "LayoutModel",
          "model_module_version": "1.2.0",
          "state": {
            "_model_module": "@jupyter-widgets/base",
            "_model_module_version": "1.2.0",
            "_model_name": "LayoutModel",
            "_view_count": null,
            "_view_module": "@jupyter-widgets/base",
            "_view_module_version": "1.2.0",
            "_view_name": "LayoutView",
            "align_content": null,
            "align_items": null,
            "align_self": null,
            "border": null,
            "bottom": null,
            "display": null,
            "flex": null,
            "flex_flow": null,
            "grid_area": null,
            "grid_auto_columns": null,
            "grid_auto_flow": null,
            "grid_auto_rows": null,
            "grid_column": null,
            "grid_gap": null,
            "grid_row": null,
            "grid_template_areas": null,
            "grid_template_columns": null,
            "grid_template_rows": null,
            "height": null,
            "justify_content": null,
            "justify_items": null,
            "left": null,
            "margin": null,
            "max_height": null,
            "max_width": null,
            "min_height": null,
            "min_width": null,
            "object_fit": null,
            "object_position": null,
            "order": null,
            "overflow": null,
            "overflow_x": null,
            "overflow_y": null,
            "padding": null,
            "right": null,
            "top": null,
            "visibility": null,
            "width": null
          }
        },
        "e0246389446347e88e0c59e5f2123fe9": {
          "model_module": "@jupyter-widgets/controls",
          "model_name": "DescriptionStyleModel",
          "model_module_version": "1.5.0",
          "state": {
            "_model_module": "@jupyter-widgets/controls",
            "_model_module_version": "1.5.0",
            "_model_name": "DescriptionStyleModel",
            "_view_count": null,
            "_view_module": "@jupyter-widgets/base",
            "_view_module_version": "1.2.0",
            "_view_name": "StyleView",
            "description_width": ""
          }
        },
        "1cf15a6c45d749b6ac67d8ac4bab969c": {
          "model_module": "@jupyter-widgets/base",
          "model_name": "LayoutModel",
          "model_module_version": "1.2.0",
          "state": {
            "_model_module": "@jupyter-widgets/base",
            "_model_module_version": "1.2.0",
            "_model_name": "LayoutModel",
            "_view_count": null,
            "_view_module": "@jupyter-widgets/base",
            "_view_module_version": "1.2.0",
            "_view_name": "LayoutView",
            "align_content": null,
            "align_items": null,
            "align_self": null,
            "border": null,
            "bottom": null,
            "display": null,
            "flex": null,
            "flex_flow": null,
            "grid_area": null,
            "grid_auto_columns": null,
            "grid_auto_flow": null,
            "grid_auto_rows": null,
            "grid_column": null,
            "grid_gap": null,
            "grid_row": null,
            "grid_template_areas": null,
            "grid_template_columns": null,
            "grid_template_rows": null,
            "height": null,
            "justify_content": null,
            "justify_items": null,
            "left": null,
            "margin": null,
            "max_height": null,
            "max_width": null,
            "min_height": null,
            "min_width": null,
            "object_fit": null,
            "object_position": null,
            "order": null,
            "overflow": null,
            "overflow_x": null,
            "overflow_y": null,
            "padding": null,
            "right": null,
            "top": null,
            "visibility": null,
            "width": null
          }
        },
        "afd512fd04a449718b73f4da3c7066c5": {
          "model_module": "@jupyter-widgets/controls",
          "model_name": "ProgressStyleModel",
          "model_module_version": "1.5.0",
          "state": {
            "_model_module": "@jupyter-widgets/controls",
            "_model_module_version": "1.5.0",
            "_model_name": "ProgressStyleModel",
            "_view_count": null,
            "_view_module": "@jupyter-widgets/base",
            "_view_module_version": "1.2.0",
            "_view_name": "StyleView",
            "bar_color": null,
            "description_width": ""
          }
        },
        "f25f06fe9b554372991b6da8f31ebcaa": {
          "model_module": "@jupyter-widgets/base",
          "model_name": "LayoutModel",
          "model_module_version": "1.2.0",
          "state": {
            "_model_module": "@jupyter-widgets/base",
            "_model_module_version": "1.2.0",
            "_model_name": "LayoutModel",
            "_view_count": null,
            "_view_module": "@jupyter-widgets/base",
            "_view_module_version": "1.2.0",
            "_view_name": "LayoutView",
            "align_content": null,
            "align_items": null,
            "align_self": null,
            "border": null,
            "bottom": null,
            "display": null,
            "flex": null,
            "flex_flow": null,
            "grid_area": null,
            "grid_auto_columns": null,
            "grid_auto_flow": null,
            "grid_auto_rows": null,
            "grid_column": null,
            "grid_gap": null,
            "grid_row": null,
            "grid_template_areas": null,
            "grid_template_columns": null,
            "grid_template_rows": null,
            "height": null,
            "justify_content": null,
            "justify_items": null,
            "left": null,
            "margin": null,
            "max_height": null,
            "max_width": null,
            "min_height": null,
            "min_width": null,
            "object_fit": null,
            "object_position": null,
            "order": null,
            "overflow": null,
            "overflow_x": null,
            "overflow_y": null,
            "padding": null,
            "right": null,
            "top": null,
            "visibility": null,
            "width": null
          }
        },
        "6fdf1ade51c74fee8666b818074b528d": {
          "model_module": "@jupyter-widgets/controls",
          "model_name": "DescriptionStyleModel",
          "model_module_version": "1.5.0",
          "state": {
            "_model_module": "@jupyter-widgets/controls",
            "_model_module_version": "1.5.0",
            "_model_name": "DescriptionStyleModel",
            "_view_count": null,
            "_view_module": "@jupyter-widgets/base",
            "_view_module_version": "1.2.0",
            "_view_name": "StyleView",
            "description_width": ""
          }
        },
        "f536b5022b674a5794094d41299d7e63": {
          "model_module": "@jupyter-widgets/controls",
          "model_name": "HBoxModel",
          "model_module_version": "1.5.0",
          "state": {
            "_dom_classes": [],
            "_model_module": "@jupyter-widgets/controls",
            "_model_module_version": "1.5.0",
            "_model_name": "HBoxModel",
            "_view_count": null,
            "_view_module": "@jupyter-widgets/controls",
            "_view_module_version": "1.5.0",
            "_view_name": "HBoxView",
            "box_style": "",
            "children": [
              "IPY_MODEL_75d924d862574e1e81bf7106ac12b555",
              "IPY_MODEL_f3697935249c4c1aa568a668aa61a8a1",
              "IPY_MODEL_96afe3993b024a3bbcdbfc88f387f3a3"
            ],
            "layout": "IPY_MODEL_d882d68529b44055af7819733963ad7b"
          }
        },
        "75d924d862574e1e81bf7106ac12b555": {
          "model_module": "@jupyter-widgets/controls",
          "model_name": "HTMLModel",
          "model_module_version": "1.5.0",
          "state": {
            "_dom_classes": [],
            "_model_module": "@jupyter-widgets/controls",
            "_model_module_version": "1.5.0",
            "_model_name": "HTMLModel",
            "_view_count": null,
            "_view_module": "@jupyter-widgets/controls",
            "_view_module_version": "1.5.0",
            "_view_name": "HTMLView",
            "description": "",
            "description_tooltip": null,
            "layout": "IPY_MODEL_29f51380b5e94e3eafc07f4f44945ba5",
            "placeholder": "​",
            "style": "IPY_MODEL_e530407a2b1a498181916149ff357ed2",
            "value": "Downloading extra modules: 100%"
          }
        },
        "f3697935249c4c1aa568a668aa61a8a1": {
          "model_module": "@jupyter-widgets/controls",
          "model_name": "FloatProgressModel",
          "model_module_version": "1.5.0",
          "state": {
            "_dom_classes": [],
            "_model_module": "@jupyter-widgets/controls",
            "_model_module_version": "1.5.0",
            "_model_name": "FloatProgressModel",
            "_view_count": null,
            "_view_module": "@jupyter-widgets/controls",
            "_view_module_version": "1.5.0",
            "_view_name": "ProgressView",
            "bar_style": "success",
            "description": "",
            "description_tooltip": null,
            "layout": "IPY_MODEL_c26d504f89c04dbdba6e711a7cd7b0ef",
            "max": 3317,
            "min": 0,
            "orientation": "horizontal",
            "style": "IPY_MODEL_c9399aa1d9be4165abdf103f29570609",
            "value": 3317
          }
        },
        "96afe3993b024a3bbcdbfc88f387f3a3": {
          "model_module": "@jupyter-widgets/controls",
          "model_name": "HTMLModel",
          "model_module_version": "1.5.0",
          "state": {
            "_dom_classes": [],
            "_model_module": "@jupyter-widgets/controls",
            "_model_module_version": "1.5.0",
            "_model_name": "HTMLModel",
            "_view_count": null,
            "_view_module": "@jupyter-widgets/controls",
            "_view_module_version": "1.5.0",
            "_view_name": "HTMLView",
            "description": "",
            "description_tooltip": null,
            "layout": "IPY_MODEL_489b04d4fa0142218083e8b095b1711a",
            "placeholder": "​",
            "style": "IPY_MODEL_9e63ba4b524c4886a97f2d49cdf41c35",
            "value": " 3.32k/3.32k [00:00&lt;00:00, 118kB/s]"
          }
        },
        "d882d68529b44055af7819733963ad7b": {
          "model_module": "@jupyter-widgets/base",
          "model_name": "LayoutModel",
          "model_module_version": "1.2.0",
          "state": {
            "_model_module": "@jupyter-widgets/base",
            "_model_module_version": "1.2.0",
            "_model_name": "LayoutModel",
            "_view_count": null,
            "_view_module": "@jupyter-widgets/base",
            "_view_module_version": "1.2.0",
            "_view_name": "LayoutView",
            "align_content": null,
            "align_items": null,
            "align_self": null,
            "border": null,
            "bottom": null,
            "display": null,
            "flex": null,
            "flex_flow": null,
            "grid_area": null,
            "grid_auto_columns": null,
            "grid_auto_flow": null,
            "grid_auto_rows": null,
            "grid_column": null,
            "grid_gap": null,
            "grid_row": null,
            "grid_template_areas": null,
            "grid_template_columns": null,
            "grid_template_rows": null,
            "height": null,
            "justify_content": null,
            "justify_items": null,
            "left": null,
            "margin": null,
            "max_height": null,
            "max_width": null,
            "min_height": null,
            "min_width": null,
            "object_fit": null,
            "object_position": null,
            "order": null,
            "overflow": null,
            "overflow_x": null,
            "overflow_y": null,
            "padding": null,
            "right": null,
            "top": null,
            "visibility": null,
            "width": null
          }
        },
        "29f51380b5e94e3eafc07f4f44945ba5": {
          "model_module": "@jupyter-widgets/base",
          "model_name": "LayoutModel",
          "model_module_version": "1.2.0",
          "state": {
            "_model_module": "@jupyter-widgets/base",
            "_model_module_version": "1.2.0",
            "_model_name": "LayoutModel",
            "_view_count": null,
            "_view_module": "@jupyter-widgets/base",
            "_view_module_version": "1.2.0",
            "_view_name": "LayoutView",
            "align_content": null,
            "align_items": null,
            "align_self": null,
            "border": null,
            "bottom": null,
            "display": null,
            "flex": null,
            "flex_flow": null,
            "grid_area": null,
            "grid_auto_columns": null,
            "grid_auto_flow": null,
            "grid_auto_rows": null,
            "grid_column": null,
            "grid_gap": null,
            "grid_row": null,
            "grid_template_areas": null,
            "grid_template_columns": null,
            "grid_template_rows": null,
            "height": null,
            "justify_content": null,
            "justify_items": null,
            "left": null,
            "margin": null,
            "max_height": null,
            "max_width": null,
            "min_height": null,
            "min_width": null,
            "object_fit": null,
            "object_position": null,
            "order": null,
            "overflow": null,
            "overflow_x": null,
            "overflow_y": null,
            "padding": null,
            "right": null,
            "top": null,
            "visibility": null,
            "width": null
          }
        },
        "e530407a2b1a498181916149ff357ed2": {
          "model_module": "@jupyter-widgets/controls",
          "model_name": "DescriptionStyleModel",
          "model_module_version": "1.5.0",
          "state": {
            "_model_module": "@jupyter-widgets/controls",
            "_model_module_version": "1.5.0",
            "_model_name": "DescriptionStyleModel",
            "_view_count": null,
            "_view_module": "@jupyter-widgets/base",
            "_view_module_version": "1.2.0",
            "_view_name": "StyleView",
            "description_width": ""
          }
        },
        "c26d504f89c04dbdba6e711a7cd7b0ef": {
          "model_module": "@jupyter-widgets/base",
          "model_name": "LayoutModel",
          "model_module_version": "1.2.0",
          "state": {
            "_model_module": "@jupyter-widgets/base",
            "_model_module_version": "1.2.0",
            "_model_name": "LayoutModel",
            "_view_count": null,
            "_view_module": "@jupyter-widgets/base",
            "_view_module_version": "1.2.0",
            "_view_name": "LayoutView",
            "align_content": null,
            "align_items": null,
            "align_self": null,
            "border": null,
            "bottom": null,
            "display": null,
            "flex": null,
            "flex_flow": null,
            "grid_area": null,
            "grid_auto_columns": null,
            "grid_auto_flow": null,
            "grid_auto_rows": null,
            "grid_column": null,
            "grid_gap": null,
            "grid_row": null,
            "grid_template_areas": null,
            "grid_template_columns": null,
            "grid_template_rows": null,
            "height": null,
            "justify_content": null,
            "justify_items": null,
            "left": null,
            "margin": null,
            "max_height": null,
            "max_width": null,
            "min_height": null,
            "min_width": null,
            "object_fit": null,
            "object_position": null,
            "order": null,
            "overflow": null,
            "overflow_x": null,
            "overflow_y": null,
            "padding": null,
            "right": null,
            "top": null,
            "visibility": null,
            "width": null
          }
        },
        "c9399aa1d9be4165abdf103f29570609": {
          "model_module": "@jupyter-widgets/controls",
          "model_name": "ProgressStyleModel",
          "model_module_version": "1.5.0",
          "state": {
            "_model_module": "@jupyter-widgets/controls",
            "_model_module_version": "1.5.0",
            "_model_name": "ProgressStyleModel",
            "_view_count": null,
            "_view_module": "@jupyter-widgets/base",
            "_view_module_version": "1.2.0",
            "_view_name": "StyleView",
            "bar_color": null,
            "description_width": ""
          }
        },
        "489b04d4fa0142218083e8b095b1711a": {
          "model_module": "@jupyter-widgets/base",
          "model_name": "LayoutModel",
          "model_module_version": "1.2.0",
          "state": {
            "_model_module": "@jupyter-widgets/base",
            "_model_module_version": "1.2.0",
            "_model_name": "LayoutModel",
            "_view_count": null,
            "_view_module": "@jupyter-widgets/base",
            "_view_module_version": "1.2.0",
            "_view_name": "LayoutView",
            "align_content": null,
            "align_items": null,
            "align_self": null,
            "border": null,
            "bottom": null,
            "display": null,
            "flex": null,
            "flex_flow": null,
            "grid_area": null,
            "grid_auto_columns": null,
            "grid_auto_flow": null,
            "grid_auto_rows": null,
            "grid_column": null,
            "grid_gap": null,
            "grid_row": null,
            "grid_template_areas": null,
            "grid_template_columns": null,
            "grid_template_rows": null,
            "height": null,
            "justify_content": null,
            "justify_items": null,
            "left": null,
            "margin": null,
            "max_height": null,
            "max_width": null,
            "min_height": null,
            "min_width": null,
            "object_fit": null,
            "object_position": null,
            "order": null,
            "overflow": null,
            "overflow_x": null,
            "overflow_y": null,
            "padding": null,
            "right": null,
            "top": null,
            "visibility": null,
            "width": null
          }
        },
        "9e63ba4b524c4886a97f2d49cdf41c35": {
          "model_module": "@jupyter-widgets/controls",
          "model_name": "DescriptionStyleModel",
          "model_module_version": "1.5.0",
          "state": {
            "_model_module": "@jupyter-widgets/controls",
            "_model_module_version": "1.5.0",
            "_model_name": "DescriptionStyleModel",
            "_view_count": null,
            "_view_module": "@jupyter-widgets/base",
            "_view_module_version": "1.2.0",
            "_view_name": "StyleView",
            "description_width": ""
          }
        }
      }
    }
  },
  "nbformat": 4,
  "nbformat_minor": 0
}