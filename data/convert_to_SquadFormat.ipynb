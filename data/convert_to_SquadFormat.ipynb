{
  "nbformat": 4,
  "nbformat_minor": 0,
  "metadata": {
    "colab": {
      "provenance": []
    },
    "kernelspec": {
      "name": "python3",
      "display_name": "Python 3"
    },
    "language_info": {
      "name": "python"
    }
  },
  "cells": [
    {
      "cell_type": "code",
      "source": [
        "from google.colab import drive\n",
        "drive.mount('/content/drive')"
      ],
      "metadata": {
        "colab": {
          "base_uri": "https://localhost:8080/"
        },
        "id": "wfp_DxF-DOqw",
        "outputId": "dd354edd-b75f-4e4b-d3d1-884de2cab5a5"
      },
      "execution_count": null,
      "outputs": [
        {
          "output_type": "stream",
          "name": "stdout",
          "text": [
            "Mounted at /content/drive\n"
          ]
        }
      ]
    },
    {
      "cell_type": "code",
      "execution_count": null,
      "metadata": {
        "id": "DRNApzfhCpv8"
      },
      "outputs": [],
      "source": [
        "import json\n",
        "\n",
        "with open('/content/drive/MyDrive/dev.jsonl', 'r') as f:\n",
        "  dict_data_list = []\n",
        "  for line in f:\n",
        "   data = json.loads(line)\n",
        "   dict_data_list.append(data)\n",
        "\n",
        "new_dict_data_list = []\n",
        "for data in dict_data_list:\n",
        "  new_data = {}\n",
        "  new_data['title'] = ''\n",
        "  new_data['paragraphs'] = [{'context': data['context'], 'qas':[{'answers':[{'answer_start':data['answers'][0]['start_char'], 'text':data['answers'][0]['text']}],'id':data['pq_id'], 'question': data['question'], 'is_impossible': False}]}]\n",
        "\n",
        "  new_dict_data_list.append(new_data)\n",
        "\n",
        "final_data = {}\n",
        "final_data['data'] = new_dict_data_list\n",
        "\n",
        "\n",
        "with open('/content/drive/MyDrive/dev_SQuAD_format.json', 'w') as fp:\n",
        "    json.dump(final_data, fp)\n"
      ]
    },
    {
      "cell_type": "code",
      "source": [],
      "metadata": {
        "id": "lPZBbXqNTnzH"
      },
      "execution_count": null,
      "outputs": []
    },
    {
      "cell_type": "code",
      "source": [
        "import json\n",
        "import random\n",
        "\n",
        "with open('/content/drive/MyDrive/dev.jsonl', 'r') as f:\n",
        "  dict_data_list = []\n",
        "  for line in f:\n",
        "   data = json.loads(line)\n",
        "   dict_data_list.append(data)\n",
        "\n",
        "new_dict_data_list = []\n",
        "for data in dict_data_list:\n",
        "  new_data = {}\n",
        "  new_data['title'] = ''\n",
        "  new_data['paragraphs'] = [{'context': data['context'], 'qas':[{'answers':[{'answer_start':data['answers'][0]['start_char'], 'text':data['answers'][0]['text']}],'id':data['pq_id'], 'question': data['question'], 'is_impossible': False}]}]\n",
        "\n",
        "  new_dict_data_list.append(new_data)\n",
        "\n",
        "random.shuffle(new_dict_data_list)\n",
        "final_data = {}\n",
        "final_data['data'] = new_dict_data_list[:80]\n",
        "\n",
        "\n",
        "with open('/content/drive/MyDrive/retrieval_test.json', 'w') as fp:\n",
        "    json.dump(final_data, fp)"
      ],
      "metadata": {
        "id": "qOpa940ZUA_j"
      },
      "execution_count": null,
      "outputs": []
    },
    {
      "cell_type": "code",
      "source": [
        "import json\n",
        "import random\n",
        "\n",
        "with open('/content/drive/MyDrive/dev.jsonl', 'r') as f:\n",
        "  dict_data_list = []\n",
        "  for line in f:\n",
        "   data = json.loads(line)\n",
        "   dict_data_list.append(data)\n",
        "\n",
        "new_dict_data_list = []\n",
        "for data in dict_data_list:\n",
        "  new_data = {}\n",
        "  new_data['title'] = ''\n",
        "  new_data['paragraphs'] = [{'context': data['context'], 'qas':[{'answers':[{'answer_start':data['answers'][0]['start_char'], 'text':data['answers'][0]['text']}],'id':data['pq_id'], 'question': data['question'], 'is_impossible': False}]}]\n",
        "\n",
        "  new_dict_data_list.append(new_data)\n",
        "\n",
        "final_data = {}\n",
        "random.shuffle(new_dict_data_list)\n",
        "final_data['data'] = new_dict_data_list\n",
        "\n",
        "\n",
        "with open('/content/drive/MyDrive/new_dev_SQuAD_format.json', 'w') as fp:\n",
        "  json.dump(final_data, fp, ensure_ascii = False)\n"
      ],
      "metadata": {
        "id": "3BS4Amnex3gu"
      },
      "execution_count": null,
      "outputs": []
    }
  ]
}