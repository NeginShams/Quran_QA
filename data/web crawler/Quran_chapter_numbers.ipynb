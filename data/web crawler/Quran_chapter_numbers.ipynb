{
 "cells": [
  {
   "cell_type": "code",
   "execution_count": 1,
   "id": "5136a604-1f47-4ae6-a9af-e5f12ab1cd24",
   "metadata": {},
   "outputs": [],
   "source": [
    "import requests\n",
    "from bs4 import BeautifulSoup"
   ]
  },
  {
   "cell_type": "markdown",
   "id": "07898513-fd23-41b6-bf30-f4d42c81b828",
   "metadata": {},
   "source": [
    "# Extract the number of Quaran chapters"
   ]
  },
  {
   "cell_type": "code",
   "execution_count": 17,
   "id": "2b99bd48-62ee-426b-9bbf-5061b9148c8e",
   "metadata": {},
   "outputs": [],
   "source": [
    "home_url = 'https://www.emadionline.com/fa/post/29638'\n",
    "\n",
    "page = requests.get(home_url, timeout=100)\n",
    "\n",
    "soup = BeautifulSoup(page.content, \"html.parser\")\n",
    "\n",
    "my_div = soup.find(\"div\", { \"class\" : \"entry-content entry clearfix\" })\n",
    "\n",
    "chapter_list = my_div.findAll(\"p\")[1].text.splitlines()\n",
    "\n",
    "dict_data_list = []\n",
    "\n",
    "for i in range(0, 114):\n",
    "    new_data = {}\n",
    "    chapter_info = chapter_list[i]\n",
    "    chapter_number = chapter_info.split(':')[0].strip()\n",
    "    chapter_name = chapter_info.split(':')[1].strip()\n",
    "\n",
    "    new_data['chapter_number'] = chapter_number\n",
    "    new_data['chapter_name'] = chapter_name\n",
    "\n",
    "    dict_data_list.append(new_data)"
   ]
  },
  {
   "cell_type": "code",
   "execution_count": 18,
   "id": "00f02a90-ed7b-4694-aeda-ec5b91baf9e5",
   "metadata": {},
   "outputs": [
    {
     "data": {
      "text/plain": [
       "114"
      ]
     },
     "execution_count": 18,
     "metadata": {},
     "output_type": "execute_result"
    }
   ],
   "source": [
    "len(dict_data_list)"
   ]
  },
  {
   "cell_type": "code",
   "execution_count": 20,
   "id": "003577a6-1e28-4575-b2a8-34c31e9d1b31",
   "metadata": {},
   "outputs": [],
   "source": [
    "import json\n",
    "\n",
    "path = 'C:/Users/Partiran/desktop/QuranInfo.json'\n",
    "\n",
    "with open(path, 'w', encoding = 'utf-8-sig') as f:\n",
    "    json.dump(dict_data_list, f, ensure_ascii = False)\n"
   ]
  },
  {
   "cell_type": "code",
   "execution_count": null,
   "id": "2f66054b-abfd-49a0-8334-6420f91b65fb",
   "metadata": {},
   "outputs": [],
   "source": []
  },
  {
   "cell_type": "code",
   "execution_count": null,
   "id": "491e94b9-4139-4ff5-b934-fb9590506873",
   "metadata": {},
   "outputs": [],
   "source": []
  },
  {
   "cell_type": "code",
   "execution_count": 9,
   "id": "015ad86a-eb3e-44bd-be30-16af97050cd0",
   "metadata": {},
   "outputs": [
    {
     "name": "stdout",
     "output_type": "stream",
     "text": [
      "اسامی سوره های قرآن به همراه شماره سوره در زیر آورده شده است.\n",
      "\n",
      "نام سوره های قرآن و شماره سوره\n",
      "1: فاتحه\n",
      "2: بقره\n",
      "3: آل عمران\n",
      "4: نساء\n",
      "5: مائده\n",
      "6: انعام\n",
      "7: اعراف\n",
      "8: انفال\n",
      "9: توبه\n",
      "10: یونس\n",
      "11: هود\n",
      "12: یوسف\n",
      "13: رعد\n",
      "14: ابراهیم\n",
      "15: حجر\n",
      "16: نحل\n",
      "17: اسراء\n",
      "18: کهف\n",
      "19: مریم\n",
      "20: طه\n",
      "21: انبیاء\n",
      "22: حج\n",
      "23: مؤمنون\n",
      "24: نور\n",
      "25: فرقان\n",
      "26: شعراء\n",
      "27: نمل\n",
      "28: قصص\n",
      "29: عنکبوت\n",
      "30: روم\n",
      "31: لقمان\n",
      "32: سجده\n",
      "33: احزاب\n",
      "34: سبأ\n",
      "35: فاطر\n",
      "36: یس\n",
      "37: صافات\n",
      "38: ص\n",
      "39: زمر\n",
      "40: غافر\n",
      "41: فصلت\n",
      "42: شوری\n",
      "43: زخرف\n",
      "44: دخان\n",
      "45: جاثیه\n",
      "46: احقاف\n",
      "47: محمد\n",
      "48: فتح\n",
      "49: حجرات\n",
      "50: ق\n",
      "51: ذاریات\n",
      "52: طور\n",
      "53: نجم\n",
      "54: قمر\n",
      "55: الرحمن\n",
      "56: واقعه\n",
      "57: حدید\n",
      "58: مجادله\n",
      "59: حشر\n",
      "60: ممتحنه\n",
      "61: صف\n",
      "62: جمعه\n",
      "63: منافقون\n",
      "64: تغابن\n",
      "65: طلاق\n",
      "66: تحریم\n",
      "67: ملک\n",
      "68: قلم\n",
      "69: حاقه\n",
      "70: معارج\n",
      "71: نوح\n",
      "72: جن\n",
      "73: مزمل\n",
      "74: مدثر\n",
      "75: قیامه\n",
      "76: انسان\n",
      "77: مرسلات\n",
      "78: نبأ\n",
      "79: نازعات\n",
      "80: عبس\n",
      "81: تکویر\n",
      "82: انفطار\n",
      "83: مطففین\n",
      "84: انشقاق\n",
      "85: بروج\n",
      "86: طارق\n",
      "87: اعلی\n",
      "88: غاشیه\n",
      "89: فجر\n",
      "90: بلد\n",
      "91: شمس\n",
      "92: لیل\n",
      "93: ضحی\n",
      "94: انشراح\n",
      "95: تین\n",
      "96: علق\n",
      "97: قدر\n",
      "98: بینه\n",
      "99: زلزال\n",
      "100: عادیات\n",
      "101: قارعة\n",
      "102: تکاثر\n",
      "103: عصر\n",
      "104: همزه\n",
      "105: فیل\n",
      "106: قریش\n",
      "107: ماعون\n",
      "108: کوثر\n",
      "109: کافرون\n",
      "110: نصر\n",
      "111: مسد\n",
      "112: اخلاص\n",
      "113: فلق\n",
      "114: ناس\n"
     ]
    }
   ],
   "source": [
    "home_url = 'https://www.emadionline.com/fa/post/29638'\n",
    "\n",
    "page = requests.get(home_url, timeout=100)\n",
    "\n",
    "soup = BeautifulSoup(page.content, \"html.parser\")\n",
    "\n",
    "my_div = soup.find(\"div\", { \"class\" : \"entry-content entry clearfix\" })\n",
    "\n",
    "for each in my_div.findAll(\"p\"):\n",
    "    print(each.text)"
   ]
  },
  {
   "cell_type": "code",
   "execution_count": 10,
   "id": "c571e443-a5b6-4b4a-a8bf-c7261aab1438",
   "metadata": {},
   "outputs": [
    {
     "data": {
      "text/plain": [
       "2"
      ]
     },
     "execution_count": 10,
     "metadata": {},
     "output_type": "execute_result"
    }
   ],
   "source": [
    "len(my_div.findAll(\"p\"))"
   ]
  },
  {
   "cell_type": "code",
   "execution_count": 13,
   "id": "97d47e2f-e63a-4937-aa3c-67bfc7f10708",
   "metadata": {},
   "outputs": [
    {
     "data": {
      "text/plain": [
       "'1: فاتحه'"
      ]
     },
     "execution_count": 13,
     "metadata": {},
     "output_type": "execute_result"
    }
   ],
   "source": [
    "my_div.findAll(\"p\")[1].text.splitlines()[0]"
   ]
  },
  {
   "cell_type": "code",
   "execution_count": 16,
   "id": "5a4e180e-474b-484f-ad1f-22c0c9f9ffa2",
   "metadata": {},
   "outputs": [
    {
     "data": {
      "text/plain": [
       "'فاتحه'"
      ]
     },
     "execution_count": 16,
     "metadata": {},
     "output_type": "execute_result"
    }
   ],
   "source": [
    "s = '1: فاتحه'\n",
    "s.split(':')[1].strip()"
   ]
  },
  {
   "cell_type": "code",
   "execution_count": null,
   "id": "31f778dd-5254-4ad6-9112-66660dced788",
   "metadata": {},
   "outputs": [],
   "source": []
  }
 ],
 "metadata": {
  "kernelspec": {
   "display_name": "Python 3 (ipykernel)",
   "language": "python",
   "name": "python3"
  },
  "language_info": {
   "codemirror_mode": {
    "name": "ipython",
    "version": 3
   },
   "file_extension": ".py",
   "mimetype": "text/x-python",
   "name": "python",
   "nbconvert_exporter": "python",
   "pygments_lexer": "ipython3",
   "version": "3.10.7"
  }
 },
 "nbformat": 4,
 "nbformat_minor": 5
}
