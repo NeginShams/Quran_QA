{
 "cells": [
  {
   "cell_type": "code",
   "execution_count": 1,
   "id": "c57ed1c1",
   "metadata": {},
   "outputs": [],
   "source": [
    "from pyexcel import get_sheet\n",
    "import requests\n",
    "from bs4 import BeautifulSoup\n",
    "from datetime import datetime\n",
    "from elasticsearch import Elasticsearch\n",
    "from time import sleep\n",
    "import time"
   ]
  },
  {
   "cell_type": "code",
   "execution_count": 23,
   "id": "38efb652",
   "metadata": {},
   "outputs": [
    {
     "ename": "KeyboardInterrupt",
     "evalue": "",
     "output_type": "error",
     "traceback": [
      "\u001b[1;31m---------------------------------------------------------------------------\u001b[0m",
      "\u001b[1;31mKeyboardInterrupt\u001b[0m                         Traceback (most recent call last)",
      "\u001b[1;32m~\\AppData\\Local\\Temp/ipykernel_2848/203894170.py\u001b[0m in \u001b[0;36m<module>\u001b[1;34m\u001b[0m\n\u001b[0;32m     27\u001b[0m             \u001b[0mcomplete_text\u001b[0m \u001b[1;33m=\u001b[0m \u001b[1;34m''\u001b[0m\u001b[1;33m\u001b[0m\u001b[1;33m\u001b[0m\u001b[0m\n\u001b[0;32m     28\u001b[0m             \u001b[0mtalk_url\u001b[0m \u001b[1;33m=\u001b[0m \u001b[0mlink\u001b[0m \u001b[1;33m+\u001b[0m\u001b[1;34m'/transcript'\u001b[0m\u001b[1;33m\u001b[0m\u001b[1;33m\u001b[0m\u001b[0m\n\u001b[1;32m---> 29\u001b[1;33m             \u001b[0mbrowser\u001b[0m\u001b[1;33m.\u001b[0m\u001b[0mget\u001b[0m\u001b[1;33m(\u001b[0m\u001b[0mtalk_url\u001b[0m\u001b[1;33m)\u001b[0m\u001b[1;33m\u001b[0m\u001b[1;33m\u001b[0m\u001b[0m\n\u001b[0m\u001b[0;32m     30\u001b[0m \u001b[1;31m# time.sleep(5)# you can give it some time to load the js\u001b[0m\u001b[1;33m\u001b[0m\u001b[1;33m\u001b[0m\u001b[1;33m\u001b[0m\u001b[0m\n\u001b[0;32m     31\u001b[0m \u001b[1;33m\u001b[0m\u001b[0m\n",
      "\u001b[1;32mc:\\users\\partiran\\django_project\\venv\\lib\\site-packages\\selenium\\webdriver\\remote\\webdriver.py\u001b[0m in \u001b[0;36mget\u001b[1;34m(self, url)\u001b[0m\n\u001b[0;32m    435\u001b[0m         \u001b[0mLoads\u001b[0m \u001b[0ma\u001b[0m \u001b[0mweb\u001b[0m \u001b[0mpage\u001b[0m \u001b[1;32min\u001b[0m \u001b[0mthe\u001b[0m \u001b[0mcurrent\u001b[0m \u001b[0mbrowser\u001b[0m \u001b[0msession\u001b[0m\u001b[1;33m.\u001b[0m\u001b[1;33m\u001b[0m\u001b[1;33m\u001b[0m\u001b[0m\n\u001b[0;32m    436\u001b[0m         \"\"\"\n\u001b[1;32m--> 437\u001b[1;33m         \u001b[0mself\u001b[0m\u001b[1;33m.\u001b[0m\u001b[0mexecute\u001b[0m\u001b[1;33m(\u001b[0m\u001b[0mCommand\u001b[0m\u001b[1;33m.\u001b[0m\u001b[0mGET\u001b[0m\u001b[1;33m,\u001b[0m \u001b[1;33m{\u001b[0m\u001b[1;34m'url'\u001b[0m\u001b[1;33m:\u001b[0m \u001b[0murl\u001b[0m\u001b[1;33m}\u001b[0m\u001b[1;33m)\u001b[0m\u001b[1;33m\u001b[0m\u001b[1;33m\u001b[0m\u001b[0m\n\u001b[0m\u001b[0;32m    438\u001b[0m \u001b[1;33m\u001b[0m\u001b[0m\n\u001b[0;32m    439\u001b[0m     \u001b[1;33m@\u001b[0m\u001b[0mproperty\u001b[0m\u001b[1;33m\u001b[0m\u001b[1;33m\u001b[0m\u001b[0m\n",
      "\u001b[1;32mc:\\users\\partiran\\django_project\\venv\\lib\\site-packages\\selenium\\webdriver\\remote\\webdriver.py\u001b[0m in \u001b[0;36mexecute\u001b[1;34m(self, driver_command, params)\u001b[0m\n\u001b[0;32m    421\u001b[0m \u001b[1;33m\u001b[0m\u001b[0m\n\u001b[0;32m    422\u001b[0m         \u001b[0mparams\u001b[0m \u001b[1;33m=\u001b[0m \u001b[0mself\u001b[0m\u001b[1;33m.\u001b[0m\u001b[0m_wrap_value\u001b[0m\u001b[1;33m(\u001b[0m\u001b[0mparams\u001b[0m\u001b[1;33m)\u001b[0m\u001b[1;33m\u001b[0m\u001b[1;33m\u001b[0m\u001b[0m\n\u001b[1;32m--> 423\u001b[1;33m         \u001b[0mresponse\u001b[0m \u001b[1;33m=\u001b[0m \u001b[0mself\u001b[0m\u001b[1;33m.\u001b[0m\u001b[0mcommand_executor\u001b[0m\u001b[1;33m.\u001b[0m\u001b[0mexecute\u001b[0m\u001b[1;33m(\u001b[0m\u001b[0mdriver_command\u001b[0m\u001b[1;33m,\u001b[0m \u001b[0mparams\u001b[0m\u001b[1;33m)\u001b[0m\u001b[1;33m\u001b[0m\u001b[1;33m\u001b[0m\u001b[0m\n\u001b[0m\u001b[0;32m    424\u001b[0m         \u001b[1;32mif\u001b[0m \u001b[0mresponse\u001b[0m\u001b[1;33m:\u001b[0m\u001b[1;33m\u001b[0m\u001b[1;33m\u001b[0m\u001b[0m\n\u001b[0;32m    425\u001b[0m             \u001b[0mself\u001b[0m\u001b[1;33m.\u001b[0m\u001b[0merror_handler\u001b[0m\u001b[1;33m.\u001b[0m\u001b[0mcheck_response\u001b[0m\u001b[1;33m(\u001b[0m\u001b[0mresponse\u001b[0m\u001b[1;33m)\u001b[0m\u001b[1;33m\u001b[0m\u001b[1;33m\u001b[0m\u001b[0m\n",
      "\u001b[1;32mc:\\users\\partiran\\django_project\\venv\\lib\\site-packages\\selenium\\webdriver\\remote\\remote_connection.py\u001b[0m in \u001b[0;36mexecute\u001b[1;34m(self, command, params)\u001b[0m\n\u001b[0;32m    331\u001b[0m         \u001b[0mdata\u001b[0m \u001b[1;33m=\u001b[0m \u001b[0mutils\u001b[0m\u001b[1;33m.\u001b[0m\u001b[0mdump_json\u001b[0m\u001b[1;33m(\u001b[0m\u001b[0mparams\u001b[0m\u001b[1;33m)\u001b[0m\u001b[1;33m\u001b[0m\u001b[1;33m\u001b[0m\u001b[0m\n\u001b[0;32m    332\u001b[0m         \u001b[0murl\u001b[0m \u001b[1;33m=\u001b[0m \u001b[1;34mf\"{self._url}{path}\"\u001b[0m\u001b[1;33m\u001b[0m\u001b[1;33m\u001b[0m\u001b[0m\n\u001b[1;32m--> 333\u001b[1;33m         \u001b[1;32mreturn\u001b[0m \u001b[0mself\u001b[0m\u001b[1;33m.\u001b[0m\u001b[0m_request\u001b[0m\u001b[1;33m(\u001b[0m\u001b[0mcommand_info\u001b[0m\u001b[1;33m[\u001b[0m\u001b[1;36m0\u001b[0m\u001b[1;33m]\u001b[0m\u001b[1;33m,\u001b[0m \u001b[0murl\u001b[0m\u001b[1;33m,\u001b[0m \u001b[0mbody\u001b[0m\u001b[1;33m=\u001b[0m\u001b[0mdata\u001b[0m\u001b[1;33m)\u001b[0m\u001b[1;33m\u001b[0m\u001b[1;33m\u001b[0m\u001b[0m\n\u001b[0m\u001b[0;32m    334\u001b[0m \u001b[1;33m\u001b[0m\u001b[0m\n\u001b[0;32m    335\u001b[0m     \u001b[1;32mdef\u001b[0m \u001b[0m_request\u001b[0m\u001b[1;33m(\u001b[0m\u001b[0mself\u001b[0m\u001b[1;33m,\u001b[0m \u001b[0mmethod\u001b[0m\u001b[1;33m,\u001b[0m \u001b[0murl\u001b[0m\u001b[1;33m,\u001b[0m \u001b[0mbody\u001b[0m\u001b[1;33m=\u001b[0m\u001b[1;32mNone\u001b[0m\u001b[1;33m)\u001b[0m\u001b[1;33m:\u001b[0m\u001b[1;33m\u001b[0m\u001b[1;33m\u001b[0m\u001b[0m\n",
      "\u001b[1;32mc:\\users\\partiran\\django_project\\venv\\lib\\site-packages\\selenium\\webdriver\\remote\\remote_connection.py\u001b[0m in \u001b[0;36m_request\u001b[1;34m(self, method, url, body)\u001b[0m\n\u001b[0;32m    353\u001b[0m \u001b[1;33m\u001b[0m\u001b[0m\n\u001b[0;32m    354\u001b[0m         \u001b[1;32mif\u001b[0m \u001b[0mself\u001b[0m\u001b[1;33m.\u001b[0m\u001b[0mkeep_alive\u001b[0m\u001b[1;33m:\u001b[0m\u001b[1;33m\u001b[0m\u001b[1;33m\u001b[0m\u001b[0m\n\u001b[1;32m--> 355\u001b[1;33m             \u001b[0mresp\u001b[0m \u001b[1;33m=\u001b[0m \u001b[0mself\u001b[0m\u001b[1;33m.\u001b[0m\u001b[0m_conn\u001b[0m\u001b[1;33m.\u001b[0m\u001b[0mrequest\u001b[0m\u001b[1;33m(\u001b[0m\u001b[0mmethod\u001b[0m\u001b[1;33m,\u001b[0m \u001b[0murl\u001b[0m\u001b[1;33m,\u001b[0m \u001b[0mbody\u001b[0m\u001b[1;33m=\u001b[0m\u001b[0mbody\u001b[0m\u001b[1;33m,\u001b[0m \u001b[0mheaders\u001b[0m\u001b[1;33m=\u001b[0m\u001b[0mheaders\u001b[0m\u001b[1;33m)\u001b[0m\u001b[1;33m\u001b[0m\u001b[1;33m\u001b[0m\u001b[0m\n\u001b[0m\u001b[0;32m    356\u001b[0m             \u001b[0mstatuscode\u001b[0m \u001b[1;33m=\u001b[0m \u001b[0mresp\u001b[0m\u001b[1;33m.\u001b[0m\u001b[0mstatus\u001b[0m\u001b[1;33m\u001b[0m\u001b[1;33m\u001b[0m\u001b[0m\n\u001b[0;32m    357\u001b[0m         \u001b[1;32melse\u001b[0m\u001b[1;33m:\u001b[0m\u001b[1;33m\u001b[0m\u001b[1;33m\u001b[0m\u001b[0m\n",
      "\u001b[1;32mc:\\users\\partiran\\django_project\\venv\\lib\\site-packages\\urllib3\\request.py\u001b[0m in \u001b[0;36mrequest\u001b[1;34m(self, method, url, fields, headers, **urlopen_kw)\u001b[0m\n\u001b[0;32m     76\u001b[0m             )\n\u001b[0;32m     77\u001b[0m         \u001b[1;32melse\u001b[0m\u001b[1;33m:\u001b[0m\u001b[1;33m\u001b[0m\u001b[1;33m\u001b[0m\u001b[0m\n\u001b[1;32m---> 78\u001b[1;33m             return self.request_encode_body(\n\u001b[0m\u001b[0;32m     79\u001b[0m                 \u001b[0mmethod\u001b[0m\u001b[1;33m,\u001b[0m \u001b[0murl\u001b[0m\u001b[1;33m,\u001b[0m \u001b[0mfields\u001b[0m\u001b[1;33m=\u001b[0m\u001b[0mfields\u001b[0m\u001b[1;33m,\u001b[0m \u001b[0mheaders\u001b[0m\u001b[1;33m=\u001b[0m\u001b[0mheaders\u001b[0m\u001b[1;33m,\u001b[0m \u001b[1;33m**\u001b[0m\u001b[0murlopen_kw\u001b[0m\u001b[1;33m\u001b[0m\u001b[1;33m\u001b[0m\u001b[0m\n\u001b[0;32m     80\u001b[0m             )\n",
      "\u001b[1;32mc:\\users\\partiran\\django_project\\venv\\lib\\site-packages\\urllib3\\request.py\u001b[0m in \u001b[0;36mrequest_encode_body\u001b[1;34m(self, method, url, fields, headers, encode_multipart, multipart_boundary, **urlopen_kw)\u001b[0m\n\u001b[0;32m    168\u001b[0m         \u001b[0mextra_kw\u001b[0m\u001b[1;33m.\u001b[0m\u001b[0mupdate\u001b[0m\u001b[1;33m(\u001b[0m\u001b[0murlopen_kw\u001b[0m\u001b[1;33m)\u001b[0m\u001b[1;33m\u001b[0m\u001b[1;33m\u001b[0m\u001b[0m\n\u001b[0;32m    169\u001b[0m \u001b[1;33m\u001b[0m\u001b[0m\n\u001b[1;32m--> 170\u001b[1;33m         \u001b[1;32mreturn\u001b[0m \u001b[0mself\u001b[0m\u001b[1;33m.\u001b[0m\u001b[0murlopen\u001b[0m\u001b[1;33m(\u001b[0m\u001b[0mmethod\u001b[0m\u001b[1;33m,\u001b[0m \u001b[0murl\u001b[0m\u001b[1;33m,\u001b[0m \u001b[1;33m**\u001b[0m\u001b[0mextra_kw\u001b[0m\u001b[1;33m)\u001b[0m\u001b[1;33m\u001b[0m\u001b[1;33m\u001b[0m\u001b[0m\n\u001b[0m",
      "\u001b[1;32mc:\\users\\partiran\\django_project\\venv\\lib\\site-packages\\urllib3\\poolmanager.py\u001b[0m in \u001b[0;36murlopen\u001b[1;34m(self, method, url, redirect, **kw)\u001b[0m\n\u001b[0;32m    373\u001b[0m             \u001b[0mresponse\u001b[0m \u001b[1;33m=\u001b[0m \u001b[0mconn\u001b[0m\u001b[1;33m.\u001b[0m\u001b[0murlopen\u001b[0m\u001b[1;33m(\u001b[0m\u001b[0mmethod\u001b[0m\u001b[1;33m,\u001b[0m \u001b[0murl\u001b[0m\u001b[1;33m,\u001b[0m \u001b[1;33m**\u001b[0m\u001b[0mkw\u001b[0m\u001b[1;33m)\u001b[0m\u001b[1;33m\u001b[0m\u001b[1;33m\u001b[0m\u001b[0m\n\u001b[0;32m    374\u001b[0m         \u001b[1;32melse\u001b[0m\u001b[1;33m:\u001b[0m\u001b[1;33m\u001b[0m\u001b[1;33m\u001b[0m\u001b[0m\n\u001b[1;32m--> 375\u001b[1;33m             \u001b[0mresponse\u001b[0m \u001b[1;33m=\u001b[0m \u001b[0mconn\u001b[0m\u001b[1;33m.\u001b[0m\u001b[0murlopen\u001b[0m\u001b[1;33m(\u001b[0m\u001b[0mmethod\u001b[0m\u001b[1;33m,\u001b[0m \u001b[0mu\u001b[0m\u001b[1;33m.\u001b[0m\u001b[0mrequest_uri\u001b[0m\u001b[1;33m,\u001b[0m \u001b[1;33m**\u001b[0m\u001b[0mkw\u001b[0m\u001b[1;33m)\u001b[0m\u001b[1;33m\u001b[0m\u001b[1;33m\u001b[0m\u001b[0m\n\u001b[0m\u001b[0;32m    376\u001b[0m \u001b[1;33m\u001b[0m\u001b[0m\n\u001b[0;32m    377\u001b[0m         \u001b[0mredirect_location\u001b[0m \u001b[1;33m=\u001b[0m \u001b[0mredirect\u001b[0m \u001b[1;32mand\u001b[0m \u001b[0mresponse\u001b[0m\u001b[1;33m.\u001b[0m\u001b[0mget_redirect_location\u001b[0m\u001b[1;33m(\u001b[0m\u001b[1;33m)\u001b[0m\u001b[1;33m\u001b[0m\u001b[1;33m\u001b[0m\u001b[0m\n",
      "\u001b[1;32mc:\\users\\partiran\\django_project\\venv\\lib\\site-packages\\urllib3\\connectionpool.py\u001b[0m in \u001b[0;36murlopen\u001b[1;34m(self, method, url, body, headers, retries, redirect, assert_same_host, timeout, pool_timeout, release_conn, chunked, body_pos, **response_kw)\u001b[0m\n\u001b[0;32m    701\u001b[0m \u001b[1;33m\u001b[0m\u001b[0m\n\u001b[0;32m    702\u001b[0m             \u001b[1;31m# Make the request on the httplib connection object.\u001b[0m\u001b[1;33m\u001b[0m\u001b[1;33m\u001b[0m\u001b[1;33m\u001b[0m\u001b[0m\n\u001b[1;32m--> 703\u001b[1;33m             httplib_response = self._make_request(\n\u001b[0m\u001b[0;32m    704\u001b[0m                 \u001b[0mconn\u001b[0m\u001b[1;33m,\u001b[0m\u001b[1;33m\u001b[0m\u001b[1;33m\u001b[0m\u001b[0m\n\u001b[0;32m    705\u001b[0m                 \u001b[0mmethod\u001b[0m\u001b[1;33m,\u001b[0m\u001b[1;33m\u001b[0m\u001b[1;33m\u001b[0m\u001b[0m\n",
      "\u001b[1;32mc:\\users\\partiran\\django_project\\venv\\lib\\site-packages\\urllib3\\connectionpool.py\u001b[0m in \u001b[0;36m_make_request\u001b[1;34m(self, conn, method, url, timeout, chunked, **httplib_request_kw)\u001b[0m\n\u001b[0;32m    447\u001b[0m                     \u001b[1;31m# Python 3 (including for exceptions like SystemExit).\u001b[0m\u001b[1;33m\u001b[0m\u001b[1;33m\u001b[0m\u001b[1;33m\u001b[0m\u001b[0m\n\u001b[0;32m    448\u001b[0m                     \u001b[1;31m# Otherwise it looks like a bug in the code.\u001b[0m\u001b[1;33m\u001b[0m\u001b[1;33m\u001b[0m\u001b[1;33m\u001b[0m\u001b[0m\n\u001b[1;32m--> 449\u001b[1;33m                     \u001b[0msix\u001b[0m\u001b[1;33m.\u001b[0m\u001b[0mraise_from\u001b[0m\u001b[1;33m(\u001b[0m\u001b[0me\u001b[0m\u001b[1;33m,\u001b[0m \u001b[1;32mNone\u001b[0m\u001b[1;33m)\u001b[0m\u001b[1;33m\u001b[0m\u001b[1;33m\u001b[0m\u001b[0m\n\u001b[0m\u001b[0;32m    450\u001b[0m         \u001b[1;32mexcept\u001b[0m \u001b[1;33m(\u001b[0m\u001b[0mSocketTimeout\u001b[0m\u001b[1;33m,\u001b[0m \u001b[0mBaseSSLError\u001b[0m\u001b[1;33m,\u001b[0m \u001b[0mSocketError\u001b[0m\u001b[1;33m)\u001b[0m \u001b[1;32mas\u001b[0m \u001b[0me\u001b[0m\u001b[1;33m:\u001b[0m\u001b[1;33m\u001b[0m\u001b[1;33m\u001b[0m\u001b[0m\n\u001b[0;32m    451\u001b[0m             \u001b[0mself\u001b[0m\u001b[1;33m.\u001b[0m\u001b[0m_raise_timeout\u001b[0m\u001b[1;33m(\u001b[0m\u001b[0merr\u001b[0m\u001b[1;33m=\u001b[0m\u001b[0me\u001b[0m\u001b[1;33m,\u001b[0m \u001b[0murl\u001b[0m\u001b[1;33m=\u001b[0m\u001b[0murl\u001b[0m\u001b[1;33m,\u001b[0m \u001b[0mtimeout_value\u001b[0m\u001b[1;33m=\u001b[0m\u001b[0mread_timeout\u001b[0m\u001b[1;33m)\u001b[0m\u001b[1;33m\u001b[0m\u001b[1;33m\u001b[0m\u001b[0m\n",
      "\u001b[1;32mc:\\users\\partiran\\django_project\\venv\\lib\\site-packages\\urllib3\\packages\\six.py\u001b[0m in \u001b[0;36mraise_from\u001b[1;34m(value, from_value)\u001b[0m\n",
      "\u001b[1;32mc:\\users\\partiran\\django_project\\venv\\lib\\site-packages\\urllib3\\connectionpool.py\u001b[0m in \u001b[0;36m_make_request\u001b[1;34m(self, conn, method, url, timeout, chunked, **httplib_request_kw)\u001b[0m\n\u001b[0;32m    442\u001b[0m                 \u001b[1;31m# Python 3\u001b[0m\u001b[1;33m\u001b[0m\u001b[1;33m\u001b[0m\u001b[1;33m\u001b[0m\u001b[0m\n\u001b[0;32m    443\u001b[0m                 \u001b[1;32mtry\u001b[0m\u001b[1;33m:\u001b[0m\u001b[1;33m\u001b[0m\u001b[1;33m\u001b[0m\u001b[0m\n\u001b[1;32m--> 444\u001b[1;33m                     \u001b[0mhttplib_response\u001b[0m \u001b[1;33m=\u001b[0m \u001b[0mconn\u001b[0m\u001b[1;33m.\u001b[0m\u001b[0mgetresponse\u001b[0m\u001b[1;33m(\u001b[0m\u001b[1;33m)\u001b[0m\u001b[1;33m\u001b[0m\u001b[1;33m\u001b[0m\u001b[0m\n\u001b[0m\u001b[0;32m    445\u001b[0m                 \u001b[1;32mexcept\u001b[0m \u001b[0mBaseException\u001b[0m \u001b[1;32mas\u001b[0m \u001b[0me\u001b[0m\u001b[1;33m:\u001b[0m\u001b[1;33m\u001b[0m\u001b[1;33m\u001b[0m\u001b[0m\n\u001b[0;32m    446\u001b[0m                     \u001b[1;31m# Remove the TypeError from the exception chain in\u001b[0m\u001b[1;33m\u001b[0m\u001b[1;33m\u001b[0m\u001b[1;33m\u001b[0m\u001b[0m\n",
      "\u001b[1;32m~\\AppData\\Local\\Programs\\Python\\Python39\\lib\\http\\client.py\u001b[0m in \u001b[0;36mgetresponse\u001b[1;34m(self)\u001b[0m\n\u001b[0;32m   1343\u001b[0m         \u001b[1;32mtry\u001b[0m\u001b[1;33m:\u001b[0m\u001b[1;33m\u001b[0m\u001b[1;33m\u001b[0m\u001b[0m\n\u001b[0;32m   1344\u001b[0m             \u001b[1;32mtry\u001b[0m\u001b[1;33m:\u001b[0m\u001b[1;33m\u001b[0m\u001b[1;33m\u001b[0m\u001b[0m\n\u001b[1;32m-> 1345\u001b[1;33m                 \u001b[0mresponse\u001b[0m\u001b[1;33m.\u001b[0m\u001b[0mbegin\u001b[0m\u001b[1;33m(\u001b[0m\u001b[1;33m)\u001b[0m\u001b[1;33m\u001b[0m\u001b[1;33m\u001b[0m\u001b[0m\n\u001b[0m\u001b[0;32m   1346\u001b[0m             \u001b[1;32mexcept\u001b[0m \u001b[0mConnectionError\u001b[0m\u001b[1;33m:\u001b[0m\u001b[1;33m\u001b[0m\u001b[1;33m\u001b[0m\u001b[0m\n\u001b[0;32m   1347\u001b[0m                 \u001b[0mself\u001b[0m\u001b[1;33m.\u001b[0m\u001b[0mclose\u001b[0m\u001b[1;33m(\u001b[0m\u001b[1;33m)\u001b[0m\u001b[1;33m\u001b[0m\u001b[1;33m\u001b[0m\u001b[0m\n",
      "\u001b[1;32m~\\AppData\\Local\\Programs\\Python\\Python39\\lib\\http\\client.py\u001b[0m in \u001b[0;36mbegin\u001b[1;34m(self)\u001b[0m\n\u001b[0;32m    305\u001b[0m         \u001b[1;31m# read until we get a non-100 response\u001b[0m\u001b[1;33m\u001b[0m\u001b[1;33m\u001b[0m\u001b[1;33m\u001b[0m\u001b[0m\n\u001b[0;32m    306\u001b[0m         \u001b[1;32mwhile\u001b[0m \u001b[1;32mTrue\u001b[0m\u001b[1;33m:\u001b[0m\u001b[1;33m\u001b[0m\u001b[1;33m\u001b[0m\u001b[0m\n\u001b[1;32m--> 307\u001b[1;33m             \u001b[0mversion\u001b[0m\u001b[1;33m,\u001b[0m \u001b[0mstatus\u001b[0m\u001b[1;33m,\u001b[0m \u001b[0mreason\u001b[0m \u001b[1;33m=\u001b[0m \u001b[0mself\u001b[0m\u001b[1;33m.\u001b[0m\u001b[0m_read_status\u001b[0m\u001b[1;33m(\u001b[0m\u001b[1;33m)\u001b[0m\u001b[1;33m\u001b[0m\u001b[1;33m\u001b[0m\u001b[0m\n\u001b[0m\u001b[0;32m    308\u001b[0m             \u001b[1;32mif\u001b[0m \u001b[0mstatus\u001b[0m \u001b[1;33m!=\u001b[0m \u001b[0mCONTINUE\u001b[0m\u001b[1;33m:\u001b[0m\u001b[1;33m\u001b[0m\u001b[1;33m\u001b[0m\u001b[0m\n\u001b[0;32m    309\u001b[0m                 \u001b[1;32mbreak\u001b[0m\u001b[1;33m\u001b[0m\u001b[1;33m\u001b[0m\u001b[0m\n",
      "\u001b[1;32m~\\AppData\\Local\\Programs\\Python\\Python39\\lib\\http\\client.py\u001b[0m in \u001b[0;36m_read_status\u001b[1;34m(self)\u001b[0m\n\u001b[0;32m    266\u001b[0m \u001b[1;33m\u001b[0m\u001b[0m\n\u001b[0;32m    267\u001b[0m     \u001b[1;32mdef\u001b[0m \u001b[0m_read_status\u001b[0m\u001b[1;33m(\u001b[0m\u001b[0mself\u001b[0m\u001b[1;33m)\u001b[0m\u001b[1;33m:\u001b[0m\u001b[1;33m\u001b[0m\u001b[1;33m\u001b[0m\u001b[0m\n\u001b[1;32m--> 268\u001b[1;33m         \u001b[0mline\u001b[0m \u001b[1;33m=\u001b[0m \u001b[0mstr\u001b[0m\u001b[1;33m(\u001b[0m\u001b[0mself\u001b[0m\u001b[1;33m.\u001b[0m\u001b[0mfp\u001b[0m\u001b[1;33m.\u001b[0m\u001b[0mreadline\u001b[0m\u001b[1;33m(\u001b[0m\u001b[0m_MAXLINE\u001b[0m \u001b[1;33m+\u001b[0m \u001b[1;36m1\u001b[0m\u001b[1;33m)\u001b[0m\u001b[1;33m,\u001b[0m \u001b[1;34m\"iso-8859-1\"\u001b[0m\u001b[1;33m)\u001b[0m\u001b[1;33m\u001b[0m\u001b[1;33m\u001b[0m\u001b[0m\n\u001b[0m\u001b[0;32m    269\u001b[0m         \u001b[1;32mif\u001b[0m \u001b[0mlen\u001b[0m\u001b[1;33m(\u001b[0m\u001b[0mline\u001b[0m\u001b[1;33m)\u001b[0m \u001b[1;33m>\u001b[0m \u001b[0m_MAXLINE\u001b[0m\u001b[1;33m:\u001b[0m\u001b[1;33m\u001b[0m\u001b[1;33m\u001b[0m\u001b[0m\n\u001b[0;32m    270\u001b[0m             \u001b[1;32mraise\u001b[0m \u001b[0mLineTooLong\u001b[0m\u001b[1;33m(\u001b[0m\u001b[1;34m\"status line\"\u001b[0m\u001b[1;33m)\u001b[0m\u001b[1;33m\u001b[0m\u001b[1;33m\u001b[0m\u001b[0m\n",
      "\u001b[1;32m~\\AppData\\Local\\Programs\\Python\\Python39\\lib\\socket.py\u001b[0m in \u001b[0;36mreadinto\u001b[1;34m(self, b)\u001b[0m\n\u001b[0;32m    702\u001b[0m         \u001b[1;32mwhile\u001b[0m \u001b[1;32mTrue\u001b[0m\u001b[1;33m:\u001b[0m\u001b[1;33m\u001b[0m\u001b[1;33m\u001b[0m\u001b[0m\n\u001b[0;32m    703\u001b[0m             \u001b[1;32mtry\u001b[0m\u001b[1;33m:\u001b[0m\u001b[1;33m\u001b[0m\u001b[1;33m\u001b[0m\u001b[0m\n\u001b[1;32m--> 704\u001b[1;33m                 \u001b[1;32mreturn\u001b[0m \u001b[0mself\u001b[0m\u001b[1;33m.\u001b[0m\u001b[0m_sock\u001b[0m\u001b[1;33m.\u001b[0m\u001b[0mrecv_into\u001b[0m\u001b[1;33m(\u001b[0m\u001b[0mb\u001b[0m\u001b[1;33m)\u001b[0m\u001b[1;33m\u001b[0m\u001b[1;33m\u001b[0m\u001b[0m\n\u001b[0m\u001b[0;32m    705\u001b[0m             \u001b[1;32mexcept\u001b[0m \u001b[0mtimeout\u001b[0m\u001b[1;33m:\u001b[0m\u001b[1;33m\u001b[0m\u001b[1;33m\u001b[0m\u001b[0m\n\u001b[0;32m    706\u001b[0m                 \u001b[0mself\u001b[0m\u001b[1;33m.\u001b[0m\u001b[0m_timeout_occurred\u001b[0m \u001b[1;33m=\u001b[0m \u001b[1;32mTrue\u001b[0m\u001b[1;33m\u001b[0m\u001b[1;33m\u001b[0m\u001b[0m\n",
      "\u001b[1;31mKeyboardInterrupt\u001b[0m: "
     ]
    }
   ],
   "source": [
    "ted_dict = {}\n",
    "\n",
    "path = 'C:/Users/Partiran/Desktop/data.csv'\n",
    "\n",
    "ted_sheet = get_sheet(\n",
    "    file_name=path,\n",
    "    name_columns_by_row=0\n",
    ")\n",
    "\n",
    "for title, author, date, views, likes, link in zip(\n",
    "            ted_sheet.column['title'],\n",
    "            ted_sheet.column['author'],\n",
    "            ted_sheet.column['date'],\n",
    "            ted_sheet.column['views'],\n",
    "            ted_sheet.column['likes'],\n",
    "            ted_sheet.column['link'],\n",
    "        ):\n",
    "            link = link.strip()\n",
    "            ted_dict[link] = {\n",
    "                'title': title,\n",
    "                'author': author,\n",
    "                'date': date,\n",
    "                'views': views,\n",
    "                'likes': likes,\n",
    "                'link': link,\n",
    "            }\n",
    "            complete_text = ''\n",
    "            talk_url = link +'/transcript'\n",
    "            browser.get(talk_url)\n",
    "# time.sleep(5)# you can give it some time to load the js \n",
    "\n",
    "            complete_text = ''\n",
    "            # give it more time\n",
    "            html = browser.page_source\n",
    "            soup = BeautifulSoup(html, 'lxml')\n",
    "            for i in  soup.findAll(\"span\", {\"class\": \"cursor-pointer\"}):\n",
    "                complete_text+=i.text\n",
    "            #     print (i.text)\n",
    "\n",
    "            ted_dict['transcript'] = complete_text\n",
    "            "
   ]
  },
  {
   "cell_type": "code",
   "execution_count": 22,
   "id": "f2279a0c",
   "metadata": {},
   "outputs": [
    {
     "data": {
      "text/plain": [
       "{'https://ted.com/talks/ozawa_bineshi_albert_climate_action_needs_new_frontline_leadership': {'title': 'Climate action needs new frontline leadership',\n",
       "  'author': 'Ozawa Bineshi Albert',\n",
       "  'date': 'December 2021',\n",
       "  'views': 404000,\n",
       "  'likes': 12000,\n",
       "  'link': 'https://ted.com/talks/ozawa_bineshi_albert_climate_action_needs_new_frontline_leadership'},\n",
       " 'transcript': \"Have you ever trodden\\non a Lego brick in your bare feet? You’re tiptoeing through\\nyour lounge late at night, and suddenly that stabbing pain, the expletives and the inevitable question: “Why do we have so much of this stuff\\nall over the place?” Well, that’s really quite simple. Your kids love playing with it, so you buy more. And a confession -- I love to watch my kids play with Lego. Especially good is when\\nI see them inventing their own rules and their own worlds. So here are my daughters, last Saturday, making something out of different kits and pieces of string and pieces of wood and dolls\\nand other objects. And I asked them, “What is it?” And they said to me, “Dad, of course\\nit’s a princess flying on a dragon to visit farm animals in New York.” Of course, what else could it be? Kids at play inspire me. They’re not afraid to ask, “What if” and “Why not?” But what kids implicitly know\\nthat adults tend to forget is that play isn’t just about fun. Now, as a biologist, I know that play\\nis spontaneous and pleasurable -- as you can see by the smiles\\nin this photograph -- but also, it accelerates\\nand derisks learning. It helps kids to try out new behaviors, to refine those behaviors and to imagine what is not but what could be or what will be. As a business strategist\\ndealing with adults, I still recommend play. In fact, play in business\\nis not just possible, I’d argue that it’s essential and even urgent. And here’s why. Competitive advantage fades away\\nfaster than any time in recent memory. In the 1980s, if you had a performance edge\\nover your competitors, you could reasonably expect to continue\\nbeing a leader for around 10 years, on average. But now the half-life of that advantage\\nhas shrunk to just one year. That means that short-lived success\\nis actually still very common, but sustained success  becomes very hard and very rare. That means that, actually, reimagination\\nis the new execution. In order to stay on top, or even just to tread water\\nand stay still, you need to constantly\\nreimagine your business. But that’s not so simple if you already have\\na highly successful business model. We become prisoners of the mental models\\nthat underpin our past success. In fact, I found\\nin dealing with businesses that you can’t really\\nstretch your strategy unless you stretch your mind. Now play is of course a great way\\nof stretching your mind. Now -- I mean, there’d be no mistake, I’m not suggesting literally that executives huddle around\\na conference table with a big pile of Lego bricks -- although I’ve done that,\\nand that works too. But instead, I’ve created a series\\nof imagination games to help executives\\nto stretch their thinking. Would you like to play with me? (Audience nods) Good, I'm glad you said that. OK, so let’s supposing\\nthat you’re stuck in the rut of seeing the world through the lens\\nof your past and current success. I would recommend the “Anti-Company Game,” and here’s how it works. You get a piece of paper, you create a list of everything\\nwhich is essential to your strategy -- everything which underpinned\\nyour past success, everything which is core and sacred -- and then you flip it. You create the exact\\nmirror-image list of assumptions, and then you make the best\\nbusiness case for this antiself. You’ll be surprised\\nat the ideas that it triggers. Supposing, for example,\\nthat you’re the CEO of a hotel chain and playing the game\\nand flipping the assumptions. Let’s assume that, inconveniently, you don’t actually own any hotels or any rooms or even operate any hotels\\nor any rooms anywhere. Ridiculous -- quite possibly -- but actually, how would you know\\nthe difference between ridiculous and the merely unfamiliar,\\nuntried and uncomfortable? And who’s to say that something that seems impractical\\ncan’t actually become and evolve into a more powerful idea? Actually, had the executives of hotels\\nplayed the “Anti-Company Game” before 2007, they might have been able to foresee\\nthe appearance of Airbnb, the hotel-less hospitality company, and they might have been able\\nto stave off disruption by preemptively disrupting themselves. Let’s play another game: “The Maverick Game.” On the edge of your industries -- on the edge of every industry -- are a population of maverick companies that are taking a bet against\\nthe incumbents’ business model and their view of the future. Actually, they have no choice because to be a miniature version\\nof the incumbent would not be viable. Now, it’s easy not to notice them -- many of them are small companies. It's easy to deliberately overlook\\nthem with some justification. Many startups disappear fairly quickly\\nafter being founded. And it’s very, very tempting, given all of your experience\\nin the business, to judge them. Do they know what they’re doing? Does their business model make sense? Will they ever make any money? But instead of judging them\\nfrom the comfort and the confidence of your position, try assuming that it’s they that have\\nthe right bet on the future. Think about the consequences\\nof that for your business model. Try making the best case for their idea. Supposing, for example, that you are the CEO of a company that makes equipment\\nthat makes semiconductors. Naturally, you’d probably spend\\nmost of your time and attention on your main customer industry, the electronics industry. And if it so happened, that a couple of maverick\\nbioscience companies were tinkering with your patents\\nand your technologies, you might overlook that\\nas a distraction, an irrelevance. But actually, Brooks Automation, a leader in the field, decided to take a close-up look\\nat such a group of mavericks to see whether it could learn anything. And what it realized by looking at the world\\nthrough the eyes of these mavericks was that, actually, the same techniques and technologies which can be used\\nto handle delicate semiconductors can also be applied to other fragile\\nand easily contaminated materials, like biological samples. And puzzling on the significance of this, they reimagined how to handle\\nand store and transport and label and identify biological samples. In fact, they became a successful pioneer in the new industry\\nof automated biobanking. So successful, in fact,\\nthat just a couple of days ago, they announced that this was now\\ntheir core business moving forwards. It’s only by focusing\\non these anomalous mavericks that they could see their own path\\nto renewed success and growth. Now, not everything in business\\ngoes according to plan. In fact, sometimes the plans\\ngo horribly awry. But you know what? That can be a source of inspiration, too. To find out how, let’s play the “Pre-Mortem Game.” So your role in this game is to write ... the obituary for your company, which is going to fail\\nwith 100 percent certainty in five years’ time. What is the cause of death? What will have been the point of failure? Why will it have failed? How will it have failed? The challenge here is that it’s easy\\nto be seduced into the baseline fallacy. The baseline fallacy is the idea that it’s the current business model\\nwhich is the low-risk bet. And of course that tends to be true until it isn’t true, at which point it’s probably too late\\nto do anything about it. Now, your employees\\nare an early-warning indicator. They will have intuitions\\nif the model begins to slip, but it’s very hard for them to speak up. And it’s even taboo for them to speak up when the business model is under pressure. But when executives create playgrounds -- spaces for the safe exploration\\nof alternatives and alternative scenarios -- then you get to tap into your employees’\\nconsiderable experience about the vulnerabilities and the weak spots and the blind spots of your company. Does anyone remember visiting recently\\none of these gorgeous marble palaces? No? It’s probably been a while since\\nwe visited the local banking branch. Had bricks-and-mortar banks\\nplayed the “Pre-Mortem Game,” perhaps they would have heard\\ntheir employees expressing some concerns about the gradually dwindling\\nflow of customers to local branches. And perhaps they would have been\\nslightly less taken by surprise when companies like NewBank, a digital native, seized, very rapidly indeed,\\non that opportunity to convince, to date,\\nmore than 40 million Latin Americans that in-person transactions\\nin real buildings were a quaint but obsolete\\nrelic of the past. It’s only when you bring\\nyour vulnerabilities into full view in this way that you may be motivated\\nto reimagine your business and to do so in a robust manner. It’s why the Roman Catholic Church\\ninvented the role, the position of the Devil’s advocate\\nin the 16th century to test the future consequences\\nof its decisions to appoint new saints. They did that by imagining what would Satan say or propose or counterpropose, in addition to the normal procedure\\nof thinking about the big man upstairs. Now, any human being,\\nany employee, any team and therefore any company\\ncan harness human imagination. It’s a defining trait of our species. Failures to imagine in business\\nare really failures of leadership. Business is a serious matter,\\nbut it should not exclude play. When leaders embrace play\\nand imagination games, they can unlock the imagination\\nof their employees, uncover disruptive new strategies and renew their lease on the future. Thank you. (Applause) \",\n",
       " 'https://ted.com/talks/sydney_iaukea_the_dark_history_of_the_overthrow_of_hawaii': {'title': 'The dark history of the overthrow of Hawaii',\n",
       "  'author': 'Sydney Iaukea',\n",
       "  'date': 'February 2022',\n",
       "  'views': 214000,\n",
       "  'likes': 6400,\n",
       "  'link': 'https://ted.com/talks/sydney_iaukea_the_dark_history_of_the_overthrow_of_hawaii'},\n",
       " 'https://ted.com/talks/martin_reeves_how_play_can_spark_new_ideas_for_your_business': {'title': 'How play can spark new ideas for your business',\n",
       "  'author': 'Martin Reeves',\n",
       "  'date': 'September 2021',\n",
       "  'views': 412000,\n",
       "  'likes': 12000,\n",
       "  'link': 'https://ted.com/talks/martin_reeves_how_play_can_spark_new_ideas_for_your_business'},\n",
       " 'https://ted.com/talks/james_k_thornton_why_is_china_appointing_judges_to_combat_climate_change': {'title': 'Why is China appointing judges to combat climate change?',\n",
       "  'author': 'James K. Thornton',\n",
       "  'date': 'October 2021',\n",
       "  'views': 427000,\n",
       "  'likes': 12000,\n",
       "  'link': 'https://ted.com/talks/james_k_thornton_why_is_china_appointing_judges_to_combat_climate_change'}}"
      ]
     },
     "execution_count": 22,
     "metadata": {},
     "output_type": "execute_result"
    }
   ],
   "source": [
    "ted_dict"
   ]
  },
  {
   "cell_type": "code",
   "execution_count": 4,
   "id": "1dd4be60",
   "metadata": {},
   "outputs": [
    {
     "ename": "TypeError",
     "evalue": "write() argument must be str, not bytes",
     "output_type": "error",
     "traceback": [
      "\u001b[1;31m---------------------------------------------------------------------------\u001b[0m",
      "\u001b[1;31mTypeError\u001b[0m                                 Traceback (most recent call last)",
      "\u001b[1;32m~\\AppData\\Local\\Temp/ipykernel_2848/3205071897.py\u001b[0m in \u001b[0;36m<module>\u001b[1;34m\u001b[0m\n\u001b[0;32m      1\u001b[0m \u001b[1;32mimport\u001b[0m \u001b[0mpickle\u001b[0m\u001b[1;33m\u001b[0m\u001b[1;33m\u001b[0m\u001b[0m\n\u001b[0;32m      2\u001b[0m \u001b[1;32mwith\u001b[0m \u001b[0mopen\u001b[0m\u001b[1;33m(\u001b[0m\u001b[1;34m'myfile.pickle'\u001b[0m\u001b[1;33m,\u001b[0m \u001b[1;34m'r'\u001b[0m\u001b[1;33m)\u001b[0m \u001b[1;32mas\u001b[0m \u001b[0mhandle\u001b[0m\u001b[1;33m:\u001b[0m\u001b[1;33m\u001b[0m\u001b[1;33m\u001b[0m\u001b[0m\n\u001b[1;32m----> 3\u001b[1;33m     \u001b[0mpickle\u001b[0m\u001b[1;33m.\u001b[0m\u001b[0mdump\u001b[0m\u001b[1;33m(\u001b[0m\u001b[0mted_dict\u001b[0m\u001b[1;33m,\u001b[0m \u001b[0mhandle\u001b[0m\u001b[1;33m)\u001b[0m\u001b[1;33m\u001b[0m\u001b[1;33m\u001b[0m\u001b[0m\n\u001b[0m",
      "\u001b[1;31mTypeError\u001b[0m: write() argument must be str, not bytes"
     ]
    }
   ],
   "source": [
    "import pickle \n",
    "with open('myfile.pickle', 'wb') as handle:\n",
    "    pickle.dump(ted_dict, handle)"
   ]
  },
  {
   "cell_type": "code",
   "execution_count": 6,
   "id": "c40da377",
   "metadata": {},
   "outputs": [],
   "source": [
    "import pickle\n",
    "\n",
    "with open('myfile.pickle', 'rb') as handle:\n",
    "    ted_dict = pickle.load(handle)"
   ]
  },
  {
   "cell_type": "code",
   "execution_count": 7,
   "id": "92ab04be",
   "metadata": {},
   "outputs": [
    {
     "name": "stdout",
     "output_type": "stream",
     "text": [
      "681\n"
     ]
    }
   ],
   "source": [
    "print(len(ted_dict))"
   ]
  },
  {
   "cell_type": "code",
   "execution_count": 82,
   "id": "6ecbf31e",
   "metadata": {},
   "outputs": [],
   "source": [
    "settings = {\n",
    "    \"setting\":{\n",
    "        \"analysis\": {\n",
    "          \"analyzer\": {\n",
    "            \"my_custom_analyzer\": { \n",
    "              \"char_filter\": [\n",
    "                \"emoticons\"\n",
    "              ],\n",
    "              \"tokenizer\": \"punctuation\",\n",
    "              \"filter\": [\n",
    "                \"lowercase\",\n",
    "                \"english_stop\"\n",
    "              ]\n",
    "            }\n",
    "          },\n",
    "          \"tokenizer\": {\n",
    "            \"punctuation\": { \n",
    "              \"type\": \"pattern\",\n",
    "              \"pattern\": \"[ .,!?]\"\n",
    "            }\n",
    "          },\n",
    "          \"char_filter\": {\n",
    "            \"emoticons\": { \n",
    "              \"type\": \"mapping\",\n",
    "              \"mappings\": [\n",
    "                \":) => _happy_\",\n",
    "                \":( => _sad_\"\n",
    "              ]\n",
    "            }\n",
    "          },\n",
    "          \"filter\": {\n",
    "            \"english_stop\": { \n",
    "              \"type\": \"stop\",\n",
    "              \"stopwords\": \"_english_\"\n",
    "            }\n",
    "          }\n",
    "        }\n",
    "    }\n",
    "}"
   ]
  },
  {
   "cell_type": "code",
   "execution_count": 1,
   "id": "cb610f34",
   "metadata": {},
   "outputs": [
    {
     "ename": "NameError",
     "evalue": "name 'es' is not defined",
     "output_type": "error",
     "traceback": [
      "\u001b[1;31m---------------------------------------------------------------------------\u001b[0m",
      "\u001b[1;31mNameError\u001b[0m                                 Traceback (most recent call last)",
      "\u001b[1;32m~\\AppData\\Local\\Temp/ipykernel_4136/4195421090.py\u001b[0m in \u001b[0;36m<module>\u001b[1;34m\u001b[0m\n\u001b[1;32m----> 1\u001b[1;33m \u001b[0mes\u001b[0m\u001b[1;33m.\u001b[0m\u001b[0mindices\u001b[0m\u001b[1;33m.\u001b[0m\u001b[0mdelete\u001b[0m\u001b[1;33m(\u001b[0m\u001b[0mindex\u001b[0m\u001b[1;33m=\u001b[0m\u001b[1;34m'ted_index'\u001b[0m\u001b[1;33m,\u001b[0m \u001b[0mignore\u001b[0m\u001b[1;33m=\u001b[0m\u001b[1;33m[\u001b[0m\u001b[1;36m400\u001b[0m\u001b[1;33m,\u001b[0m \u001b[1;36m404\u001b[0m\u001b[1;33m]\u001b[0m\u001b[1;33m)\u001b[0m\u001b[1;33m\u001b[0m\u001b[1;33m\u001b[0m\u001b[0m\n\u001b[0m",
      "\u001b[1;31mNameError\u001b[0m: name 'es' is not defined"
     ]
    }
   ],
   "source": [
    "es.indices.delete(index='ted_index', ignore=[400, 404])"
   ]
  },
  {
   "cell_type": "code",
   "execution_count": 36,
   "id": "ed11a2a9",
   "metadata": {},
   "outputs": [],
   "source": [
    "# Create the client instance\n",
    "client = Elasticsearch(\n",
    "    \"http://localhost:9200\"\n",
    ")\n",
    "es = client"
   ]
  },
  {
   "cell_type": "code",
   "execution_count": 74,
   "id": "4a3841fb",
   "metadata": {},
   "outputs": [
    {
     "name": "stderr",
     "output_type": "stream",
     "text": [
      "C:\\Users\\Partiran\\AppData\\Local\\Temp/ipykernel_1100/1225796511.py:61: DeprecationWarning: The 'body' parameter is deprecated and will be removed in a future version. Instead use the 'operations' parameter. See https://github.com/elastic/elasticsearch-py/issues/1698 for more information\n",
      "  res = es.bulk(index = 'ted_index', body = bulk_data)\n"
     ]
    }
   ],
   "source": [
    "# es.indices.create(index = 'ted_index', body = {\n",
    "#   \"settings\": {\n",
    "#     \"analysis\": {\n",
    "#       \"analyzer\": {\n",
    "#         \"whitespace_lowercase\": {\n",
    "#           \"tokenizer\": \"whitespace\",\n",
    "#           \"filter\": [ \"lowercase\" ]\n",
    "#         }\n",
    "#       }\n",
    "#     }\n",
    "#   }\n",
    "# }\n",
    "# )\n",
    "\n",
    "es.indices.create(index = 'ted_index', settings=settings)\n",
    "\n",
    "# es.indices.create(index = 'ted_index', body = {\"settings\": {    \"analysis\": {\n",
    "#       \"analyzer\": {\n",
    "#         \"default\": {\n",
    "#           \"tokenizer\": \"whitespace\",\n",
    "#           \"filter\": [ \"my_custom_stop_words_filter\" ]\n",
    "#         }\n",
    "#       },\n",
    "#       \"filter\": {\n",
    "#         \"my_custom_stop_words_filter\": {\n",
    "#           \"type\": \"stop\",\n",
    "#           \"ignore_case\": 'true'\n",
    "#         }\n",
    "#       }\n",
    "#     }\n",
    "#   }}\n",
    "# )\n",
    "\n",
    "\n",
    "ted_list=[{'name': 'Negin!', 'text': 'I love the Beautiful Village and or!'}]\n",
    "bulk_data = []\n",
    "\n",
    "i = 0 \n",
    "for each in ted_list:\n",
    "    op_dict = {\n",
    "        \"index\": {\n",
    "            \"_index\": 'ted_index',\n",
    "            \"_id\": i, \n",
    "        },\n",
    "#         \"analysis\": {\n",
    "#           \"analyzer\": {\n",
    "#             \"analyzer_keyword\": {\n",
    "#               \"tokenizer\": \"keyword\",\n",
    "#               \"filter\": \"lowercase\"\n",
    "#             }\n",
    "#           }\n",
    "#         }\n",
    "        \n",
    "    }\n",
    "    i = i+1\n",
    "    data_dict = each\n",
    "        \n",
    "    bulk_data.append(op_dict)\n",
    "    bulk_data.append(data_dict)\n",
    "    \n",
    "res = es.bulk(index = 'ted_index', body = bulk_data)"
   ]
  },
  {
   "cell_type": "code",
   "execution_count": 75,
   "id": "0f27d705",
   "metadata": {},
   "outputs": [
    {
     "name": "stderr",
     "output_type": "stream",
     "text": [
      "C:\\Users\\Partiran\\AppData\\Local\\Temp/ipykernel_1100/3828541796.py:1: DeprecationWarning: The 'body' parameter is deprecated and will be removed in a future version. Instead use individual parameters.\n",
      "  es.search(body={\"query\": {\"match_all\": {}}}, index = 'ted_index')\n"
     ]
    },
    {
     "data": {
      "text/plain": [
       "ObjectApiResponse({'took': 1, 'timed_out': False, '_shards': {'total': 1, 'successful': 1, 'skipped': 0, 'failed': 0}, 'hits': {'total': {'value': 1, 'relation': 'eq'}, 'max_score': 1.0, 'hits': [{'_index': 'ted_index', '_id': '0', '_score': 1.0, '_source': {'name': 'Negin!', 'text': 'I love the Beautiful Village and or!'}}]}})"
      ]
     },
     "execution_count": 75,
     "metadata": {},
     "output_type": "execute_result"
    }
   ],
   "source": [
    "es.search(body={\"query\": {\"match_all\": {}}}, index = 'ted_index')"
   ]
  },
  {
   "cell_type": "code",
   "execution_count": 20,
   "id": "48577499",
   "metadata": {},
   "outputs": [
    {
     "name": "stderr",
     "output_type": "stream",
     "text": [
      "\n",
      "\n",
      "====== WebDriver manager ======\n",
      "Current google-chrome version is 99.0.4844\n",
      "Get LATEST chromedriver version for 99.0.4844 google-chrome\n",
      "Trying to download new driver from https://chromedriver.storage.googleapis.com/99.0.4844.51/chromedriver_win32.zip\n",
      "Driver has been saved in cache [C:\\Users\\Partiran\\.wdm\\drivers\\chromedriver\\win32\\99.0.4844.51]\n"
     ]
    }
   ],
   "source": [
    "from selenium import webdriver\n",
    "from selenium.webdriver.chrome.service import Service\n",
    "from webdriver_manager.chrome import ChromeDriverManager\n",
    "from selenium.webdriver.common.by import By\n",
    "\n",
    "s=Service(ChromeDriverManager().install())\n",
    "browser = webdriver.Chrome(service=s)"
   ]
  },
  {
   "cell_type": "code",
   "execution_count": 12,
   "id": "294355cb",
   "metadata": {},
   "outputs": [
    {
     "data": {
      "text/plain": [
       "'Thank you so much, Chris. And it\\'s truly a great honor\\nto have the opportunity to come to this stage twice;\\nI\\'m extremely grateful. I have been blown away by this conference, and I want to thank all of you\\nfor the many nice comments about what I had to say the other night. And I say that sincerely, partly because (Mock sob) I need that. (Laughter) Put yourselves in my position. (Laughter) I flew on Air Force Two for eight years. (Laughter) Now I have to take off my shoes\\nor boots to get on an airplane! (Laughter) (Applause) I\\'ll tell you one quick story to illustrate what\\nthat\\'s been like for me. (Laughter) It\\'s a true story --\\nevery bit of this is true. Soon after Tipper and I left the --\\n(Mock sob) White House -- (Laughter) we were driving from our home\\nin Nashville to a little farm we have 50 miles east of Nashville. Driving ourselves. (Laughter) I know it sounds like\\na little thing to you, but -- (Laughter) I looked in the rear-view mirror and all of a sudden it just hit me. There was no motorcade back there. (Laughter) You\\'ve heard of phantom limb pain? (Laughter) This was a rented Ford Taurus. (Laughter) It was dinnertime, and we started looking for a place to eat. We were on I-40. We got to Exit 238, Lebanon, Tennessee. We got off the exit,\\nwe found a Shoney\\'s restaurant. Low-cost family restaurant chain,\\nfor those of you who don\\'t know it. We went in and sat down at the booth,\\nand the waitress came over, made a big commotion over Tipper. (Laughter) She took our order, and then went\\nto the couple in the booth next to us, and she lowered her voice so much, I had to really strain to hear\\nwhat she was saying. And she said \"Yes, that\\'s former\\nVice President Al Gore and his wife, Tipper.\" And the man said, \"He\\'s come down a long way, hasn\\'t he?\" (Laughter) (Applause) There\\'s been kind\\nof a series of epiphanies. (Laughter) The very next day,\\ncontinuing the totally true story, I got on a G-V to fly to Africa\\nto make a speech in Nigeria, in the city of Lagos,\\non the topic of energy. And I began the speech\\nby telling them the story of what had just happened\\nthe day before in Nashville. And I told it pretty much the same way\\nI\\'ve just shared it with you: Tipper and I were driving ourselves, Shoney\\'s, low-cost\\nfamily restaurant chain, what the man said -- they laughed. I gave my speech, then went back\\nout to the airport to fly back home. I fell asleep on the plane until, during the middle\\nof the night, we landed on the Azores Islands for refueling. I woke up, they opened the door,\\nI went out to get some fresh air, and I looked, and there was a man\\nrunning across the runway. And he was waving a piece\\nof paper, and he was yelling, \"Call Washington! Call Washington!\" And I thought to myself,\\nin the middle of the night, in the middle of the Atlantic, what in the world could be\\nwrong in Washington? Then I remembered\\nit could be a bunch of things. (Laughter) But what it turned out to be, was that my staff was extremely upset because one of the wire services\\nin Nigeria had already written a story about my speech, and it had already been printed in cities all across the United States of America. It was printed in Monterey, I checked. (Laughter) And the story began, \"Former Vice President Al Gore\\nannounced in Nigeria yesterday,\" quote: \\'My wife Tipper and I have opened\\na low-cost family restaurant\\'\" -- (Laughter) \"\\'named Shoney\\'s, and we are running it ourselves.\\'\" (Laughter) Before I could get back to U.S. soil, David Letterman and Jay Leno\\nhad already started in on -- one of them had me\\nin a big white chef\\'s hat, Tipper was saying,\\n\"One more burger with fries!\" (Laughter) Three days later, I got a nice, long, handwritten letter from my friend and partner\\nand colleague Bill Clinton, saying, \"Congratulations\\non the new restaurant, Al!\" (Laughter) We like to celebrate\\neach other\\'s successes in life. (Laughter) I was going to talk\\nabout information ecology. But I was thinking that, since I plan to make a lifelong habit\\nof coming back to TED, that maybe I could talk\\nabout that another time. (Applause) Chris Anderson: It\\'s a deal! (Applause) Al Gore: I want to focus\\non what many of you have said you would like me to elaborate on: What can you do about the climate crisis? I want to start with a couple of -- I\\'m going to show some new images, and I\\'m going to recapitulate\\njust four or five. Now, the slide show. I update the slide show\\nevery time I give it. I add new images, because I learn more about it\\nevery time I give it. It\\'s like beach-combing, you know? Every time the tide comes in and out,\\nyou find some more shells. Just in the last two days, we got\\nthe new temperature records in January. This is just for\\nthe United States of America. Historical average\\nfor Januarys is 31 degrees; last month was 39.5 degrees. Now, I know that you wanted some more\\nbad news about the environment -- I\\'m kidding. But these are the recapitulation slides, and then I\\'m going to go into new\\nmaterial about what you can do. But I wanted to elaborate\\non a couple of these. First of all, this is where\\nwe\\'re projected to go with the U.S. contribution\\nto global warming, under business as usual. Efficiency in end-use electricity\\nand end-use of all energy is the low-hanging fruit. Efficiency and conservation --\\nit\\'s not a cost; it\\'s a profit. The sign is wrong. It\\'s not negative; it\\'s positive. These are investments\\nthat pay for themselves. But they are also very effective\\nin deflecting our path. Cars and trucks -- I talked\\nabout that in the slideshow, but I want you to put it in perspective. It\\'s an easy, visible target of concern -- and it should be -- but there is more global warming pollution\\nthat comes from buildings than from cars and trucks. Cars and trucks are very significant, and we have the lowest\\nstandards in the world. And so we should address that.\\nBut it\\'s part of the puzzle. Other transportation efficiency\\nis as important as cars and trucks. Renewables at the current levels\\nof technological efficiency can make this much difference. And with what Vinod, and John Doerr\\nand others, many of you here -- there are a lot of people\\ndirectly involved in this -- this wedge is going to grow\\nmuch more rapidly than the current projection shows it. Carbon Capture and Sequestration --\\nthat\\'s what CCS stands for -- is likely to become the killer app\\nthat will enable us to continue to use fossil fuels\\nin a way that is safe. Not quite there yet. OK. Now, what can you do? Reduce emissions in your home. Most of these expenditures\\nare also profitable. Insulation, better design. Buy green electricity where you can. I mentioned automobiles -- buy a hybrid. Use light rail. Figure out some of the other options\\nthat are much better. It\\'s important. Be a green consumer. You have choices with everything you buy, between things that have a harsh effect, or a much less harsh effect\\non the global climate crisis. Consider this: Make a decision to live\\na carbon-neutral life. Those of you who are good at branding, I\\'d love to get your advice and help on how to say this in a way\\nthat connects with the most people. It is easier than you think. It really is. A lot of us in here\\nhave made that decision, and it is really pretty easy. It means reduce\\nyour carbon dioxide emissions with the full range\\nof choices that you make, and then purchase or acquire offsets for the remainder that you have not\\ncompletely reduced. And what it means is elaborated\\nat climatecrisis.net. There is a carbon calculator. Participant Productions convened -- with my active involvement -- the leading software writers in the world, on this arcane science\\nof carbon calculation, to construct a consumer-friendly\\ncarbon calculator. You can very precisely calculate\\nwhat your CO2 emissions are, and then you will be given\\noptions to reduce. And by the time the movie\\ncomes out in May, this will be updated to 2.0, and we will have click-through\\npurchases of offsets. Next, consider making\\nyour business carbon-neutral. Again, some of us have done that, and it\\'s not as hard as you think. Integrate climate solutions\\ninto all of your innovations, whether you are from the technology, or entertainment, or design\\nand architecture community. Invest sustainably. Majora mentioned this. Listen, if you have invested money\\nwith managers who you compensate on the basis of their annual performance, don\\'t ever again complain\\nabout quarterly report CEO management. Over time, people do\\nwhat you pay them to do. And if they judge how much\\nthey\\'re going to get paid on your capital that they\\'ve invested, based on the short-term returns, you\\'re going to get short-term decisions. A lot more to be said about that. Become a catalyst of change. Teach others, learn about it,\\ntalk about it. The movie is a movie version\\nof the slideshow I gave two nights ago,\\nexcept it\\'s a lot more entertaining. And it comes out in May. Many of you here have the opportunity\\nto ensure that a lot of people see it. Consider sending somebody to Nashville. Pick well. And I am personally going to train people\\nto give this slideshow -- re-purposed, with some\\nof the personal stories obviously replaced with a generic approach, and it\\'s not just the slides,\\nit\\'s what they mean. And it\\'s how they link together. And so I\\'m going to be conducting\\na course this summer for a group of people that are\\nnominated by different folks to come and then give it en masse, in communities all across the country, and we\\'re going to update the slideshow\\nfor all of them every single week, to keep it right on the cutting edge. Working with Larry Lessig, it will be,\\nsomewhere in that process, posted with tools\\nand limited-use copyrights, so that young people can remix it\\nand do it in their own way. (Applause) Where did anybody get the idea that you ought to stay\\narm\\'s length from politics? It doesn\\'t mean\\nthat if you\\'re a Republican, that I\\'m trying to convince you\\nto be a Democrat. We need Republicans as well. This used to be a bipartisan issue, and I know that\\nin this group it really is. Become politically active. Make our democracy work the way\\nit\\'s supposed to work. Support the idea of capping\\ncarbon dioxide emissions -- global warming pollution --\\nand trading it. Here\\'s why: as long as the United States\\nis out of the world system, it\\'s not a closed system. Once it becomes a closed system,\\nwith U.S. participation, then everybody\\nwho\\'s on a board of directors -- how many people here\\nserve on the board of directors of a corporation? Once it\\'s a closed system, you will have legal liability\\nif you do not urge your CEO to get the maximum income from reducing\\nand trading the carbon emissions that can be avoided. The market will work\\nto solve this problem -- if we can accomplish this. Help with the mass persuasion campaign\\nthat will start this spring. We have to change the minds\\nof the American people. Because presently, the politicians\\ndo not have permission to do what needs to be done. And in our modern country, the role\\nof logic and reason no longer includes mediating between wealth and power\\nthe way it once did. It\\'s now repetition of short, hot-button,\\n30-second, 28-second television ads. We have to buy a lot of those ads. Let\\'s re-brand global warming,\\nas many of you have suggested. I like \"climate crisis\"\\ninstead of \"climate collapse,\" but again, those of you\\nwho are good at branding, I need your help on this. Somebody said the test\\nwe\\'re facing now, a scientist told me, is whether the combination\\nof an opposable thumb and a neocortex is a viable combination. (Laughter) That\\'s really true. I said the other night,\\nand I\\'ll repeat now: this is not a political issue. Again, the Republicans here --\\nthis shouldn\\'t be partisan. You have more influence\\nthan some of us who are Democrats do. This is an opportunity. Not just this, but connected\\nto the ideas that are here, to bring more coherence to them. We are one. Thank you very much, I appreciate it. (Applause) '"
      ]
     },
     "execution_count": 12,
     "metadata": {},
     "output_type": "execute_result"
    }
   ],
   "source": [
    "browser.get(\"https://www.ted.com/talks/al_gore_averting_the_climate_crisis/transcript\")\n",
    "# time.sleep(5)# you can give it some time to load the js \n",
    "\n",
    "complete_text = ''\n",
    "# give it more time\n",
    "html = browser.page_source\n",
    "soup = BeautifulSoup(html, 'lxml')\n",
    "for i in  soup.findAll(\"span\", {\"class\": \"cursor-pointer\"}):\n",
    "    complete_text+=i.text\n",
    "#     print (i.text)\n",
    "\n",
    "complete_text"
   ]
  },
  {
   "cell_type": "code",
   "execution_count": 34,
   "id": "9c352b5a",
   "metadata": {},
   "outputs": [
    {
     "name": "stderr",
     "output_type": "stream",
     "text": [
      "C:\\Users\\Partiran\\AppData\\Local\\Temp/ipykernel_1100/3828541796.py:1: DeprecationWarning: The 'body' parameter is deprecated and will be removed in a future version. Instead use individual parameters.\n",
      "  es.search(body={\"query\": {\"match_all\": {}}}, index = 'ted_index')\n"
     ]
    },
    {
     "data": {
      "text/plain": [
       "ObjectApiResponse({'took': 1, 'timed_out': False, '_shards': {'total': 1, 'successful': 1, 'skipped': 0, 'failed': 0}, 'hits': {'total': {'value': 1, 'relation': 'eq'}, 'max_score': 1.0, 'hits': [{'_index': 'ted_index', '_id': '0', '_score': 1.0, '_source': {'name': 'negin', 'text': 'i love the beautiful village and or'}}]}})"
      ]
     },
     "execution_count": 34,
     "metadata": {},
     "output_type": "execute_result"
    }
   ],
   "source": [
    "es.search(body={\"query\": {\"match_all\": {}}}, index = 'ted_index')"
   ]
  },
  {
   "cell_type": "code",
   "execution_count": 24,
   "id": "8183b3a3",
   "metadata": {},
   "outputs": [
    {
     "ename": "KeyboardInterrupt",
     "evalue": "",
     "output_type": "error",
     "traceback": [
      "\u001b[1;31m---------------------------------------------------------------------------\u001b[0m",
      "\u001b[1;31mKeyboardInterrupt\u001b[0m                         Traceback (most recent call last)",
      "\u001b[1;32m~\\AppData\\Local\\Temp/ipykernel_2848/3224340091.py\u001b[0m in \u001b[0;36m<module>\u001b[1;34m\u001b[0m\n\u001b[0;32m     28\u001b[0m             \u001b[0mcomplete_text\u001b[0m \u001b[1;33m=\u001b[0m \u001b[1;34m''\u001b[0m\u001b[1;33m\u001b[0m\u001b[1;33m\u001b[0m\u001b[0m\n\u001b[0;32m     29\u001b[0m             \u001b[0mtalk_url\u001b[0m \u001b[1;33m=\u001b[0m \u001b[0mlink\u001b[0m \u001b[1;33m+\u001b[0m\u001b[1;34m'/transcript'\u001b[0m\u001b[1;33m\u001b[0m\u001b[1;33m\u001b[0m\u001b[0m\n\u001b[1;32m---> 30\u001b[1;33m             \u001b[0mbrowser\u001b[0m\u001b[1;33m.\u001b[0m\u001b[0mget\u001b[0m\u001b[1;33m(\u001b[0m\u001b[0mtalk_url\u001b[0m\u001b[1;33m)\u001b[0m\u001b[1;33m\u001b[0m\u001b[1;33m\u001b[0m\u001b[0m\n\u001b[0m\u001b[0;32m     31\u001b[0m \u001b[1;33m\u001b[0m\u001b[0m\n\u001b[0;32m     32\u001b[0m             \u001b[0mcomplete_text\u001b[0m \u001b[1;33m=\u001b[0m \u001b[1;34m''\u001b[0m\u001b[1;33m\u001b[0m\u001b[1;33m\u001b[0m\u001b[0m\n",
      "\u001b[1;32mc:\\users\\partiran\\django_project\\venv\\lib\\site-packages\\selenium\\webdriver\\remote\\webdriver.py\u001b[0m in \u001b[0;36mget\u001b[1;34m(self, url)\u001b[0m\n\u001b[0;32m    435\u001b[0m         \u001b[0mLoads\u001b[0m \u001b[0ma\u001b[0m \u001b[0mweb\u001b[0m \u001b[0mpage\u001b[0m \u001b[1;32min\u001b[0m \u001b[0mthe\u001b[0m \u001b[0mcurrent\u001b[0m \u001b[0mbrowser\u001b[0m \u001b[0msession\u001b[0m\u001b[1;33m.\u001b[0m\u001b[1;33m\u001b[0m\u001b[1;33m\u001b[0m\u001b[0m\n\u001b[0;32m    436\u001b[0m         \"\"\"\n\u001b[1;32m--> 437\u001b[1;33m         \u001b[0mself\u001b[0m\u001b[1;33m.\u001b[0m\u001b[0mexecute\u001b[0m\u001b[1;33m(\u001b[0m\u001b[0mCommand\u001b[0m\u001b[1;33m.\u001b[0m\u001b[0mGET\u001b[0m\u001b[1;33m,\u001b[0m \u001b[1;33m{\u001b[0m\u001b[1;34m'url'\u001b[0m\u001b[1;33m:\u001b[0m \u001b[0murl\u001b[0m\u001b[1;33m}\u001b[0m\u001b[1;33m)\u001b[0m\u001b[1;33m\u001b[0m\u001b[1;33m\u001b[0m\u001b[0m\n\u001b[0m\u001b[0;32m    438\u001b[0m \u001b[1;33m\u001b[0m\u001b[0m\n\u001b[0;32m    439\u001b[0m     \u001b[1;33m@\u001b[0m\u001b[0mproperty\u001b[0m\u001b[1;33m\u001b[0m\u001b[1;33m\u001b[0m\u001b[0m\n",
      "\u001b[1;32mc:\\users\\partiran\\django_project\\venv\\lib\\site-packages\\selenium\\webdriver\\remote\\webdriver.py\u001b[0m in \u001b[0;36mexecute\u001b[1;34m(self, driver_command, params)\u001b[0m\n\u001b[0;32m    421\u001b[0m \u001b[1;33m\u001b[0m\u001b[0m\n\u001b[0;32m    422\u001b[0m         \u001b[0mparams\u001b[0m \u001b[1;33m=\u001b[0m \u001b[0mself\u001b[0m\u001b[1;33m.\u001b[0m\u001b[0m_wrap_value\u001b[0m\u001b[1;33m(\u001b[0m\u001b[0mparams\u001b[0m\u001b[1;33m)\u001b[0m\u001b[1;33m\u001b[0m\u001b[1;33m\u001b[0m\u001b[0m\n\u001b[1;32m--> 423\u001b[1;33m         \u001b[0mresponse\u001b[0m \u001b[1;33m=\u001b[0m \u001b[0mself\u001b[0m\u001b[1;33m.\u001b[0m\u001b[0mcommand_executor\u001b[0m\u001b[1;33m.\u001b[0m\u001b[0mexecute\u001b[0m\u001b[1;33m(\u001b[0m\u001b[0mdriver_command\u001b[0m\u001b[1;33m,\u001b[0m \u001b[0mparams\u001b[0m\u001b[1;33m)\u001b[0m\u001b[1;33m\u001b[0m\u001b[1;33m\u001b[0m\u001b[0m\n\u001b[0m\u001b[0;32m    424\u001b[0m         \u001b[1;32mif\u001b[0m \u001b[0mresponse\u001b[0m\u001b[1;33m:\u001b[0m\u001b[1;33m\u001b[0m\u001b[1;33m\u001b[0m\u001b[0m\n\u001b[0;32m    425\u001b[0m             \u001b[0mself\u001b[0m\u001b[1;33m.\u001b[0m\u001b[0merror_handler\u001b[0m\u001b[1;33m.\u001b[0m\u001b[0mcheck_response\u001b[0m\u001b[1;33m(\u001b[0m\u001b[0mresponse\u001b[0m\u001b[1;33m)\u001b[0m\u001b[1;33m\u001b[0m\u001b[1;33m\u001b[0m\u001b[0m\n",
      "\u001b[1;32mc:\\users\\partiran\\django_project\\venv\\lib\\site-packages\\selenium\\webdriver\\remote\\remote_connection.py\u001b[0m in \u001b[0;36mexecute\u001b[1;34m(self, command, params)\u001b[0m\n\u001b[0;32m    331\u001b[0m         \u001b[0mdata\u001b[0m \u001b[1;33m=\u001b[0m \u001b[0mutils\u001b[0m\u001b[1;33m.\u001b[0m\u001b[0mdump_json\u001b[0m\u001b[1;33m(\u001b[0m\u001b[0mparams\u001b[0m\u001b[1;33m)\u001b[0m\u001b[1;33m\u001b[0m\u001b[1;33m\u001b[0m\u001b[0m\n\u001b[0;32m    332\u001b[0m         \u001b[0murl\u001b[0m \u001b[1;33m=\u001b[0m \u001b[1;34mf\"{self._url}{path}\"\u001b[0m\u001b[1;33m\u001b[0m\u001b[1;33m\u001b[0m\u001b[0m\n\u001b[1;32m--> 333\u001b[1;33m         \u001b[1;32mreturn\u001b[0m \u001b[0mself\u001b[0m\u001b[1;33m.\u001b[0m\u001b[0m_request\u001b[0m\u001b[1;33m(\u001b[0m\u001b[0mcommand_info\u001b[0m\u001b[1;33m[\u001b[0m\u001b[1;36m0\u001b[0m\u001b[1;33m]\u001b[0m\u001b[1;33m,\u001b[0m \u001b[0murl\u001b[0m\u001b[1;33m,\u001b[0m \u001b[0mbody\u001b[0m\u001b[1;33m=\u001b[0m\u001b[0mdata\u001b[0m\u001b[1;33m)\u001b[0m\u001b[1;33m\u001b[0m\u001b[1;33m\u001b[0m\u001b[0m\n\u001b[0m\u001b[0;32m    334\u001b[0m \u001b[1;33m\u001b[0m\u001b[0m\n\u001b[0;32m    335\u001b[0m     \u001b[1;32mdef\u001b[0m \u001b[0m_request\u001b[0m\u001b[1;33m(\u001b[0m\u001b[0mself\u001b[0m\u001b[1;33m,\u001b[0m \u001b[0mmethod\u001b[0m\u001b[1;33m,\u001b[0m \u001b[0murl\u001b[0m\u001b[1;33m,\u001b[0m \u001b[0mbody\u001b[0m\u001b[1;33m=\u001b[0m\u001b[1;32mNone\u001b[0m\u001b[1;33m)\u001b[0m\u001b[1;33m:\u001b[0m\u001b[1;33m\u001b[0m\u001b[1;33m\u001b[0m\u001b[0m\n",
      "\u001b[1;32mc:\\users\\partiran\\django_project\\venv\\lib\\site-packages\\selenium\\webdriver\\remote\\remote_connection.py\u001b[0m in \u001b[0;36m_request\u001b[1;34m(self, method, url, body)\u001b[0m\n\u001b[0;32m    353\u001b[0m \u001b[1;33m\u001b[0m\u001b[0m\n\u001b[0;32m    354\u001b[0m         \u001b[1;32mif\u001b[0m \u001b[0mself\u001b[0m\u001b[1;33m.\u001b[0m\u001b[0mkeep_alive\u001b[0m\u001b[1;33m:\u001b[0m\u001b[1;33m\u001b[0m\u001b[1;33m\u001b[0m\u001b[0m\n\u001b[1;32m--> 355\u001b[1;33m             \u001b[0mresp\u001b[0m \u001b[1;33m=\u001b[0m \u001b[0mself\u001b[0m\u001b[1;33m.\u001b[0m\u001b[0m_conn\u001b[0m\u001b[1;33m.\u001b[0m\u001b[0mrequest\u001b[0m\u001b[1;33m(\u001b[0m\u001b[0mmethod\u001b[0m\u001b[1;33m,\u001b[0m \u001b[0murl\u001b[0m\u001b[1;33m,\u001b[0m \u001b[0mbody\u001b[0m\u001b[1;33m=\u001b[0m\u001b[0mbody\u001b[0m\u001b[1;33m,\u001b[0m \u001b[0mheaders\u001b[0m\u001b[1;33m=\u001b[0m\u001b[0mheaders\u001b[0m\u001b[1;33m)\u001b[0m\u001b[1;33m\u001b[0m\u001b[1;33m\u001b[0m\u001b[0m\n\u001b[0m\u001b[0;32m    356\u001b[0m             \u001b[0mstatuscode\u001b[0m \u001b[1;33m=\u001b[0m \u001b[0mresp\u001b[0m\u001b[1;33m.\u001b[0m\u001b[0mstatus\u001b[0m\u001b[1;33m\u001b[0m\u001b[1;33m\u001b[0m\u001b[0m\n\u001b[0;32m    357\u001b[0m         \u001b[1;32melse\u001b[0m\u001b[1;33m:\u001b[0m\u001b[1;33m\u001b[0m\u001b[1;33m\u001b[0m\u001b[0m\n",
      "\u001b[1;32mc:\\users\\partiran\\django_project\\venv\\lib\\site-packages\\urllib3\\request.py\u001b[0m in \u001b[0;36mrequest\u001b[1;34m(self, method, url, fields, headers, **urlopen_kw)\u001b[0m\n\u001b[0;32m     76\u001b[0m             )\n\u001b[0;32m     77\u001b[0m         \u001b[1;32melse\u001b[0m\u001b[1;33m:\u001b[0m\u001b[1;33m\u001b[0m\u001b[1;33m\u001b[0m\u001b[0m\n\u001b[1;32m---> 78\u001b[1;33m             return self.request_encode_body(\n\u001b[0m\u001b[0;32m     79\u001b[0m                 \u001b[0mmethod\u001b[0m\u001b[1;33m,\u001b[0m \u001b[0murl\u001b[0m\u001b[1;33m,\u001b[0m \u001b[0mfields\u001b[0m\u001b[1;33m=\u001b[0m\u001b[0mfields\u001b[0m\u001b[1;33m,\u001b[0m \u001b[0mheaders\u001b[0m\u001b[1;33m=\u001b[0m\u001b[0mheaders\u001b[0m\u001b[1;33m,\u001b[0m \u001b[1;33m**\u001b[0m\u001b[0murlopen_kw\u001b[0m\u001b[1;33m\u001b[0m\u001b[1;33m\u001b[0m\u001b[0m\n\u001b[0;32m     80\u001b[0m             )\n",
      "\u001b[1;32mc:\\users\\partiran\\django_project\\venv\\lib\\site-packages\\urllib3\\request.py\u001b[0m in \u001b[0;36mrequest_encode_body\u001b[1;34m(self, method, url, fields, headers, encode_multipart, multipart_boundary, **urlopen_kw)\u001b[0m\n\u001b[0;32m    168\u001b[0m         \u001b[0mextra_kw\u001b[0m\u001b[1;33m.\u001b[0m\u001b[0mupdate\u001b[0m\u001b[1;33m(\u001b[0m\u001b[0murlopen_kw\u001b[0m\u001b[1;33m)\u001b[0m\u001b[1;33m\u001b[0m\u001b[1;33m\u001b[0m\u001b[0m\n\u001b[0;32m    169\u001b[0m \u001b[1;33m\u001b[0m\u001b[0m\n\u001b[1;32m--> 170\u001b[1;33m         \u001b[1;32mreturn\u001b[0m \u001b[0mself\u001b[0m\u001b[1;33m.\u001b[0m\u001b[0murlopen\u001b[0m\u001b[1;33m(\u001b[0m\u001b[0mmethod\u001b[0m\u001b[1;33m,\u001b[0m \u001b[0murl\u001b[0m\u001b[1;33m,\u001b[0m \u001b[1;33m**\u001b[0m\u001b[0mextra_kw\u001b[0m\u001b[1;33m)\u001b[0m\u001b[1;33m\u001b[0m\u001b[1;33m\u001b[0m\u001b[0m\n\u001b[0m",
      "\u001b[1;32mc:\\users\\partiran\\django_project\\venv\\lib\\site-packages\\urllib3\\poolmanager.py\u001b[0m in \u001b[0;36murlopen\u001b[1;34m(self, method, url, redirect, **kw)\u001b[0m\n\u001b[0;32m    373\u001b[0m             \u001b[0mresponse\u001b[0m \u001b[1;33m=\u001b[0m \u001b[0mconn\u001b[0m\u001b[1;33m.\u001b[0m\u001b[0murlopen\u001b[0m\u001b[1;33m(\u001b[0m\u001b[0mmethod\u001b[0m\u001b[1;33m,\u001b[0m \u001b[0murl\u001b[0m\u001b[1;33m,\u001b[0m \u001b[1;33m**\u001b[0m\u001b[0mkw\u001b[0m\u001b[1;33m)\u001b[0m\u001b[1;33m\u001b[0m\u001b[1;33m\u001b[0m\u001b[0m\n\u001b[0;32m    374\u001b[0m         \u001b[1;32melse\u001b[0m\u001b[1;33m:\u001b[0m\u001b[1;33m\u001b[0m\u001b[1;33m\u001b[0m\u001b[0m\n\u001b[1;32m--> 375\u001b[1;33m             \u001b[0mresponse\u001b[0m \u001b[1;33m=\u001b[0m \u001b[0mconn\u001b[0m\u001b[1;33m.\u001b[0m\u001b[0murlopen\u001b[0m\u001b[1;33m(\u001b[0m\u001b[0mmethod\u001b[0m\u001b[1;33m,\u001b[0m \u001b[0mu\u001b[0m\u001b[1;33m.\u001b[0m\u001b[0mrequest_uri\u001b[0m\u001b[1;33m,\u001b[0m \u001b[1;33m**\u001b[0m\u001b[0mkw\u001b[0m\u001b[1;33m)\u001b[0m\u001b[1;33m\u001b[0m\u001b[1;33m\u001b[0m\u001b[0m\n\u001b[0m\u001b[0;32m    376\u001b[0m \u001b[1;33m\u001b[0m\u001b[0m\n\u001b[0;32m    377\u001b[0m         \u001b[0mredirect_location\u001b[0m \u001b[1;33m=\u001b[0m \u001b[0mredirect\u001b[0m \u001b[1;32mand\u001b[0m \u001b[0mresponse\u001b[0m\u001b[1;33m.\u001b[0m\u001b[0mget_redirect_location\u001b[0m\u001b[1;33m(\u001b[0m\u001b[1;33m)\u001b[0m\u001b[1;33m\u001b[0m\u001b[1;33m\u001b[0m\u001b[0m\n",
      "\u001b[1;32mc:\\users\\partiran\\django_project\\venv\\lib\\site-packages\\urllib3\\connectionpool.py\u001b[0m in \u001b[0;36murlopen\u001b[1;34m(self, method, url, body, headers, retries, redirect, assert_same_host, timeout, pool_timeout, release_conn, chunked, body_pos, **response_kw)\u001b[0m\n\u001b[0;32m    701\u001b[0m \u001b[1;33m\u001b[0m\u001b[0m\n\u001b[0;32m    702\u001b[0m             \u001b[1;31m# Make the request on the httplib connection object.\u001b[0m\u001b[1;33m\u001b[0m\u001b[1;33m\u001b[0m\u001b[1;33m\u001b[0m\u001b[0m\n\u001b[1;32m--> 703\u001b[1;33m             httplib_response = self._make_request(\n\u001b[0m\u001b[0;32m    704\u001b[0m                 \u001b[0mconn\u001b[0m\u001b[1;33m,\u001b[0m\u001b[1;33m\u001b[0m\u001b[1;33m\u001b[0m\u001b[0m\n\u001b[0;32m    705\u001b[0m                 \u001b[0mmethod\u001b[0m\u001b[1;33m,\u001b[0m\u001b[1;33m\u001b[0m\u001b[1;33m\u001b[0m\u001b[0m\n",
      "\u001b[1;32mc:\\users\\partiran\\django_project\\venv\\lib\\site-packages\\urllib3\\connectionpool.py\u001b[0m in \u001b[0;36m_make_request\u001b[1;34m(self, conn, method, url, timeout, chunked, **httplib_request_kw)\u001b[0m\n\u001b[0;32m    447\u001b[0m                     \u001b[1;31m# Python 3 (including for exceptions like SystemExit).\u001b[0m\u001b[1;33m\u001b[0m\u001b[1;33m\u001b[0m\u001b[1;33m\u001b[0m\u001b[0m\n\u001b[0;32m    448\u001b[0m                     \u001b[1;31m# Otherwise it looks like a bug in the code.\u001b[0m\u001b[1;33m\u001b[0m\u001b[1;33m\u001b[0m\u001b[1;33m\u001b[0m\u001b[0m\n\u001b[1;32m--> 449\u001b[1;33m                     \u001b[0msix\u001b[0m\u001b[1;33m.\u001b[0m\u001b[0mraise_from\u001b[0m\u001b[1;33m(\u001b[0m\u001b[0me\u001b[0m\u001b[1;33m,\u001b[0m \u001b[1;32mNone\u001b[0m\u001b[1;33m)\u001b[0m\u001b[1;33m\u001b[0m\u001b[1;33m\u001b[0m\u001b[0m\n\u001b[0m\u001b[0;32m    450\u001b[0m         \u001b[1;32mexcept\u001b[0m \u001b[1;33m(\u001b[0m\u001b[0mSocketTimeout\u001b[0m\u001b[1;33m,\u001b[0m \u001b[0mBaseSSLError\u001b[0m\u001b[1;33m,\u001b[0m \u001b[0mSocketError\u001b[0m\u001b[1;33m)\u001b[0m \u001b[1;32mas\u001b[0m \u001b[0me\u001b[0m\u001b[1;33m:\u001b[0m\u001b[1;33m\u001b[0m\u001b[1;33m\u001b[0m\u001b[0m\n\u001b[0;32m    451\u001b[0m             \u001b[0mself\u001b[0m\u001b[1;33m.\u001b[0m\u001b[0m_raise_timeout\u001b[0m\u001b[1;33m(\u001b[0m\u001b[0merr\u001b[0m\u001b[1;33m=\u001b[0m\u001b[0me\u001b[0m\u001b[1;33m,\u001b[0m \u001b[0murl\u001b[0m\u001b[1;33m=\u001b[0m\u001b[0murl\u001b[0m\u001b[1;33m,\u001b[0m \u001b[0mtimeout_value\u001b[0m\u001b[1;33m=\u001b[0m\u001b[0mread_timeout\u001b[0m\u001b[1;33m)\u001b[0m\u001b[1;33m\u001b[0m\u001b[1;33m\u001b[0m\u001b[0m\n",
      "\u001b[1;32mc:\\users\\partiran\\django_project\\venv\\lib\\site-packages\\urllib3\\packages\\six.py\u001b[0m in \u001b[0;36mraise_from\u001b[1;34m(value, from_value)\u001b[0m\n",
      "\u001b[1;32mc:\\users\\partiran\\django_project\\venv\\lib\\site-packages\\urllib3\\connectionpool.py\u001b[0m in \u001b[0;36m_make_request\u001b[1;34m(self, conn, method, url, timeout, chunked, **httplib_request_kw)\u001b[0m\n\u001b[0;32m    442\u001b[0m                 \u001b[1;31m# Python 3\u001b[0m\u001b[1;33m\u001b[0m\u001b[1;33m\u001b[0m\u001b[1;33m\u001b[0m\u001b[0m\n\u001b[0;32m    443\u001b[0m                 \u001b[1;32mtry\u001b[0m\u001b[1;33m:\u001b[0m\u001b[1;33m\u001b[0m\u001b[1;33m\u001b[0m\u001b[0m\n\u001b[1;32m--> 444\u001b[1;33m                     \u001b[0mhttplib_response\u001b[0m \u001b[1;33m=\u001b[0m \u001b[0mconn\u001b[0m\u001b[1;33m.\u001b[0m\u001b[0mgetresponse\u001b[0m\u001b[1;33m(\u001b[0m\u001b[1;33m)\u001b[0m\u001b[1;33m\u001b[0m\u001b[1;33m\u001b[0m\u001b[0m\n\u001b[0m\u001b[0;32m    445\u001b[0m                 \u001b[1;32mexcept\u001b[0m \u001b[0mBaseException\u001b[0m \u001b[1;32mas\u001b[0m \u001b[0me\u001b[0m\u001b[1;33m:\u001b[0m\u001b[1;33m\u001b[0m\u001b[1;33m\u001b[0m\u001b[0m\n\u001b[0;32m    446\u001b[0m                     \u001b[1;31m# Remove the TypeError from the exception chain in\u001b[0m\u001b[1;33m\u001b[0m\u001b[1;33m\u001b[0m\u001b[1;33m\u001b[0m\u001b[0m\n",
      "\u001b[1;32m~\\AppData\\Local\\Programs\\Python\\Python39\\lib\\http\\client.py\u001b[0m in \u001b[0;36mgetresponse\u001b[1;34m(self)\u001b[0m\n\u001b[0;32m   1343\u001b[0m         \u001b[1;32mtry\u001b[0m\u001b[1;33m:\u001b[0m\u001b[1;33m\u001b[0m\u001b[1;33m\u001b[0m\u001b[0m\n\u001b[0;32m   1344\u001b[0m             \u001b[1;32mtry\u001b[0m\u001b[1;33m:\u001b[0m\u001b[1;33m\u001b[0m\u001b[1;33m\u001b[0m\u001b[0m\n\u001b[1;32m-> 1345\u001b[1;33m                 \u001b[0mresponse\u001b[0m\u001b[1;33m.\u001b[0m\u001b[0mbegin\u001b[0m\u001b[1;33m(\u001b[0m\u001b[1;33m)\u001b[0m\u001b[1;33m\u001b[0m\u001b[1;33m\u001b[0m\u001b[0m\n\u001b[0m\u001b[0;32m   1346\u001b[0m             \u001b[1;32mexcept\u001b[0m \u001b[0mConnectionError\u001b[0m\u001b[1;33m:\u001b[0m\u001b[1;33m\u001b[0m\u001b[1;33m\u001b[0m\u001b[0m\n\u001b[0;32m   1347\u001b[0m                 \u001b[0mself\u001b[0m\u001b[1;33m.\u001b[0m\u001b[0mclose\u001b[0m\u001b[1;33m(\u001b[0m\u001b[1;33m)\u001b[0m\u001b[1;33m\u001b[0m\u001b[1;33m\u001b[0m\u001b[0m\n",
      "\u001b[1;32m~\\AppData\\Local\\Programs\\Python\\Python39\\lib\\http\\client.py\u001b[0m in \u001b[0;36mbegin\u001b[1;34m(self)\u001b[0m\n\u001b[0;32m    305\u001b[0m         \u001b[1;31m# read until we get a non-100 response\u001b[0m\u001b[1;33m\u001b[0m\u001b[1;33m\u001b[0m\u001b[1;33m\u001b[0m\u001b[0m\n\u001b[0;32m    306\u001b[0m         \u001b[1;32mwhile\u001b[0m \u001b[1;32mTrue\u001b[0m\u001b[1;33m:\u001b[0m\u001b[1;33m\u001b[0m\u001b[1;33m\u001b[0m\u001b[0m\n\u001b[1;32m--> 307\u001b[1;33m             \u001b[0mversion\u001b[0m\u001b[1;33m,\u001b[0m \u001b[0mstatus\u001b[0m\u001b[1;33m,\u001b[0m \u001b[0mreason\u001b[0m \u001b[1;33m=\u001b[0m \u001b[0mself\u001b[0m\u001b[1;33m.\u001b[0m\u001b[0m_read_status\u001b[0m\u001b[1;33m(\u001b[0m\u001b[1;33m)\u001b[0m\u001b[1;33m\u001b[0m\u001b[1;33m\u001b[0m\u001b[0m\n\u001b[0m\u001b[0;32m    308\u001b[0m             \u001b[1;32mif\u001b[0m \u001b[0mstatus\u001b[0m \u001b[1;33m!=\u001b[0m \u001b[0mCONTINUE\u001b[0m\u001b[1;33m:\u001b[0m\u001b[1;33m\u001b[0m\u001b[1;33m\u001b[0m\u001b[0m\n\u001b[0;32m    309\u001b[0m                 \u001b[1;32mbreak\u001b[0m\u001b[1;33m\u001b[0m\u001b[1;33m\u001b[0m\u001b[0m\n",
      "\u001b[1;32m~\\AppData\\Local\\Programs\\Python\\Python39\\lib\\http\\client.py\u001b[0m in \u001b[0;36m_read_status\u001b[1;34m(self)\u001b[0m\n\u001b[0;32m    266\u001b[0m \u001b[1;33m\u001b[0m\u001b[0m\n\u001b[0;32m    267\u001b[0m     \u001b[1;32mdef\u001b[0m \u001b[0m_read_status\u001b[0m\u001b[1;33m(\u001b[0m\u001b[0mself\u001b[0m\u001b[1;33m)\u001b[0m\u001b[1;33m:\u001b[0m\u001b[1;33m\u001b[0m\u001b[1;33m\u001b[0m\u001b[0m\n\u001b[1;32m--> 268\u001b[1;33m         \u001b[0mline\u001b[0m \u001b[1;33m=\u001b[0m \u001b[0mstr\u001b[0m\u001b[1;33m(\u001b[0m\u001b[0mself\u001b[0m\u001b[1;33m.\u001b[0m\u001b[0mfp\u001b[0m\u001b[1;33m.\u001b[0m\u001b[0mreadline\u001b[0m\u001b[1;33m(\u001b[0m\u001b[0m_MAXLINE\u001b[0m \u001b[1;33m+\u001b[0m \u001b[1;36m1\u001b[0m\u001b[1;33m)\u001b[0m\u001b[1;33m,\u001b[0m \u001b[1;34m\"iso-8859-1\"\u001b[0m\u001b[1;33m)\u001b[0m\u001b[1;33m\u001b[0m\u001b[1;33m\u001b[0m\u001b[0m\n\u001b[0m\u001b[0;32m    269\u001b[0m         \u001b[1;32mif\u001b[0m \u001b[0mlen\u001b[0m\u001b[1;33m(\u001b[0m\u001b[0mline\u001b[0m\u001b[1;33m)\u001b[0m \u001b[1;33m>\u001b[0m \u001b[0m_MAXLINE\u001b[0m\u001b[1;33m:\u001b[0m\u001b[1;33m\u001b[0m\u001b[1;33m\u001b[0m\u001b[0m\n\u001b[0;32m    270\u001b[0m             \u001b[1;32mraise\u001b[0m \u001b[0mLineTooLong\u001b[0m\u001b[1;33m(\u001b[0m\u001b[1;34m\"status line\"\u001b[0m\u001b[1;33m)\u001b[0m\u001b[1;33m\u001b[0m\u001b[1;33m\u001b[0m\u001b[0m\n",
      "\u001b[1;32m~\\AppData\\Local\\Programs\\Python\\Python39\\lib\\socket.py\u001b[0m in \u001b[0;36mreadinto\u001b[1;34m(self, b)\u001b[0m\n\u001b[0;32m    702\u001b[0m         \u001b[1;32mwhile\u001b[0m \u001b[1;32mTrue\u001b[0m\u001b[1;33m:\u001b[0m\u001b[1;33m\u001b[0m\u001b[1;33m\u001b[0m\u001b[0m\n\u001b[0;32m    703\u001b[0m             \u001b[1;32mtry\u001b[0m\u001b[1;33m:\u001b[0m\u001b[1;33m\u001b[0m\u001b[1;33m\u001b[0m\u001b[0m\n\u001b[1;32m--> 704\u001b[1;33m                 \u001b[1;32mreturn\u001b[0m \u001b[0mself\u001b[0m\u001b[1;33m.\u001b[0m\u001b[0m_sock\u001b[0m\u001b[1;33m.\u001b[0m\u001b[0mrecv_into\u001b[0m\u001b[1;33m(\u001b[0m\u001b[0mb\u001b[0m\u001b[1;33m)\u001b[0m\u001b[1;33m\u001b[0m\u001b[1;33m\u001b[0m\u001b[0m\n\u001b[0m\u001b[0;32m    705\u001b[0m             \u001b[1;32mexcept\u001b[0m \u001b[0mtimeout\u001b[0m\u001b[1;33m:\u001b[0m\u001b[1;33m\u001b[0m\u001b[1;33m\u001b[0m\u001b[0m\n\u001b[0;32m    706\u001b[0m                 \u001b[0mself\u001b[0m\u001b[1;33m.\u001b[0m\u001b[0m_timeout_occurred\u001b[0m \u001b[1;33m=\u001b[0m \u001b[1;32mTrue\u001b[0m\u001b[1;33m\u001b[0m\u001b[1;33m\u001b[0m\u001b[0m\n",
      "\u001b[1;31mKeyboardInterrupt\u001b[0m: "
     ]
    }
   ],
   "source": [
    "ted_list = []\n",
    "\n",
    "path = 'C:/Users/Partiran/Desktop/data.csv'\n",
    "\n",
    "ted_sheet = get_sheet(\n",
    "    file_name=path,\n",
    "    name_columns_by_row=0\n",
    ")\n",
    "\n",
    "for title, author, date, views, likes, link in zip(\n",
    "            ted_sheet.column['title'],\n",
    "            ted_sheet.column['author'],\n",
    "            ted_sheet.column['date'],\n",
    "            ted_sheet.column['views'],\n",
    "            ted_sheet.column['likes'],\n",
    "            ted_sheet.column['link'],\n",
    "        ):\n",
    "            link = link.strip()\n",
    "            talk_dict = {\n",
    "                'title': title,\n",
    "                'author': author,\n",
    "                'date': date,\n",
    "                'views': views,\n",
    "                'likes': likes,\n",
    "                'link': link,\n",
    "                'transcript': ''\n",
    "            }\n",
    "            complete_text = ''\n",
    "            talk_url = link +'/transcript'\n",
    "            browser.get(talk_url)\n",
    "\n",
    "            complete_text = ''\n",
    "            html = browser.page_source\n",
    "            soup = BeautifulSoup(html, 'lxml')\n",
    "            for i in  soup.findAll(\"span\", {\"class\": \"cursor-pointer\"}):\n",
    "                complete_text+=i.text\n",
    "            #     print (i.text)\n",
    "\n",
    "            talk_dict['transcript'] = complete_text\n",
    "            ted_list.append(talk_dict)"
   ]
  },
  {
   "cell_type": "code",
   "execution_count": 25,
   "id": "277129e8",
   "metadata": {},
   "outputs": [
    {
     "data": {
      "text/plain": [
       "[{'title': 'Climate action needs new frontline leadership',\n",
       "  'author': 'Ozawa Bineshi Albert',\n",
       "  'date': 'December 2021',\n",
       "  'views': 404000,\n",
       "  'likes': 12000,\n",
       "  'link': 'https://ted.com/talks/ozawa_bineshi_albert_climate_action_needs_new_frontline_leadership',\n",
       "  'transcript': 'Yuchi: F’as@^. English: Good afternoon. I come from the Yuchi\\nand Anishinaabe nations. My home is in Oklahoma. I have been a community organizer\\nfor Indigenous rights, environmental justice and climate justice for more than 30 years. I don\\'t believe that I\\'m old enough\\nto do anything for that long, but here I am. (Applause) I\\'m an Indigenous woman who lives\\nin the heart of oil and gas country. And what that means for me\\nis that I am in a constant state of thinking about the environment\\nand climate change. And so I want to share\\na few things that I know and have learned\\nalong the way in my work. One is, we cannot rely on those\\nwho created the problem to fix it. (Applause) Two, we need to move with an urgency\\nthat is not happening now. And three, we need leaders\\nwho are experiencing the harm to be the ones coming up\\nwith the solutions. So it is clear that world leaders\\nare looking for solutions to this climate crisis, but they are looking for them\\nthrough a lens of the economy. And so that means they are moving\\nwith a casualness that doesn\\'t make it seem\\nlike there\\'s a real emergency. And they’re also being sold, then,\\nsolutions that are basically band-aids and not actual cures to the problem. They\\'re being sold techno fixes\\nand market schemes that really maintain business as usual. And instead, we need to be thinking\\nabout what could be different. So I was recently at the United Nations\\nConference on Climate Change, COP26, that just happened in Glasgow, Scotland,\\njust this past month. And it was apparent to me that those who created the agenda\\nare also part of the problem. First of all, they created an admittance policy\\nthat was really a policy of exclusion for many grassroots communities\\nacross the world and especially those of the global south. That policy also ensured that the largest badge delegation at COP\\nwere fossil fuel lobbyists. Can you believe that? Actually, I can, because this has been sort of the norm\\nat COP since its beginning. Which is why we need a shift in who are the leaders\\nthat they\\'re listening to. And the shift in leadership\\nare coming up with the solutions. We need the knowledge and expertise\\nof those at the frontline. And by frontline I mean, those communities and peoples\\nwho are experiencing climate change today and some who have been experiencing\\nthe harmful effects of climate change for decades now. Those are the frontline leaders that we need to be looking to\\nfor their expertise. So I want you to imagine with me, if at that negotiating table at COP, if those who were dealing\\nwith the actual harms today were in that room\\nand negotiating the solutions. What if the people who have been\\nliving sustainable lifestyles and in relationship with the land had been some of those folks\\nin the room making those decisions? What would it have been like if grassroots leaders had been given\\nsignificant participation in those negotiations? What would be different? Well, first off, this global climate conference\\nwould not have led with net-zero as the solution to this\\nclimate crisis we\\'re in. Net-zero -- not actually eliminating\\ngreenhouse gas emissions -- but net-zero being a sort of greenwashing\\nof business as usual. It basically means that you can\\nwash your hands of pollution in one community if you can afford to participate\\nin a few offset programs. So, for example, you can invest in the continued existence\\nof a forest in South America, of Indigenous peoples in their lands\\nthat should capture carbon. What it means then, you are, in theory, obligated from the harm\\nthat you\\'ve caused a pollution at a facility in another\\nlow-income community -- and very likely community of color --\\nin another part of the world. That\\'s just wrong. And it just doesn\\'t work. I mean, I know people, real people, I know their names and their families\\non both ends of the spectrum, of the net-zero spectrum. I know people who live at the fence line\\nof harmful oil refineries who are polluting their communities, and I know the Indigenous people\\nwho are farming the forests in Brazil. And neither of those communities\\nare benefiting from these programs in ways that are building empowerment\\nfor their communities and building sustainability\\nfor their communities, and they\\'re often pressured\\ninto these programs with little or no choice. So I want to try to explain\\nnet-zero a little bit differently in a way that might be\\na little more tangible. If you think about it as, kind of,\\nlike the net part of your paycheck. You get a job, you negotiate a pay and you feel really excited about that. But on that first day, that first payday, you feel the crunch of it\\'s a lot less\\nthan you thought it was going to be. And it\\'s the same with the net-zero\\nemission targets, right? It sounds good on the front end, but when it all comes out in the wash, it\\'s much less than what\\nwe need to have happen to impact real significant\\nchange right now. So what we need is a shift in leadership. We need leaders who are moving\\nwith the urgency that people are feeling harm\\nand hurt today. And we need leaders who are moving\\nwith the values about community and about the land\\nand the relationship with land. Those are the kind of leaders that we need\\nto have leading with the solutions and the negotiations of addressing\\nthis problem on a worldwide level. So that kind of leadership, if we just shifted those two things\\nabout urgency and values, that would help all of us worldwide. Because what we need\\nis a set of leadership that is going to do the work\\nthat we need to have done, which is to move away from dirty,\\nextractive, harmful energy to solutions that are local,\\ncommunity-based, community-held, regenerative energy models. And they exist. They exist in communities\\nwhere people are saying, \"Hey, if the government\\nis not going to help us, we’re going to do\\nwhat we need to do right now.” And they are doing these projects\\nin their communities. So instead of investing\\nin a carbon capture project that aims to put carbon\\npollution into the ground, a technology that\\'s not been\\nproven to really work and still puts communities at harm because it relies on the continued\\nexistence and construction of harmful pipelines that are dangerous, prone to leaks and even\\nexplosions sometimes. And so -- But these community projects\\nare happening and they\\'re having success, and I want to share a few with you. So in Richmond, California -- between two cities and next to a major Chevron oil refinery that is spewing out greenhouse gases and other toxic chemicals\\ninto the neighborhood -- community leaders worked\\nwith community organizations like Asian Pacific Environmental Network, Rich City Rides, Urban Tilth and Communities for a Better Environment. And they took on Chevron\\nto hold them accountable and won. And won resources to build\\na solar farm in their community. They also built a bike co-op to encourage young people\\nand others to bike in the city and built community gardens to grow healthy organic food\\nfor themselves and schools. (Applause) In rural Kentucky, a community, a rural community who has long relied\\non coal to fuel their community, they\\'ve been organizing with Kentuckians\\nfor the Commonwealth and also created a solar project that is helping low-income families\\nreduce their utility costs and created thousands of jobs. In the Four Corners area of Arizona,\\nNative Renewables, a woman-led Navajo Hopi organization is providing electricity\\nfrom solar to off-grid homes. A community that has long been harmed by the devastating effects\\nof fossil fuel extraction, is now able to rely on an energy source\\nthat is clean and Indigenous-led. (Applause) After hurricane Maria devastated\\nthe islands of Puerto Rico, Organización Boricuá worked\\nwith local farmers to provide direct and immediate\\nsupport to those communities by providing water, shelter, health, food, the weekly agro ecological\\nbrigades and solidarity brigades, and they rebuilt homes\\nand rebuilt farming infrastructure to make sure that they maintained\\nfood sovereignty. In Brooklyn, New York, in a highly industrial\\nneighborhood of Sunset Park, the community organization UPROSE helped lead an effort\\nto create a solar farm, a first community solar co-op\\nin the state of New York. It is an 80,000 square foot\\nrooftop solar garden that again is providing\\naffordable energy to the neighborhood and to small businesses as well. The fight against the Line 3 pipeline\\nin Minnesota and other states has highlighted the amount of water\\nthat those types of projects have used. And it\\'s caused a threat\\nto the natural wild rice that grows in the lakes there. And so community people\\nhave worked to hold state and federal agencies accountable\\nfor water standards in order to protect\\ntheir cultural preservation and the wild rice. And in New Jersey,\\nIronbound Community Corporation, along with the New Jersey\\nEnvironmental Justice Alliance, has helped push legislation that has enabled the state\\nto deny permits, any new permits, to already\\noverburdened, overpolluted neighborhoods. And it\\'s set a standard\\nfor other states to use, which has become a historic environmental\\njustice legislation for the country. These are the kinds of solutions\\nthat we need to see happen. These are the kind of leadership\\nthat we need to see happen, and we need these solutions happening\\nby the thousands nationwide and even globally. Because these solutions\\nare not only attacking the emissions at their source, but they\\'re doing it by providing jobs and wages and policies that are addressing racism\\nand colonialism and economic inequity. This is the kind of leadership we need. We need this dramatic\\nshift to help us all. This dramatic shift in leadership. Just these two things: The urgency in which we move and the values on which we move with. My grandmothers taught me\\nthat we need to have care, responsibility and action\\nwhen it comes to our community. And those are the kind of leaders\\nthat we need leading this fight. And if we are going to be serious\\nabout addressing this climate crisis, here are the steps\\nthat I need people to do. I need you to bring frontline leaders\\ninto those negotiating spaces. Bring them in. Ask them what\\'s happening\\nand the harms that are happening. Ask them what needs to be done. And listen, hear them. And then invest and implement\\nin exactly what they said in the exact ways they said to do it, because those changes are the changes that are going to stop the problems\\nthat we\\'re having and then stop the acceleration\\nof the climate crisis. And it\\'s going to help slow down\\nthe violence of the storms and the sicknesses\\nthat people are dealing with, with conditions like asthma and others. And it\\'s going to stop, you know, the continued drought and wildfires. Those are the solutions\\nthat we need to have happen. And I need you all to help carry, not only the ask to shift that\\nfor our communities, but also those values. So I ask you, I invite you\\nto join me in this, and I challenge you to go out and challenge our elected\\nleaders and others. And if they\\'re not doing the right job, then tell them who the leaders are\\nthat need to be there. We need frontline leaders\\nto be in the spaces. Thank you. (Applause) '},\n",
       " {'title': 'The dark history of the overthrow of Hawaii',\n",
       "  'author': 'Sydney Iaukea',\n",
       "  'date': 'February 2022',\n",
       "  'views': 214000,\n",
       "  'likes': 6400,\n",
       "  'link': 'https://ted.com/talks/sydney_iaukea_the_dark_history_of_the_overthrow_of_hawaii',\n",
       "  'transcript': 'It was January 16th, 1895. Two men arrived at Lili’uokalani’s door,\\narrested her, and led her to the room\\nwhere she would be imprisoned. A group had recently seized power\\nand now confiscated her diaries, ransacked her house, \\nclaimed her lands, and hid her away. Lili’uokalani was Hawaii’s queen. And she ruled through one of the most\\nturbulent periods of its history. 75 years earlier, American missionaries\\nfirst arrived in Hawaii. They quickly amassed power,\\nbuilding businesses and claiming arable land \\nthat they transformed into plantations. They worked closely with the ali’i, or sacred Hawaiian nobility \\nclosely linked to the Gods. The ali’i appointed missionaries \\nto government roles where they helped establish Hawaii \\nas a sovereign kingdom with a constitutional monarchy. But once certain business \\nopportunities emerged— namely, the prospect of exporting sugar\\nto the US tariff-free— some of their descendants\\nshifted positions. They formed a political group \\nknown as “the Missionary Party” and began plotting to annex Hawaii,\\nbringing it under US control. Lili’uokalani and her siblings were born\\ninto an ali’i family. In 1874, her brother, Kalākaua, \\nascended the throne, but thirteen years into his reign,\\nthe emerging threat crystallized. The Missionary Party called a meeting\\nwhere an all-white militia surrounded and forced the king \\nto sign new legislation. Later called the Bayonet Constitution, it stripped Native Hawaiians \\nof their rights, diminished the monarchy’s power, and ceded control to this group\\nof white businessmen. Four years later, King Kalākaua died, heartbroken, Lili’uokalani said, “by the base ingratitude of the very \\npersons whose fortunes he had made.” Prepared to fight, she assumed the throne. Despite death threats \\nand rumors of insurgency, Queen Lili’uokalani was determined\\nto restore power to her people— an estimated two thirds of whom \\nhad lost their voting rights. Flooded with requests for change, \\nshe authored a new constitution. But before she introduced it, \\nthe so-called “Committee of Safety,” a new organization that consisted \\nof many Missionary Party members, hatched another plot. Under the false pretense \\nthat this new constitution endangered American property and lives, they staged a coup on January 17th, 1893. More than 160 US Marines\\nmarched to the palace, where the “Committee of Safety” \\nremoved Queen Lili’uokalani from office. Thousands of Hawaiian people protested, some wearing hat bands reading, \\n“Aloha ’Āina,” or “love of the nation.” The alleged “Provisional Government”\\ndeclared Hawaii a Republic the following year. They proclaimed \\nthat Hawaiians couldn’t vote or be government employees without signing\\na new “oath of allegiance.” Many refused. The following year, \\nsome of Lili’uokalani’s supporters attempted a counterrevolution. The Republic responded brutally, jailing hundreds\\nand sentencing six people to death. In exchange for their release, the Republic made Lili’uokalani \\nsign a document that claimed to relinquish her throne,\\nand they imprisoned her in the palace. Under constant guard, she composed songs \\nexpressing her love for her people and began making a patchwork quilt\\nthat told the story of her life. While she was only allowed news\\nthat had been reviewed by her jailers, her supporters often brought her bouquets\\nfrom the garden she’d dedicated to them, wrapped in newspaper. After 8 months, Lili’uokalani was placed \\nunder house arrest. As soon as it was lifted, she traveled\\nto Washington, D.C. with Hawaiian nationalists\\nand over 20,000 signatures. There they successfully convinced Congress\\nto halt the Republic’s annexation treaty. But the following year, \\nthe Spanish-American War began. Seeing Hawaii \\nas a strategic military base, President William McKinley declared \\nit a US territory on July 7th, 1898— breaking international law and devastating\\nQueen Lili’uokalani and her people. She spent the rest of her life petitioning\\nfor the restoration of her lands, Native Hawaiian rights, \\nand national liberation. When she died in 1917, \\nthese dreams were unrealized. A member of the group that forced \\nQueen Lili’uokalani out of office once declared, “If we are ever to have \\npeace and annexation the first thing to do \\nis obliterate the past.” They failed at this goal. Queen Lili’uokalani left\\na resilient legacy: Her commitment to her land and people\\nnever wavered and many Hawaiians continue to fight\\nin her memory. Speaking of Hawaii’s children,\\nQueen Lili’uokalani said, “It is for them that I would give\\nthe last drop of my blood.” '},\n",
       " {'title': 'How play can spark new ideas for your business',\n",
       "  'author': 'Martin Reeves',\n",
       "  'date': 'September 2021',\n",
       "  'views': 412000,\n",
       "  'likes': 12000,\n",
       "  'link': 'https://ted.com/talks/martin_reeves_how_play_can_spark_new_ideas_for_your_business',\n",
       "  'transcript': \"Have you ever trodden\\non a Lego brick in your bare feet? You’re tiptoeing through\\nyour lounge late at night, and suddenly that stabbing pain, the expletives and the inevitable question: “Why do we have so much of this stuff\\nall over the place?” Well, that’s really quite simple. Your kids love playing with it, so you buy more. And a confession -- I love to watch my kids play with Lego. Especially good is when\\nI see them inventing their own rules and their own worlds. So here are my daughters, last Saturday, making something out of different kits and pieces of string and pieces of wood and dolls\\nand other objects. And I asked them, “What is it?” And they said to me, “Dad, of course\\nit’s a princess flying on a dragon to visit farm animals in New York.” Of course, what else could it be? Kids at play inspire me. They’re not afraid to ask, “What if” and “Why not?” But what kids implicitly know\\nthat adults tend to forget is that play isn’t just about fun. Now, as a biologist, I know that play\\nis spontaneous and pleasurable -- as you can see by the smiles\\nin this photograph -- but also, it accelerates\\nand derisks learning. It helps kids to try out new behaviors, to refine those behaviors and to imagine what is not but what could be or what will be. As a business strategist\\ndealing with adults, I still recommend play. In fact, play in business\\nis not just possible, I’d argue that it’s essential and even urgent. And here’s why. Competitive advantage fades away\\nfaster than any time in recent memory. In the 1980s, if you had a performance edge\\nover your competitors, you could reasonably expect to continue\\nbeing a leader for around 10 years, on average. But now the half-life of that advantage\\nhas shrunk to just one year. That means that short-lived success\\nis actually still very common, but sustained success  becomes very hard and very rare. That means that, actually, reimagination\\nis the new execution. In order to stay on top, or even just to tread water\\nand stay still, you need to constantly\\nreimagine your business. But that’s not so simple if you already have\\na highly successful business model. We become prisoners of the mental models\\nthat underpin our past success. In fact, I found\\nin dealing with businesses that you can’t really\\nstretch your strategy unless you stretch your mind. Now play is of course a great way\\nof stretching your mind. Now -- I mean, there’d be no mistake, I’m not suggesting literally that executives huddle around\\na conference table with a big pile of Lego bricks -- although I’ve done that,\\nand that works too. But instead, I’ve created a series\\nof imagination games to help executives\\nto stretch their thinking. Would you like to play with me? (Audience nods) Good, I'm glad you said that. OK, so let’s supposing\\nthat you’re stuck in the rut of seeing the world through the lens\\nof your past and current success. I would recommend the “Anti-Company Game,” and here’s how it works. You get a piece of paper, you create a list of everything\\nwhich is essential to your strategy -- everything which underpinned\\nyour past success, everything which is core and sacred -- and then you flip it. You create the exact\\nmirror-image list of assumptions, and then you make the best\\nbusiness case for this antiself. You’ll be surprised\\nat the ideas that it triggers. Supposing, for example,\\nthat you’re the CEO of a hotel chain and playing the game\\nand flipping the assumptions. Let’s assume that, inconveniently, you don’t actually own any hotels or any rooms or even operate any hotels\\nor any rooms anywhere. Ridiculous -- quite possibly -- but actually, how would you know\\nthe difference between ridiculous and the merely unfamiliar,\\nuntried and uncomfortable? And who’s to say that something that seems impractical\\ncan’t actually become and evolve into a more powerful idea? Actually, had the executives of hotels\\nplayed the “Anti-Company Game” before 2007, they might have been able to foresee\\nthe appearance of Airbnb, the hotel-less hospitality company, and they might have been able\\nto stave off disruption by preemptively disrupting themselves. Let’s play another game: “The Maverick Game.” On the edge of your industries -- on the edge of every industry -- are a population of maverick companies that are taking a bet against\\nthe incumbents’ business model and their view of the future. Actually, they have no choice because to be a miniature version\\nof the incumbent would not be viable. Now, it’s easy not to notice them -- many of them are small companies. It's easy to deliberately overlook\\nthem with some justification. Many startups disappear fairly quickly\\nafter being founded. And it’s very, very tempting, given all of your experience\\nin the business, to judge them. Do they know what they’re doing? Does their business model make sense? Will they ever make any money? But instead of judging them\\nfrom the comfort and the confidence of your position, try assuming that it’s they that have\\nthe right bet on the future. Think about the consequences\\nof that for your business model. Try making the best case for their idea. Supposing, for example, that you are the CEO of a company that makes equipment\\nthat makes semiconductors. Naturally, you’d probably spend\\nmost of your time and attention on your main customer industry, the electronics industry. And if it so happened, that a couple of maverick\\nbioscience companies were tinkering with your patents\\nand your technologies, you might overlook that\\nas a distraction, an irrelevance. But actually, Brooks Automation, a leader in the field, decided to take a close-up look\\nat such a group of mavericks to see whether it could learn anything. And what it realized by looking at the world\\nthrough the eyes of these mavericks was that, actually, the same techniques and technologies which can be used\\nto handle delicate semiconductors can also be applied to other fragile\\nand easily contaminated materials, like biological samples. And puzzling on the significance of this, they reimagined how to handle\\nand store and transport and label and identify biological samples. In fact, they became a successful pioneer in the new industry\\nof automated biobanking. So successful, in fact,\\nthat just a couple of days ago, they announced that this was now\\ntheir core business moving forwards. It’s only by focusing\\non these anomalous mavericks that they could see their own path\\nto renewed success and growth. Now, not everything in business\\ngoes according to plan. In fact, sometimes the plans\\ngo horribly awry. But you know what? That can be a source of inspiration, too. To find out how, let’s play the “Pre-Mortem Game.” So your role in this game is to write ... the obituary for your company, which is going to fail\\nwith 100 percent certainty in five years’ time. What is the cause of death? What will have been the point of failure? Why will it have failed? How will it have failed? The challenge here is that it’s easy\\nto be seduced into the baseline fallacy. The baseline fallacy is the idea that it’s the current business model\\nwhich is the low-risk bet. And of course that tends to be true until it isn’t true, at which point it’s probably too late\\nto do anything about it. Now, your employees\\nare an early-warning indicator. They will have intuitions\\nif the model begins to slip, but it’s very hard for them to speak up. And it’s even taboo for them to speak up when the business model is under pressure. But when executives create playgrounds -- spaces for the safe exploration\\nof alternatives and alternative scenarios -- then you get to tap into your employees’\\nconsiderable experience about the vulnerabilities and the weak spots and the blind spots of your company. Does anyone remember visiting recently\\none of these gorgeous marble palaces? No? It’s probably been a while since\\nwe visited the local banking branch. Had bricks-and-mortar banks\\nplayed the “Pre-Mortem Game,” perhaps they would have heard\\ntheir employees expressing some concerns about the gradually dwindling\\nflow of customers to local branches. And perhaps they would have been\\nslightly less taken by surprise when companies like NewBank, a digital native, seized, very rapidly indeed,\\non that opportunity to convince, to date,\\nmore than 40 million Latin Americans that in-person transactions\\nin real buildings were a quaint but obsolete\\nrelic of the past. It’s only when you bring\\nyour vulnerabilities into full view in this way that you may be motivated\\nto reimagine your business and to do so in a robust manner. It’s why the Roman Catholic Church\\ninvented the role, the position of the Devil’s advocate\\nin the 16th century to test the future consequences\\nof its decisions to appoint new saints. They did that by imagining what would Satan say or propose or counterpropose, in addition to the normal procedure\\nof thinking about the big man upstairs. Now, any human being,\\nany employee, any team and therefore any company\\ncan harness human imagination. It’s a defining trait of our species. Failures to imagine in business\\nare really failures of leadership. Business is a serious matter,\\nbut it should not exclude play. When leaders embrace play\\nand imagination games, they can unlock the imagination\\nof their employees, uncover disruptive new strategies and renew their lease on the future. Thank you. (Applause) \"}]"
      ]
     },
     "execution_count": 25,
     "metadata": {},
     "output_type": "execute_result"
    }
   ],
   "source": [
    "ted_list"
   ]
  },
  {
   "cell_type": "code",
   "execution_count": 27,
   "id": "e0638062",
   "metadata": {},
   "outputs": [
    {
     "name": "stderr",
     "output_type": "stream",
     "text": [
      "c:\\users\\partiran\\django_project\\venv\\lib\\site-packages\\urllib3\\connectionpool.py:1043: InsecureRequestWarning: Unverified HTTPS request is being made to host 'localhost'. Adding certificate verification is strongly advised. See: https://urllib3.readthedocs.io/en/1.26.x/advanced-usage.html#ssl-warnings\n",
      "  warnings.warn(\n",
      "C:\\Users\\Partiran\\AppData\\Local\\Temp/ipykernel_2848/819752119.py:19: DeprecationWarning: The 'body' parameter is deprecated and will be removed in a future version. Instead use the 'operations' parameter. See https://github.com/elastic/elasticsearch-py/issues/1698 for more information\n",
      "  res = es.bulk(index = 'ted_index', body = bulk_data)\n",
      "c:\\users\\partiran\\django_project\\venv\\lib\\site-packages\\urllib3\\connectionpool.py:1043: InsecureRequestWarning: Unverified HTTPS request is being made to host 'localhost'. Adding certificate verification is strongly advised. See: https://urllib3.readthedocs.io/en/1.26.x/advanced-usage.html#ssl-warnings\n",
      "  warnings.warn(\n"
     ]
    }
   ],
   "source": [
    "es.indices.create(index = 'ted_index')\n",
    "\n",
    "bulk_data = []\n",
    "\n",
    "i = 0 \n",
    "for each in ted_list:\n",
    "    op_dict = {\n",
    "        \"index\": {\n",
    "            \"_index\": 'ted_index',\n",
    "            \"_id\": i\n",
    "        }\n",
    "    }\n",
    "    i = i+1\n",
    "    data_dict = each\n",
    "        \n",
    "    bulk_data.append(op_dict)\n",
    "    bulk_data.append(data_dict)\n",
    "    \n",
    "res = es.bulk(index = 'ted_index', body = bulk_data)"
   ]
  },
  {
   "cell_type": "code",
   "execution_count": 77,
   "id": "44e6c22d",
   "metadata": {},
   "outputs": [
    {
     "ename": "TypeError",
     "evalue": "Can't use 'document' and 'body' parameters together because 'document' is an alias for 'body'. Instead you should only use the 'document' parameter. See https://github.com/elastic/elasticsearch-py/issues/1698 for more information",
     "output_type": "error",
     "traceback": [
      "\u001b[1;31m---------------------------------------------------------------------------\u001b[0m",
      "\u001b[1;31mTypeError\u001b[0m                                 Traceback (most recent call last)",
      "\u001b[1;32m~\\AppData\\Local\\Temp/ipykernel_1100/863676866.py\u001b[0m in \u001b[0;36m<module>\u001b[1;34m\u001b[0m\n\u001b[0;32m      8\u001b[0m     \u001b[1;34m'timestamp'\u001b[0m\u001b[1;33m:\u001b[0m \u001b[0mdatetime\u001b[0m\u001b[1;33m.\u001b[0m\u001b[0mnow\u001b[0m\u001b[1;33m(\u001b[0m\u001b[1;33m)\u001b[0m\u001b[1;33m,\u001b[0m\u001b[1;33m\u001b[0m\u001b[1;33m\u001b[0m\u001b[0m\n\u001b[0;32m      9\u001b[0m }\n\u001b[1;32m---> 10\u001b[1;33m resp = es.index(index=\"test-index\", id=1, document=doc, body={\n\u001b[0m\u001b[0;32m     11\u001b[0m     \"settings\": {\n\u001b[0;32m     12\u001b[0m         \"analysis\": {\n",
      "\u001b[1;32mc:\\users\\partiran\\django_project\\venv\\lib\\site-packages\\elasticsearch\\_sync\\client\\utils.py\u001b[0m in \u001b[0;36mwrapped\u001b[1;34m(*args, **kwargs)\u001b[0m\n\u001b[0;32m    364\u001b[0m                     \u001b[1;32mif\u001b[0m \u001b[0mbody_name\u001b[0m\u001b[1;33m:\u001b[0m\u001b[1;33m\u001b[0m\u001b[1;33m\u001b[0m\u001b[0m\n\u001b[0;32m    365\u001b[0m                         \u001b[1;32mif\u001b[0m \u001b[0mbody_name\u001b[0m \u001b[1;32min\u001b[0m \u001b[0mkwargs\u001b[0m\u001b[1;33m:\u001b[0m\u001b[1;33m\u001b[0m\u001b[1;33m\u001b[0m\u001b[0m\n\u001b[1;32m--> 366\u001b[1;33m                             raise TypeError(\n\u001b[0m\u001b[0;32m    367\u001b[0m                                 \u001b[1;34mf\"Can't use '{body_name}' and 'body' parameters together because '{body_name}' \"\u001b[0m\u001b[1;33m\u001b[0m\u001b[1;33m\u001b[0m\u001b[0m\n\u001b[0;32m    368\u001b[0m                                 \u001b[1;34m\"is an alias for 'body'. Instead you should only use the \"\u001b[0m\u001b[1;33m\u001b[0m\u001b[1;33m\u001b[0m\u001b[0m\n",
      "\u001b[1;31mTypeError\u001b[0m: Can't use 'document' and 'body' parameters together because 'document' is an alias for 'body'. Instead you should only use the 'document' parameter. See https://github.com/elastic/elasticsearch-py/issues/1698 for more information"
     ]
    }
   ],
   "source": [
    "from datetime import datetime\n",
    "from elasticsearch import Elasticsearch\n",
    "es = Elasticsearch(\"http://localhost:9200\")\n",
    "\n",
    "doc = {\n",
    "    'author': 'kimchy!',\n",
    "    'text': 'Elasticsearch: cool. bonsai cool.!',\n",
    "    'timestamp': datetime.now(),\n",
    "}\n",
    "resp = es.index(index=\"test-index\", id=1, document=doc, body={\n",
    "    \"settings\": {\n",
    "        \"analysis\": {\n",
    "          \"analyzer\": {\n",
    "            \"whitespace_lowercase\": {\n",
    "              \"tokenizer\": \"whitespace\",\n",
    "              \"filter\": [ \"lowercase\" ]\n",
    "            }\n",
    "          }\n",
    "        }\n",
    "      }\n",
    "})\n",
    "print(resp['result'])\n",
    "\n",
    "resp = es.get(index=\"test-index\", id=1)\n",
    "print(resp['_source'])\n",
    "\n",
    "es.indices.refresh(index=\"test-index\")\n",
    "\n",
    "resp = es.search(index=\"test-index\", query={\"match_all\": {}})\n",
    "print(\"Got %d Hits:\" % resp['hits']['total']['value'])\n",
    "for hit in resp['hits']['hits']:\n",
    "    print(\"%(timestamp)s %(author)s: %(text)s\" % hit[\"_source\"])"
   ]
  },
  {
   "cell_type": "code",
   "execution_count": 89,
   "id": "0c164e8b",
   "metadata": {},
   "outputs": [
    {
     "name": "stderr",
     "output_type": "stream",
     "text": [
      "C:\\Users\\Partiran\\AppData\\Local\\Temp/ipykernel_1100/2290693498.py:24: DeprecationWarning: Passing transport options in the API method is deprecated. Use 'Elasticsearch.options()' instead.\n",
      "  es.indices.create(index='index_alaki', ignore=400, body={'settings': {\n",
      "C:\\Users\\Partiran\\AppData\\Local\\Temp/ipykernel_1100/2290693498.py:24: DeprecationWarning: The 'body' parameter is deprecated and will be removed in a future version. Instead use individual parameters.\n",
      "  es.indices.create(index='index_alaki', ignore=400, body={'settings': {\n",
      "C:\\Users\\Partiran\\AppData\\Local\\Temp/ipykernel_1100/2290693498.py:43: DeprecationWarning: The 'body' parameter is deprecated and will be removed in a future version. Instead use the 'document' parameter. See https://github.com/elastic/elasticsearch-py/issues/1698 for more information\n",
      "  outcome = es.index(index='index_alaki', body=record)\n"
     ]
    }
   ],
   "source": [
    "# client.indices.create(\n",
    "#     index=index,\n",
    "#     body={\n",
    "#       'settings': {\n",
    "#         # just one shard, no replicas for testing\n",
    "#         'number_of_shards': 1,\n",
    "#         'number_of_replicas': 0,\n",
    "\n",
    "#         # custom analyzer for analyzing file paths\n",
    "#         'analysis': {\n",
    "#           'analyzer': {\n",
    "#             'file_path': {\n",
    "#               'type': 'custom',\n",
    "#               'tokenizer': 'path_hierarchy',\n",
    "#               'filter': ['lowercase']\n",
    "#             }\n",
    "#           }\n",
    "#         }\n",
    "#       }\n",
    "#     },\n",
    "#     # Will ignore 400 errors, remove to ensure you're prompted\n",
    "#     ignore=400\n",
    "# )\n",
    "es.indices.create(index='index_alaki', ignore=400, body={'settings': {\n",
    "        # just one shard, no replicas for testing\n",
    "        'number_of_shards': 1,\n",
    "        'number_of_replicas': 0,\n",
    "\n",
    "        # custom analyzer for analyzing file paths\n",
    "        'analysis': {\n",
    "          'analyzer': {\n",
    "            'file_path': {\n",
    "              'type': 'custom',\n",
    "              'tokenizer': 'path_hierarchy',\n",
    "              'filter': ['lowercase']\n",
    "            }\n",
    "          }\n",
    "        }\n",
    "      }})\n",
    "\n",
    "record={'name':'AAAAAA',\n",
    "       'Text':'and OR !!'}\n",
    "outcome = es.index(index='index_alaki', body=record)"
   ]
  },
  {
   "cell_type": "code",
   "execution_count": 79,
   "id": "691ae969",
   "metadata": {},
   "outputs": [
    {
     "data": {
      "text/plain": [
       "ObjectApiResponse({'ted_index': {'mappings': {'properties': {'name': {'type': 'text', 'fields': {'keyword': {'type': 'keyword', 'ignore_above': 256}}}, 'text': {'type': 'text', 'fields': {'keyword': {'type': 'keyword', 'ignore_above': 256}}}}}}, 'test-index': {'mappings': {'properties': {'author': {'type': 'text', 'fields': {'keyword': {'type': 'keyword', 'ignore_above': 256}}}, 'text': {'type': 'text', 'fields': {'keyword': {'type': 'keyword', 'ignore_above': 256}}}, 'timestamp': {'type': 'date'}}}}})"
      ]
     },
     "execution_count": 79,
     "metadata": {},
     "output_type": "execute_result"
    }
   ],
   "source": [
    "es.indices.get_mapping()"
   ]
  },
  {
   "cell_type": "code",
   "execution_count": 90,
   "id": "2388ab82",
   "metadata": {},
   "outputs": [
    {
     "data": {
      "text/plain": [
       "ObjectApiResponse({'_index': 'index_alaki', '_id': '9fUq5n8BXQWHveZgHNjb', '_version': 1, 'result': 'created', '_shards': {'total': 1, 'successful': 1, 'failed': 0}, '_seq_no': 0, '_primary_term': 1})"
      ]
     },
     "execution_count": 90,
     "metadata": {},
     "output_type": "execute_result"
    }
   ],
   "source": [
    "outcome"
   ]
  },
  {
   "cell_type": "code",
   "execution_count": 92,
   "id": "28a0333c",
   "metadata": {},
   "outputs": [
    {
     "name": "stderr",
     "output_type": "stream",
     "text": [
      "C:\\Users\\Partiran\\AppData\\Local\\Temp/ipykernel_1100/249450816.py:1: DeprecationWarning: The 'body' parameter is deprecated and will be removed in a future version. Instead use individual parameters.\n",
      "  es.search(body={\"query\": {\"match_all\": {}}}, index = 'index_alaki')\n"
     ]
    },
    {
     "data": {
      "text/plain": [
       "ObjectApiResponse({'took': 1, 'timed_out': False, '_shards': {'total': 1, 'successful': 1, 'skipped': 0, 'failed': 0}, 'hits': {'total': {'value': 1, 'relation': 'eq'}, 'max_score': 1.0, 'hits': [{'_index': 'index_alaki', '_id': '9fUq5n8BXQWHveZgHNjb', '_score': 1.0, '_source': {'name': 'AAAAAA', 'Text': 'and OR !!'}}]}})"
      ]
     },
     "execution_count": 92,
     "metadata": {},
     "output_type": "execute_result"
    }
   ],
   "source": [
    "es.search(body={\"query\": {\"match_all\": {}}}, index = 'index_alaki')"
   ]
  },
  {
   "cell_type": "code",
   "execution_count": null,
   "id": "fa69b3f8",
   "metadata": {},
   "outputs": [],
   "source": [
    "\"settings\": {\n",
    "        \"analysis\" : {\n",
    "            \"analyzer\" : {\n",
    "                \"my_analyzer\" : {\n",
    "                    \"tokenizer\" : \"standard\",\n",
    "                    \"filter\" : [\"standard\", \"lowercase\", \"my_snow\", \"my_stop\"]\n",
    "                }\n",
    "            },\n",
    "            \"filter\" : {\n",
    "                \"my_snow\" : {\n",
    "                    \"type\" : \"snowball\",\n",
    "                    \"language\": \"English\"\n",
    "\n",
    "                },\n",
    "                \"my_stop\": {\n",
    "                    \"type\":       \"stop\",\n",
    "                    \"stopwords\":  \"_english_\"\n",
    "                }\n",
    "            }\n",
    "        }\n",
    "    },\n",
    "    \"mappings\": {\n",
    "      \"doc\": {\n",
    "            \"_source\": {\n",
    "                \"enabled\": true\n",
    "            },\n",
    "            \"properties\": {\n",
    "                \"title\": {\n",
    "                    \"type\": \"text\",\n",
    "                    \"index\": \"true\",\n",
    "                    \"store\": true,\n",
    "                    \"analyzer\": \"my_analyzer\"\n",
    "                }\n",
    "            }\n",
    "        }\n",
    "    }"
   ]
  }
 ],
 "metadata": {
  "kernelspec": {
   "display_name": "Python 3 (ipykernel)",
   "language": "python",
   "name": "python3"
  },
  "language_info": {
   "codemirror_mode": {
    "name": "ipython",
    "version": 3
   },
   "file_extension": ".py",
   "mimetype": "text/x-python",
   "name": "python",
   "nbconvert_exporter": "python",
   "pygments_lexer": "ipython3",
   "version": "3.10.7"
  }
 },
 "nbformat": 4,
 "nbformat_minor": 5
}
